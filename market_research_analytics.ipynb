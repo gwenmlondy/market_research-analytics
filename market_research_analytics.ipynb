{
 "cells": [
  {
   "cell_type": "markdown",
   "metadata": {},
   "source": [
    "# Market Research - Small Robot-Run cafe in Los Angeles"
   ]
  },
  {
   "cell_type": "markdown",
   "metadata": {},
   "source": [
    " ## Contents <a id='back'></a>\n",
    " * [Introduction](#intro)\n",
    "     * [Project Puropse](#project_puropse)\n",
    "     * [Data Description](#data_description)\n",
    "     * [Task decomposition](#data_transformation)\n",
    " * [Open the data file](#open_the_data_file)\n",
    "     * [Data Quality Assessment](#data_quality_assessment)\n",
    " * [Prepare the data](#prepare_the_data)\n",
    "     * [Replace the column names](#replace_the_column_names)\n",
    "     * [Address Missing Data](#address_missing_data)\n",
    " * [Analyze the data](#analyze_the_data)\n",
    " * [General conclution](#general_conclution)"
   ]
  },
  {
   "cell_type": "markdown",
   "metadata": {},
   "source": [
    "## Introduction <a id='data_review'></a>\n",
    "\n",
    "Market Research Analytics on using open-source data on restaurants in LA.\n",
    "\n",
    "### Project Puropse\n",
    "\n",
    "Analytics prepared with the purpose of attracting investors, to inform on the current market conditions answering the question:\n",
    "\n",
    "**Will you be able to maintain your success when the novelty of robot waiters wears off?**\n",
    "\n",
    "\n",
    "### Data Description\n",
    "\n",
    "- rest_data table:\n",
    "    - `object_name` — establishment name\n",
    "    - `chain` — chain establishment (TRUE/FALSE)\n",
    "    - `object_type` — establishment type\n",
    "    - `address` — address\n",
    "    - `number` — number of seats\n",
    "    \n",
    "### **Task decomposition:** <a id='data_review'></a>\n",
    "- Part 1. Download the data and prepare it for analysis\n",
    "- Part 2. Data analysis\n",
    "- Part 3. Preparing a presentation"
   ]
  },
  {
   "cell_type": "markdown",
   "metadata": {},
   "source": [
    "# Part 1. Download the data and prepare it for analysis"
   ]
  },
  {
   "cell_type": "markdown",
   "metadata": {},
   "source": [
    "## Initialization"
   ]
  },
  {
   "cell_type": "code",
   "execution_count": 5,
   "metadata": {},
   "outputs": [],
   "source": [
    "# Loading all the libraries\n",
    "import pandas as pd\n",
    "import numpy as np\n",
    "import matplotlib.pyplot as plt\n",
    "import seaborn as sns\n",
    "from math import factorial\n",
    "from scipy import stats as st\n",
    "import scipy.stats as stats\n",
    "from scipy.stats import chi2_contingency\n",
    "from scipy.stats import mannwhitneyu\n",
    "from scipy.stats import ttest_ind"
   ]
  },
  {
   "cell_type": "markdown",
   "metadata": {},
   "source": [
    "## Open the data file and study the general information## Open the data file and study the general information"
   ]
  },
  {
   "cell_type": "code",
   "execution_count": 6,
   "metadata": {},
   "outputs": [],
   "source": [
    "# Load the data file into a DataFrame\n",
    "df = pd.read_csv('/datasets/rest_data_us.csv')"
   ]
  },
  {
   "cell_type": "code",
   "execution_count": 7,
   "metadata": {},
   "outputs": [
    {
     "data": {
      "text/html": [
       "<div>\n",
       "<style scoped>\n",
       "    .dataframe tbody tr th:only-of-type {\n",
       "        vertical-align: middle;\n",
       "    }\n",
       "\n",
       "    .dataframe tbody tr th {\n",
       "        vertical-align: top;\n",
       "    }\n",
       "\n",
       "    .dataframe thead th {\n",
       "        text-align: right;\n",
       "    }\n",
       "</style>\n",
       "<table border=\"1\" class=\"dataframe\">\n",
       "  <thead>\n",
       "    <tr style=\"text-align: right;\">\n",
       "      <th></th>\n",
       "      <th>id</th>\n",
       "      <th>object_name</th>\n",
       "      <th>address</th>\n",
       "      <th>chain</th>\n",
       "      <th>object_type</th>\n",
       "      <th>number</th>\n",
       "    </tr>\n",
       "  </thead>\n",
       "  <tbody>\n",
       "    <tr>\n",
       "      <th>0</th>\n",
       "      <td>11786</td>\n",
       "      <td>HABITAT COFFEE SHOP</td>\n",
       "      <td>3708 N EAGLE ROCK BLVD</td>\n",
       "      <td>False</td>\n",
       "      <td>Cafe</td>\n",
       "      <td>26</td>\n",
       "    </tr>\n",
       "    <tr>\n",
       "      <th>1</th>\n",
       "      <td>11787</td>\n",
       "      <td>REILLY'S</td>\n",
       "      <td>100 WORLD WAY # 120</td>\n",
       "      <td>False</td>\n",
       "      <td>Restaurant</td>\n",
       "      <td>9</td>\n",
       "    </tr>\n",
       "    <tr>\n",
       "      <th>2</th>\n",
       "      <td>11788</td>\n",
       "      <td>STREET CHURROS</td>\n",
       "      <td>6801 HOLLYWOOD BLVD # 253</td>\n",
       "      <td>False</td>\n",
       "      <td>Fast Food</td>\n",
       "      <td>20</td>\n",
       "    </tr>\n",
       "    <tr>\n",
       "      <th>3</th>\n",
       "      <td>11789</td>\n",
       "      <td>TRINITI ECHO PARK</td>\n",
       "      <td>1814 W SUNSET BLVD</td>\n",
       "      <td>False</td>\n",
       "      <td>Restaurant</td>\n",
       "      <td>22</td>\n",
       "    </tr>\n",
       "    <tr>\n",
       "      <th>4</th>\n",
       "      <td>11790</td>\n",
       "      <td>POLLEN</td>\n",
       "      <td>2100 ECHO PARK AVE</td>\n",
       "      <td>False</td>\n",
       "      <td>Restaurant</td>\n",
       "      <td>20</td>\n",
       "    </tr>\n",
       "    <tr>\n",
       "      <th>...</th>\n",
       "      <td>...</td>\n",
       "      <td>...</td>\n",
       "      <td>...</td>\n",
       "      <td>...</td>\n",
       "      <td>...</td>\n",
       "      <td>...</td>\n",
       "    </tr>\n",
       "    <tr>\n",
       "      <th>9646</th>\n",
       "      <td>21432</td>\n",
       "      <td>HALL OF JUSTICE</td>\n",
       "      <td>217 W TEMPLE AVE</td>\n",
       "      <td>False</td>\n",
       "      <td>Restaurant</td>\n",
       "      <td>122</td>\n",
       "    </tr>\n",
       "    <tr>\n",
       "      <th>9647</th>\n",
       "      <td>21433</td>\n",
       "      <td>FIN-MELROSE</td>\n",
       "      <td>5750 MELROSE AVE</td>\n",
       "      <td>False</td>\n",
       "      <td>Restaurant</td>\n",
       "      <td>93</td>\n",
       "    </tr>\n",
       "    <tr>\n",
       "      <th>9648</th>\n",
       "      <td>21434</td>\n",
       "      <td>JUICY WINGZ</td>\n",
       "      <td>6741 HOLLYWOOD BLVD</td>\n",
       "      <td>True</td>\n",
       "      <td>Fast Food</td>\n",
       "      <td>15</td>\n",
       "    </tr>\n",
       "    <tr>\n",
       "      <th>9649</th>\n",
       "      <td>21435</td>\n",
       "      <td>MEDIDATE COFFEE</td>\n",
       "      <td>548 S SPRING ST STE 100</td>\n",
       "      <td>False</td>\n",
       "      <td>Cafe</td>\n",
       "      <td>6</td>\n",
       "    </tr>\n",
       "    <tr>\n",
       "      <th>9650</th>\n",
       "      <td>21436</td>\n",
       "      <td>CAFE SPROUTS</td>\n",
       "      <td>1300 S SAN PEDRO ST STE 111</td>\n",
       "      <td>True</td>\n",
       "      <td>Restaurant</td>\n",
       "      <td>19</td>\n",
       "    </tr>\n",
       "  </tbody>\n",
       "</table>\n",
       "<p>9651 rows × 6 columns</p>\n",
       "</div>"
      ],
      "text/plain": [
       "         id          object_name                      address  chain  \\\n",
       "0     11786  HABITAT COFFEE SHOP       3708 N EAGLE ROCK BLVD  False   \n",
       "1     11787             REILLY'S          100 WORLD WAY # 120  False   \n",
       "2     11788       STREET CHURROS    6801 HOLLYWOOD BLVD # 253  False   \n",
       "3     11789    TRINITI ECHO PARK           1814 W SUNSET BLVD  False   \n",
       "4     11790               POLLEN           2100 ECHO PARK AVE  False   \n",
       "...     ...                  ...                          ...    ...   \n",
       "9646  21432      HALL OF JUSTICE             217 W TEMPLE AVE  False   \n",
       "9647  21433          FIN-MELROSE             5750 MELROSE AVE  False   \n",
       "9648  21434          JUICY WINGZ          6741 HOLLYWOOD BLVD   True   \n",
       "9649  21435      MEDIDATE COFFEE      548 S SPRING ST STE 100  False   \n",
       "9650  21436         CAFE SPROUTS  1300 S SAN PEDRO ST STE 111   True   \n",
       "\n",
       "     object_type  number  \n",
       "0           Cafe      26  \n",
       "1     Restaurant       9  \n",
       "2      Fast Food      20  \n",
       "3     Restaurant      22  \n",
       "4     Restaurant      20  \n",
       "...          ...     ...  \n",
       "9646  Restaurant     122  \n",
       "9647  Restaurant      93  \n",
       "9648   Fast Food      15  \n",
       "9649        Cafe       6  \n",
       "9650  Restaurant      19  \n",
       "\n",
       "[9651 rows x 6 columns]"
      ]
     },
     "execution_count": 7,
     "metadata": {},
     "output_type": "execute_result"
    }
   ],
   "source": [
    "df"
   ]
  },
  {
   "cell_type": "code",
   "execution_count": 8,
   "metadata": {},
   "outputs": [
    {
     "name": "stdout",
     "output_type": "stream",
     "text": [
      "<class 'pandas.core.frame.DataFrame'>\n",
      "RangeIndex: 9651 entries, 0 to 9650\n",
      "Data columns (total 6 columns):\n",
      " #   Column       Non-Null Count  Dtype \n",
      "---  ------       --------------  ----- \n",
      " 0   id           9651 non-null   int64 \n",
      " 1   object_name  9651 non-null   object\n",
      " 2   address      9651 non-null   object\n",
      " 3   chain        9648 non-null   object\n",
      " 4   object_type  9651 non-null   object\n",
      " 5   number       9651 non-null   int64 \n",
      "dtypes: int64(2), object(4)\n",
      "memory usage: 452.5+ KB\n"
     ]
    }
   ],
   "source": [
    "# obtaining general information about the data in df\n",
    "df.info()"
   ]
  },
  {
   "cell_type": "code",
   "execution_count": 9,
   "metadata": {},
   "outputs": [
    {
     "data": {
      "text/html": [
       "<div>\n",
       "<style scoped>\n",
       "    .dataframe tbody tr th:only-of-type {\n",
       "        vertical-align: middle;\n",
       "    }\n",
       "\n",
       "    .dataframe tbody tr th {\n",
       "        vertical-align: top;\n",
       "    }\n",
       "\n",
       "    .dataframe thead th {\n",
       "        text-align: right;\n",
       "    }\n",
       "</style>\n",
       "<table border=\"1\" class=\"dataframe\">\n",
       "  <thead>\n",
       "    <tr style=\"text-align: right;\">\n",
       "      <th></th>\n",
       "      <th>id</th>\n",
       "      <th>establishment_name</th>\n",
       "      <th>address</th>\n",
       "      <th>chain</th>\n",
       "      <th>establishment_type</th>\n",
       "      <th>seats</th>\n",
       "    </tr>\n",
       "  </thead>\n",
       "  <tbody>\n",
       "    <tr>\n",
       "      <th>0</th>\n",
       "      <td>11786</td>\n",
       "      <td>HABITAT COFFEE SHOP</td>\n",
       "      <td>3708 N EAGLE ROCK BLVD</td>\n",
       "      <td>False</td>\n",
       "      <td>Cafe</td>\n",
       "      <td>26</td>\n",
       "    </tr>\n",
       "    <tr>\n",
       "      <th>1</th>\n",
       "      <td>11787</td>\n",
       "      <td>REILLY'S</td>\n",
       "      <td>100 WORLD WAY # 120</td>\n",
       "      <td>False</td>\n",
       "      <td>Restaurant</td>\n",
       "      <td>9</td>\n",
       "    </tr>\n",
       "    <tr>\n",
       "      <th>2</th>\n",
       "      <td>11788</td>\n",
       "      <td>STREET CHURROS</td>\n",
       "      <td>6801 HOLLYWOOD BLVD # 253</td>\n",
       "      <td>False</td>\n",
       "      <td>Fast Food</td>\n",
       "      <td>20</td>\n",
       "    </tr>\n",
       "    <tr>\n",
       "      <th>3</th>\n",
       "      <td>11789</td>\n",
       "      <td>TRINITI ECHO PARK</td>\n",
       "      <td>1814 W SUNSET BLVD</td>\n",
       "      <td>False</td>\n",
       "      <td>Restaurant</td>\n",
       "      <td>22</td>\n",
       "    </tr>\n",
       "    <tr>\n",
       "      <th>4</th>\n",
       "      <td>11790</td>\n",
       "      <td>POLLEN</td>\n",
       "      <td>2100 ECHO PARK AVE</td>\n",
       "      <td>False</td>\n",
       "      <td>Restaurant</td>\n",
       "      <td>20</td>\n",
       "    </tr>\n",
       "    <tr>\n",
       "      <th>...</th>\n",
       "      <td>...</td>\n",
       "      <td>...</td>\n",
       "      <td>...</td>\n",
       "      <td>...</td>\n",
       "      <td>...</td>\n",
       "      <td>...</td>\n",
       "    </tr>\n",
       "    <tr>\n",
       "      <th>9646</th>\n",
       "      <td>21432</td>\n",
       "      <td>HALL OF JUSTICE</td>\n",
       "      <td>217 W TEMPLE AVE</td>\n",
       "      <td>False</td>\n",
       "      <td>Restaurant</td>\n",
       "      <td>122</td>\n",
       "    </tr>\n",
       "    <tr>\n",
       "      <th>9647</th>\n",
       "      <td>21433</td>\n",
       "      <td>FIN-MELROSE</td>\n",
       "      <td>5750 MELROSE AVE</td>\n",
       "      <td>False</td>\n",
       "      <td>Restaurant</td>\n",
       "      <td>93</td>\n",
       "    </tr>\n",
       "    <tr>\n",
       "      <th>9648</th>\n",
       "      <td>21434</td>\n",
       "      <td>JUICY WINGZ</td>\n",
       "      <td>6741 HOLLYWOOD BLVD</td>\n",
       "      <td>True</td>\n",
       "      <td>Fast Food</td>\n",
       "      <td>15</td>\n",
       "    </tr>\n",
       "    <tr>\n",
       "      <th>9649</th>\n",
       "      <td>21435</td>\n",
       "      <td>MEDIDATE COFFEE</td>\n",
       "      <td>548 S SPRING ST STE 100</td>\n",
       "      <td>False</td>\n",
       "      <td>Cafe</td>\n",
       "      <td>6</td>\n",
       "    </tr>\n",
       "    <tr>\n",
       "      <th>9650</th>\n",
       "      <td>21436</td>\n",
       "      <td>CAFE SPROUTS</td>\n",
       "      <td>1300 S SAN PEDRO ST STE 111</td>\n",
       "      <td>True</td>\n",
       "      <td>Restaurant</td>\n",
       "      <td>19</td>\n",
       "    </tr>\n",
       "  </tbody>\n",
       "</table>\n",
       "<p>9651 rows × 6 columns</p>\n",
       "</div>"
      ],
      "text/plain": [
       "         id   establishment_name                      address  chain  \\\n",
       "0     11786  HABITAT COFFEE SHOP       3708 N EAGLE ROCK BLVD  False   \n",
       "1     11787             REILLY'S          100 WORLD WAY # 120  False   \n",
       "2     11788       STREET CHURROS    6801 HOLLYWOOD BLVD # 253  False   \n",
       "3     11789    TRINITI ECHO PARK           1814 W SUNSET BLVD  False   \n",
       "4     11790               POLLEN           2100 ECHO PARK AVE  False   \n",
       "...     ...                  ...                          ...    ...   \n",
       "9646  21432      HALL OF JUSTICE             217 W TEMPLE AVE  False   \n",
       "9647  21433          FIN-MELROSE             5750 MELROSE AVE  False   \n",
       "9648  21434          JUICY WINGZ          6741 HOLLYWOOD BLVD   True   \n",
       "9649  21435      MEDIDATE COFFEE      548 S SPRING ST STE 100  False   \n",
       "9650  21436         CAFE SPROUTS  1300 S SAN PEDRO ST STE 111   True   \n",
       "\n",
       "     establishment_type  seats  \n",
       "0                  Cafe     26  \n",
       "1            Restaurant      9  \n",
       "2             Fast Food     20  \n",
       "3            Restaurant     22  \n",
       "4            Restaurant     20  \n",
       "...                 ...    ...  \n",
       "9646         Restaurant    122  \n",
       "9647         Restaurant     93  \n",
       "9648          Fast Food     15  \n",
       "9649               Cafe      6  \n",
       "9650         Restaurant     19  \n",
       "\n",
       "[9651 rows x 6 columns]"
      ]
     },
     "execution_count": 9,
     "metadata": {},
     "output_type": "execute_result"
    }
   ],
   "source": [
    "# Rename columns\n",
    "df = df.rename(columns={\n",
    "    'id': 'id',\n",
    "    'object_name': 'establishment_name',\n",
    "    'address': 'address',\n",
    "    'chain': 'chain',\n",
    "    'object_type': 'establishment_type',\n",
    "    'number': 'seats'\n",
    "})\n",
    "\n",
    "df"
   ]
  },
  {
   "cell_type": "code",
   "execution_count": 10,
   "metadata": {},
   "outputs": [
    {
     "name": "stdout",
     "output_type": "stream",
     "text": [
      "Duplications in DataFrame df_order: 0\n"
     ]
    }
   ],
   "source": [
    "# Counting clear duplicates in the DataFrame df_order\n",
    "print('Duplications in DataFrame df_order:', df.duplicated().sum())"
   ]
  },
  {
   "cell_type": "code",
   "execution_count": 11,
   "metadata": {},
   "outputs": [
    {
     "data": {
      "text/html": [
       "<div>\n",
       "<style scoped>\n",
       "    .dataframe tbody tr th:only-of-type {\n",
       "        vertical-align: middle;\n",
       "    }\n",
       "\n",
       "    .dataframe tbody tr th {\n",
       "        vertical-align: top;\n",
       "    }\n",
       "\n",
       "    .dataframe thead th {\n",
       "        text-align: right;\n",
       "    }\n",
       "</style>\n",
       "<table border=\"1\" class=\"dataframe\">\n",
       "  <thead>\n",
       "    <tr style=\"text-align: right;\">\n",
       "      <th></th>\n",
       "      <th>id</th>\n",
       "      <th>establishment_name</th>\n",
       "      <th>address</th>\n",
       "      <th>chain</th>\n",
       "      <th>establishment_type</th>\n",
       "      <th>seats</th>\n",
       "    </tr>\n",
       "  </thead>\n",
       "  <tbody>\n",
       "    <tr>\n",
       "      <th>7408</th>\n",
       "      <td>19194</td>\n",
       "      <td>TAQUERIA LOS 3 CARNALES</td>\n",
       "      <td>5000 E WHITTIER BLVD</td>\n",
       "      <td>NaN</td>\n",
       "      <td>Restaurant</td>\n",
       "      <td>14</td>\n",
       "    </tr>\n",
       "    <tr>\n",
       "      <th>7523</th>\n",
       "      <td>19309</td>\n",
       "      <td>JAMMIN JIMMY'S PIZZA</td>\n",
       "      <td>1641 FIRESTONE BLVD</td>\n",
       "      <td>NaN</td>\n",
       "      <td>Pizza</td>\n",
       "      <td>1</td>\n",
       "    </tr>\n",
       "    <tr>\n",
       "      <th>8648</th>\n",
       "      <td>20434</td>\n",
       "      <td>THE LEXINGTON THEATER</td>\n",
       "      <td>129 E 3RD ST</td>\n",
       "      <td>NaN</td>\n",
       "      <td>Restaurant</td>\n",
       "      <td>35</td>\n",
       "    </tr>\n",
       "  </tbody>\n",
       "</table>\n",
       "</div>"
      ],
      "text/plain": [
       "         id       establishment_name               address chain  \\\n",
       "7408  19194  TAQUERIA LOS 3 CARNALES  5000 E WHITTIER BLVD   NaN   \n",
       "7523  19309     JAMMIN JIMMY'S PIZZA   1641 FIRESTONE BLVD   NaN   \n",
       "8648  20434    THE LEXINGTON THEATER          129 E 3RD ST   NaN   \n",
       "\n",
       "     establishment_type  seats  \n",
       "7408         Restaurant     14  \n",
       "7523              Pizza      1  \n",
       "8648         Restaurant     35  "
      ]
     },
     "execution_count": 11,
     "metadata": {},
     "output_type": "execute_result"
    }
   ],
   "source": [
    "# view the rows with missing values\n",
    "rows_with_missing_values = df[df['chain'].isnull()]\n",
    "rows_with_missing_values"
   ]
  },
  {
   "cell_type": "code",
   "execution_count": 12,
   "metadata": {},
   "outputs": [],
   "source": [
    "# Make the Nan values 'unknown'\n",
    "df['chain'].fillna('unknown', inplace=True)"
   ]
  },
  {
   "cell_type": "code",
   "execution_count": 13,
   "metadata": {},
   "outputs": [
    {
     "name": "stdout",
     "output_type": "stream",
     "text": [
      "<class 'pandas.core.frame.DataFrame'>\n",
      "RangeIndex: 9651 entries, 0 to 9650\n",
      "Data columns (total 6 columns):\n",
      " #   Column              Non-Null Count  Dtype \n",
      "---  ------              --------------  ----- \n",
      " 0   id                  9651 non-null   int64 \n",
      " 1   establishment_name  9651 non-null   object\n",
      " 2   address             9651 non-null   object\n",
      " 3   chain               9651 non-null   object\n",
      " 4   establishment_type  9651 non-null   object\n",
      " 5   seats               9651 non-null   int64 \n",
      "dtypes: int64(2), object(4)\n",
      "memory usage: 452.5+ KB\n"
     ]
    }
   ],
   "source": [
    "# obtaining general information about the data in df\n",
    "df.info()"
   ]
  },
  {
   "cell_type": "markdown",
   "metadata": {},
   "source": [
    "**Data Quality Assesment** \n",
    "\n",
    "- The initial Data Quality Assesment indicated that the data does not contain any dupliations\n",
    "- There are 3 missing values in chain column that have been changed from Nan to unknown"
   ]
  },
  {
   "cell_type": "markdown",
   "metadata": {},
   "source": [
    "# Part 2. Data analysis\n",
    "\n",
    "\n",
    "**This Data analysis will include:**\n",
    "\n",
    "- Investigate the proportions of the various types of establishments. Plot a graph.\n",
    "- Investigate the proportions of chain and nonchain establishments. Plot a graph.\n",
    "- Which type of establishment is typically a chain?\n",
    "- What characterizes chains: many establishments with a small number of seats or a few establishments with a lot of seats?\n",
    "- Determine the average number of seats for each type of restaurant. On average, which type of restaurant has the greatest number of seats? Plot graphs.\n",
    "- Put the data on street names from the address column in a separate column.\n",
    "- Plot a graph of the top ten streets by number of restaurants.\n",
    "- Find the number of streets that only have one restaurant.\n",
    "- For streets with a lot of restaurants, look at the distribution of the number of seats. What trends can you see?\n",
    "- Draw an overall conclusion and provide recommendations on restaurant type and number of seats. Comment on the possibility of developing a chain. "
   ]
  },
  {
   "cell_type": "code",
   "execution_count": 14,
   "metadata": {},
   "outputs": [
    {
     "data": {
      "text/html": [
       "<div>\n",
       "<style scoped>\n",
       "    .dataframe tbody tr th:only-of-type {\n",
       "        vertical-align: middle;\n",
       "    }\n",
       "\n",
       "    .dataframe tbody tr th {\n",
       "        vertical-align: top;\n",
       "    }\n",
       "\n",
       "    .dataframe thead th {\n",
       "        text-align: right;\n",
       "    }\n",
       "</style>\n",
       "<table border=\"1\" class=\"dataframe\">\n",
       "  <thead>\n",
       "    <tr style=\"text-align: right;\">\n",
       "      <th></th>\n",
       "      <th>id</th>\n",
       "      <th>establishment_name</th>\n",
       "      <th>address</th>\n",
       "      <th>chain</th>\n",
       "      <th>establishment_type</th>\n",
       "      <th>seats</th>\n",
       "    </tr>\n",
       "  </thead>\n",
       "  <tbody>\n",
       "  </tbody>\n",
       "</table>\n",
       "</div>"
      ],
      "text/plain": [
       "Empty DataFrame\n",
       "Columns: [id, establishment_name, address, chain, establishment_type, seats]\n",
       "Index: []"
      ]
     },
     "execution_count": 14,
     "metadata": {},
     "output_type": "execute_result"
    }
   ],
   "source": [
    "df.head(0)"
   ]
  },
  {
   "cell_type": "markdown",
   "metadata": {},
   "source": [
    "## Investigate the proportions of the various types of establishments. Plot a graph."
   ]
  },
  {
   "cell_type": "code",
   "execution_count": 15,
   "metadata": {},
   "outputs": [
    {
     "name": "stdout",
     "output_type": "stream",
     "text": [
      "Number of unique establishment types: 6\n"
     ]
    }
   ],
   "source": [
    "unique_establishment_types = df['establishment_type'].nunique()\n",
    "print(\"Number of unique establishment types:\", unique_establishment_types)"
   ]
  },
  {
   "cell_type": "code",
   "execution_count": 16,
   "metadata": {},
   "outputs": [
    {
     "data": {
      "text/plain": [
       "Restaurant    7255\n",
       "Fast Food     1066\n",
       "Cafe           435\n",
       "Pizza          320\n",
       "Bar            292\n",
       "Bakery         283\n",
       "Name: establishment_type, dtype: int64"
      ]
     },
     "execution_count": 16,
     "metadata": {},
     "output_type": "execute_result"
    }
   ],
   "source": [
    "# Count unique establishment types\n",
    "establishment_type_counts = df['establishment_type'].value_counts()\n",
    "establishment_type_counts"
   ]
  },
  {
   "cell_type": "code",
   "execution_count": 17,
   "metadata": {
    "scrolled": false
   },
   "outputs": [
    {
     "data": {
      "image/png": "[encoded data removed]",
      "text/plain": [
       "<Figure size 576x576 with 1 Axes>"
      ]
     },
     "metadata": {},
     "output_type": "display_data"
    }
   ],
   "source": [
    "# Plotting the pie chart\n",
    "plt.figure(figsize=(8, 8))\n",
    "plt.pie(establishment_type_counts, labels=establishment_type_counts.index, autopct='%1.1f%%', startangle=140)\n",
    "plt.title('Distribution of Establishment Types')\n",
    "plt.show()"
   ]
  },
  {
   "cell_type": "markdown",
   "metadata": {},
   "source": [
    "## Investigate the proportions of chain and nonchain establishments. Plot a graph."
   ]
  },
  {
   "cell_type": "code",
   "execution_count": 18,
   "metadata": {},
   "outputs": [
    {
     "data": {
      "text/plain": [
       "False      5972\n",
       "True       3676\n",
       "unknown       3\n",
       "Name: chain, dtype: int64"
      ]
     },
     "execution_count": 18,
     "metadata": {},
     "output_type": "execute_result"
    }
   ],
   "source": [
    "# Count unique chain types\n",
    "chain_type_counts = df['chain'].value_counts()\n",
    "chain_type_counts"
   ]
  },
  {
   "cell_type": "code",
   "execution_count": 19,
   "metadata": {},
   "outputs": [
    {
     "name": "stdout",
     "output_type": "stream",
     "text": [
      "Unique Chain Types:\n",
      "False: 5972\n",
      "True: 3676\n",
      "unknown: 3\n"
     ]
    }
   ],
   "source": [
    "# Display unique chain types and their counts\n",
    "print(\"Unique Chain Types:\")\n",
    "for chain_type, count in chain_type_counts.items():\n",
    "    print(f\"{chain_type}: {count}\")"
   ]
  },
  {
   "cell_type": "code",
   "execution_count": 20,
   "metadata": {},
   "outputs": [
    {
     "data": {
      "image/png": "[encoded data removed]",
      "text/plain": [
       "<Figure size 576x576 with 1 Axes>"
      ]
     },
     "metadata": {},
     "output_type": "display_data"
    }
   ],
   "source": [
    "# Plotting the pie chart\n",
    "plt.figure(figsize=(8, 8))\n",
    "plt.pie(chain_type_counts, labels=chain_type_counts.index, autopct='%1.1f%%', startangle=140)\n",
    "plt.title('Distribution of Chain Types')\n",
    "plt.show()"
   ]
  },
  {
   "cell_type": "code",
   "execution_count": 21,
   "metadata": {},
   "outputs": [
    {
     "data": {
      "image/png": "[encoded data removed]",
      "text/plain": [
       "<Figure size 720x432 with 1 Axes>"
      ]
     },
     "metadata": {
      "needs_background": "light"
     },
     "output_type": "display_data"
    }
   ],
   "source": [
    "# Create bar graph\n",
    "plt.figure(figsize=(10, 6))\n",
    "chain_type_counts.plot(kind='bar', color='skyblue')\n",
    "plt.title('Counts of Unique Chain Types')\n",
    "plt.xlabel('Chain Type')\n",
    "plt.ylabel('Count')\n",
    "plt.xticks(rotation=45, ha='right')  # Rotate x-axis labels for better readability\n",
    "plt.show()"
   ]
  },
  {
   "cell_type": "markdown",
   "metadata": {},
   "source": [
    "## Which type of establishment is typically a chain?"
   ]
  },
  {
   "cell_type": "code",
   "execution_count": 22,
   "metadata": {},
   "outputs": [
    {
     "name": "stdout",
     "output_type": "stream",
     "text": [
      "Cross-Tabulation Comparission of Chain and Establishment Type:\n"
     ]
    },
    {
     "data": {
      "text/html": [
       "<div>\n",
       "<style scoped>\n",
       "    .dataframe tbody tr th:only-of-type {\n",
       "        vertical-align: middle;\n",
       "    }\n",
       "\n",
       "    .dataframe tbody tr th {\n",
       "        vertical-align: top;\n",
       "    }\n",
       "\n",
       "    .dataframe thead th {\n",
       "        text-align: right;\n",
       "    }\n",
       "</style>\n",
       "<table border=\"1\" class=\"dataframe\">\n",
       "  <thead>\n",
       "    <tr style=\"text-align: right;\">\n",
       "      <th>establishment_type</th>\n",
       "      <th>Bakery</th>\n",
       "      <th>Bar</th>\n",
       "      <th>Cafe</th>\n",
       "      <th>Fast Food</th>\n",
       "      <th>Pizza</th>\n",
       "      <th>Restaurant</th>\n",
       "    </tr>\n",
       "    <tr>\n",
       "      <th>chain</th>\n",
       "      <th></th>\n",
       "      <th></th>\n",
       "      <th></th>\n",
       "      <th></th>\n",
       "      <th></th>\n",
       "      <th></th>\n",
       "    </tr>\n",
       "  </thead>\n",
       "  <tbody>\n",
       "    <tr>\n",
       "      <th>False</th>\n",
       "      <td>0</td>\n",
       "      <td>215</td>\n",
       "      <td>169</td>\n",
       "      <td>461</td>\n",
       "      <td>166</td>\n",
       "      <td>4961</td>\n",
       "    </tr>\n",
       "    <tr>\n",
       "      <th>True</th>\n",
       "      <td>283</td>\n",
       "      <td>77</td>\n",
       "      <td>266</td>\n",
       "      <td>605</td>\n",
       "      <td>153</td>\n",
       "      <td>2292</td>\n",
       "    </tr>\n",
       "    <tr>\n",
       "      <th>unknown</th>\n",
       "      <td>0</td>\n",
       "      <td>0</td>\n",
       "      <td>0</td>\n",
       "      <td>0</td>\n",
       "      <td>1</td>\n",
       "      <td>2</td>\n",
       "    </tr>\n",
       "  </tbody>\n",
       "</table>\n",
       "</div>"
      ],
      "text/plain": [
       "establishment_type  Bakery  Bar  Cafe  Fast Food  Pizza  Restaurant\n",
       "chain                                                              \n",
       "False                    0  215   169        461    166        4961\n",
       "True                   283   77   266        605    153        2292\n",
       "unknown                  0    0     0          0      1           2"
      ]
     },
     "execution_count": 22,
     "metadata": {},
     "output_type": "execute_result"
    }
   ],
   "source": [
    "cross_table = pd.crosstab(df['chain'], df['establishment_type'])\n",
    "\n",
    "print(\"Cross-Tabulation Comparission of Chain and Establishment Type:\")\n",
    "cross_table"
   ]
  },
  {
   "cell_type": "code",
   "execution_count": 23,
   "metadata": {
    "scrolled": true
   },
   "outputs": [
    {
     "data": {
      "image/png": "[encoded data removed]",
      "text/plain": [
       "<Figure size 864x576 with 1 Axes>"
      ]
     },
     "metadata": {
      "needs_background": "light"
     },
     "output_type": "display_data"
    }
   ],
   "source": [
    "# heatmap for cross table\n",
    "plt.figure(figsize=(12, 8))\n",
    "sns.heatmap(cross_table, annot=True, cmap='Blues', fmt='d', cbar=False)\n",
    "plt.title('Relationship between Chain and Establishment Type')\n",
    "plt.xlabel('Establishment Type')\n",
    "plt.ylabel('Chain')\n",
    "plt.show()"
   ]
  },
  {
   "cell_type": "markdown",
   "metadata": {},
   "source": [
    "## What characterizes chains: many establishments with a small number of seats or a few establishments with a lot of seats?"
   ]
  },
  {
   "cell_type": "code",
   "execution_count": 24,
   "metadata": {},
   "outputs": [
    {
     "data": {
      "text/html": [
       "<div>\n",
       "<style scoped>\n",
       "    .dataframe tbody tr th:only-of-type {\n",
       "        vertical-align: middle;\n",
       "    }\n",
       "\n",
       "    .dataframe tbody tr th {\n",
       "        vertical-align: top;\n",
       "    }\n",
       "\n",
       "    .dataframe thead th {\n",
       "        text-align: right;\n",
       "    }\n",
       "</style>\n",
       "<table border=\"1\" class=\"dataframe\">\n",
       "  <thead>\n",
       "    <tr style=\"text-align: right;\">\n",
       "      <th></th>\n",
       "      <th>id</th>\n",
       "      <th>establishment_name</th>\n",
       "      <th>address</th>\n",
       "      <th>chain</th>\n",
       "      <th>establishment_type</th>\n",
       "      <th>seats</th>\n",
       "    </tr>\n",
       "  </thead>\n",
       "  <tbody>\n",
       "    <tr>\n",
       "      <th>8</th>\n",
       "      <td>11794</td>\n",
       "      <td>ABC DONUTS</td>\n",
       "      <td>3027 N SAN FERNANDO RD UNIT 103</td>\n",
       "      <td>True</td>\n",
       "      <td>Fast Food</td>\n",
       "      <td>1</td>\n",
       "    </tr>\n",
       "    <tr>\n",
       "      <th>10</th>\n",
       "      <td>11796</td>\n",
       "      <td>EL POLLO LOCO</td>\n",
       "      <td>5319 W SUNSET BLVD</td>\n",
       "      <td>True</td>\n",
       "      <td>Restaurant</td>\n",
       "      <td>38</td>\n",
       "    </tr>\n",
       "    <tr>\n",
       "      <th>11</th>\n",
       "      <td>11797</td>\n",
       "      <td>POONG NYUN BAKERY</td>\n",
       "      <td>928 S WESTERN AVE STE 109</td>\n",
       "      <td>True</td>\n",
       "      <td>Bakery</td>\n",
       "      <td>17</td>\n",
       "    </tr>\n",
       "    <tr>\n",
       "      <th>12</th>\n",
       "      <td>11798</td>\n",
       "      <td>EMC RESTAURANT GROUP LLC</td>\n",
       "      <td>3500 W 6TH ST STE 101</td>\n",
       "      <td>True</td>\n",
       "      <td>Restaurant</td>\n",
       "      <td>133</td>\n",
       "    </tr>\n",
       "    <tr>\n",
       "      <th>14</th>\n",
       "      <td>11800</td>\n",
       "      <td>CUSCATLECA BAKERY</td>\n",
       "      <td>2501 W SUNSET BLVD #A</td>\n",
       "      <td>True</td>\n",
       "      <td>Bakery</td>\n",
       "      <td>26</td>\n",
       "    </tr>\n",
       "    <tr>\n",
       "      <th>...</th>\n",
       "      <td>...</td>\n",
       "      <td>...</td>\n",
       "      <td>...</td>\n",
       "      <td>...</td>\n",
       "      <td>...</td>\n",
       "      <td>...</td>\n",
       "    </tr>\n",
       "    <tr>\n",
       "      <th>9629</th>\n",
       "      <td>21415</td>\n",
       "      <td>JUCUAPA BAKERY</td>\n",
       "      <td>2810 JAMES WOOD BLVD</td>\n",
       "      <td>True</td>\n",
       "      <td>Bakery</td>\n",
       "      <td>10</td>\n",
       "    </tr>\n",
       "    <tr>\n",
       "      <th>9636</th>\n",
       "      <td>21422</td>\n",
       "      <td>CHIPOTLE #3094</td>\n",
       "      <td>6719 LA TIJERA BLVD # A-B</td>\n",
       "      <td>True</td>\n",
       "      <td>Restaurant</td>\n",
       "      <td>47</td>\n",
       "    </tr>\n",
       "    <tr>\n",
       "      <th>9639</th>\n",
       "      <td>21425</td>\n",
       "      <td>MCDONALD'S</td>\n",
       "      <td>1800 S WESTERN AVE</td>\n",
       "      <td>True</td>\n",
       "      <td>Fast Food</td>\n",
       "      <td>135</td>\n",
       "    </tr>\n",
       "    <tr>\n",
       "      <th>9648</th>\n",
       "      <td>21434</td>\n",
       "      <td>JUICY WINGZ</td>\n",
       "      <td>6741 HOLLYWOOD BLVD</td>\n",
       "      <td>True</td>\n",
       "      <td>Fast Food</td>\n",
       "      <td>15</td>\n",
       "    </tr>\n",
       "    <tr>\n",
       "      <th>9650</th>\n",
       "      <td>21436</td>\n",
       "      <td>CAFE SPROUTS</td>\n",
       "      <td>1300 S SAN PEDRO ST STE 111</td>\n",
       "      <td>True</td>\n",
       "      <td>Restaurant</td>\n",
       "      <td>19</td>\n",
       "    </tr>\n",
       "  </tbody>\n",
       "</table>\n",
       "<p>3676 rows × 6 columns</p>\n",
       "</div>"
      ],
      "text/plain": [
       "         id        establishment_name                          address chain  \\\n",
       "8     11794                ABC DONUTS  3027 N SAN FERNANDO RD UNIT 103  True   \n",
       "10    11796             EL POLLO LOCO               5319 W SUNSET BLVD  True   \n",
       "11    11797         POONG NYUN BAKERY        928 S WESTERN AVE STE 109  True   \n",
       "12    11798  EMC RESTAURANT GROUP LLC            3500 W 6TH ST STE 101  True   \n",
       "14    11800         CUSCATLECA BAKERY            2501 W SUNSET BLVD #A  True   \n",
       "...     ...                       ...                              ...   ...   \n",
       "9629  21415            JUCUAPA BAKERY             2810 JAMES WOOD BLVD  True   \n",
       "9636  21422            CHIPOTLE #3094        6719 LA TIJERA BLVD # A-B  True   \n",
       "9639  21425                MCDONALD'S               1800 S WESTERN AVE  True   \n",
       "9648  21434               JUICY WINGZ              6741 HOLLYWOOD BLVD  True   \n",
       "9650  21436              CAFE SPROUTS      1300 S SAN PEDRO ST STE 111  True   \n",
       "\n",
       "     establishment_type  seats  \n",
       "8             Fast Food      1  \n",
       "10           Restaurant     38  \n",
       "11               Bakery     17  \n",
       "12           Restaurant    133  \n",
       "14               Bakery     26  \n",
       "...                 ...    ...  \n",
       "9629             Bakery     10  \n",
       "9636         Restaurant     47  \n",
       "9639          Fast Food    135  \n",
       "9648          Fast Food     15  \n",
       "9650         Restaurant     19  \n",
       "\n",
       "[3676 rows x 6 columns]"
      ]
     },
     "execution_count": 24,
     "metadata": {},
     "output_type": "execute_result"
    }
   ],
   "source": [
    "#Group all the chain columns that are true\n",
    "chain_true_df = df[df['chain'] == True]\n",
    "chain_true_df"
   ]
  },
  {
   "cell_type": "code",
   "execution_count": 25,
   "metadata": {},
   "outputs": [
    {
     "data": {
      "text/plain": [
       "count    3676.000000\n",
       "mean       39.694233\n",
       "std        43.437212\n",
       "min         1.000000\n",
       "25%        13.000000\n",
       "50%        25.000000\n",
       "75%        44.000000\n",
       "max       229.000000\n",
       "Name: seats, dtype: float64"
      ]
     },
     "execution_count": 25,
     "metadata": {},
     "output_type": "execute_result"
    }
   ],
   "source": [
    "# statistical information about the 'seats' column\n",
    "seats_description = chain_true_df['seats'].describe()\n",
    "seats_description"
   ]
  },
  {
   "cell_type": "code",
   "execution_count": 26,
   "metadata": {},
   "outputs": [
    {
     "data": {
      "text/html": [
       "<div>\n",
       "<style scoped>\n",
       "    .dataframe tbody tr th:only-of-type {\n",
       "        vertical-align: middle;\n",
       "    }\n",
       "\n",
       "    .dataframe tbody tr th {\n",
       "        vertical-align: top;\n",
       "    }\n",
       "\n",
       "    .dataframe thead th {\n",
       "        text-align: right;\n",
       "    }\n",
       "</style>\n",
       "<table border=\"1\" class=\"dataframe\">\n",
       "  <thead>\n",
       "    <tr style=\"text-align: right;\">\n",
       "      <th></th>\n",
       "      <th>id</th>\n",
       "      <th>establishment_name</th>\n",
       "      <th>address</th>\n",
       "      <th>chain</th>\n",
       "      <th>establishment_type</th>\n",
       "      <th>seats</th>\n",
       "    </tr>\n",
       "  </thead>\n",
       "  <tbody>\n",
       "    <tr>\n",
       "      <th>0</th>\n",
       "      <td>11786</td>\n",
       "      <td>HABITAT COFFEE SHOP</td>\n",
       "      <td>3708 N EAGLE ROCK BLVD</td>\n",
       "      <td>False</td>\n",
       "      <td>Cafe</td>\n",
       "      <td>26</td>\n",
       "    </tr>\n",
       "    <tr>\n",
       "      <th>1</th>\n",
       "      <td>11787</td>\n",
       "      <td>REILLY'S</td>\n",
       "      <td>100 WORLD WAY # 120</td>\n",
       "      <td>False</td>\n",
       "      <td>Restaurant</td>\n",
       "      <td>9</td>\n",
       "    </tr>\n",
       "    <tr>\n",
       "      <th>2</th>\n",
       "      <td>11788</td>\n",
       "      <td>STREET CHURROS</td>\n",
       "      <td>6801 HOLLYWOOD BLVD # 253</td>\n",
       "      <td>False</td>\n",
       "      <td>Fast Food</td>\n",
       "      <td>20</td>\n",
       "    </tr>\n",
       "    <tr>\n",
       "      <th>3</th>\n",
       "      <td>11789</td>\n",
       "      <td>TRINITI ECHO PARK</td>\n",
       "      <td>1814 W SUNSET BLVD</td>\n",
       "      <td>False</td>\n",
       "      <td>Restaurant</td>\n",
       "      <td>22</td>\n",
       "    </tr>\n",
       "    <tr>\n",
       "      <th>4</th>\n",
       "      <td>11790</td>\n",
       "      <td>POLLEN</td>\n",
       "      <td>2100 ECHO PARK AVE</td>\n",
       "      <td>False</td>\n",
       "      <td>Restaurant</td>\n",
       "      <td>20</td>\n",
       "    </tr>\n",
       "    <tr>\n",
       "      <th>...</th>\n",
       "      <td>...</td>\n",
       "      <td>...</td>\n",
       "      <td>...</td>\n",
       "      <td>...</td>\n",
       "      <td>...</td>\n",
       "      <td>...</td>\n",
       "    </tr>\n",
       "    <tr>\n",
       "      <th>9644</th>\n",
       "      <td>21430</td>\n",
       "      <td>LA BUFADORA BAR</td>\n",
       "      <td>3470 E 1ST ST</td>\n",
       "      <td>False</td>\n",
       "      <td>Bar</td>\n",
       "      <td>24</td>\n",
       "    </tr>\n",
       "    <tr>\n",
       "      <th>9645</th>\n",
       "      <td>21431</td>\n",
       "      <td>SAINT MARC</td>\n",
       "      <td>10250 SANTA MONICA BLVD # 1025</td>\n",
       "      <td>False</td>\n",
       "      <td>Restaurant</td>\n",
       "      <td>225</td>\n",
       "    </tr>\n",
       "    <tr>\n",
       "      <th>9646</th>\n",
       "      <td>21432</td>\n",
       "      <td>HALL OF JUSTICE</td>\n",
       "      <td>217 W TEMPLE AVE</td>\n",
       "      <td>False</td>\n",
       "      <td>Restaurant</td>\n",
       "      <td>122</td>\n",
       "    </tr>\n",
       "    <tr>\n",
       "      <th>9647</th>\n",
       "      <td>21433</td>\n",
       "      <td>FIN-MELROSE</td>\n",
       "      <td>5750 MELROSE AVE</td>\n",
       "      <td>False</td>\n",
       "      <td>Restaurant</td>\n",
       "      <td>93</td>\n",
       "    </tr>\n",
       "    <tr>\n",
       "      <th>9649</th>\n",
       "      <td>21435</td>\n",
       "      <td>MEDIDATE COFFEE</td>\n",
       "      <td>548 S SPRING ST STE 100</td>\n",
       "      <td>False</td>\n",
       "      <td>Cafe</td>\n",
       "      <td>6</td>\n",
       "    </tr>\n",
       "  </tbody>\n",
       "</table>\n",
       "<p>5972 rows × 6 columns</p>\n",
       "</div>"
      ],
      "text/plain": [
       "         id   establishment_name                         address  chain  \\\n",
       "0     11786  HABITAT COFFEE SHOP          3708 N EAGLE ROCK BLVD  False   \n",
       "1     11787             REILLY'S             100 WORLD WAY # 120  False   \n",
       "2     11788       STREET CHURROS       6801 HOLLYWOOD BLVD # 253  False   \n",
       "3     11789    TRINITI ECHO PARK              1814 W SUNSET BLVD  False   \n",
       "4     11790               POLLEN              2100 ECHO PARK AVE  False   \n",
       "...     ...                  ...                             ...    ...   \n",
       "9644  21430      LA BUFADORA BAR                   3470 E 1ST ST  False   \n",
       "9645  21431           SAINT MARC  10250 SANTA MONICA BLVD # 1025  False   \n",
       "9646  21432      HALL OF JUSTICE                217 W TEMPLE AVE  False   \n",
       "9647  21433          FIN-MELROSE                5750 MELROSE AVE  False   \n",
       "9649  21435      MEDIDATE COFFEE         548 S SPRING ST STE 100  False   \n",
       "\n",
       "     establishment_type  seats  \n",
       "0                  Cafe     26  \n",
       "1            Restaurant      9  \n",
       "2             Fast Food     20  \n",
       "3            Restaurant     22  \n",
       "4            Restaurant     20  \n",
       "...                 ...    ...  \n",
       "9644                Bar     24  \n",
       "9645         Restaurant    225  \n",
       "9646         Restaurant    122  \n",
       "9647         Restaurant     93  \n",
       "9649               Cafe      6  \n",
       "\n",
       "[5972 rows x 6 columns]"
      ]
     },
     "execution_count": 26,
     "metadata": {},
     "output_type": "execute_result"
    }
   ],
   "source": [
    "#Group all the chain columns that are false\n",
    "chain_false_df = df[df['chain'] == False]\n",
    "chain_false_df"
   ]
  },
  {
   "cell_type": "code",
   "execution_count": 27,
   "metadata": {},
   "outputs": [
    {
     "data": {
      "text/plain": [
       "count    5972.000000\n",
       "mean       46.171467\n",
       "std        49.875746\n",
       "min         1.000000\n",
       "25%        14.000000\n",
       "50%        28.000000\n",
       "75%        47.000000\n",
       "max       229.000000\n",
       "Name: seats, dtype: float64"
      ]
     },
     "execution_count": 27,
     "metadata": {},
     "output_type": "execute_result"
    }
   ],
   "source": [
    "# statistical information about the 'seats' column\n",
    "fseats_description = chain_false_df['seats'].describe()\n",
    "fseats_description"
   ]
  },
  {
   "cell_type": "markdown",
   "metadata": {},
   "source": [
    "**General Conclution**\n",
    "\n",
    "Chains are characterizes by few establishments with a lot of seats."
   ]
  },
  {
   "cell_type": "markdown",
   "metadata": {},
   "source": [
    "## Determine the average number of seats for each type of restaurant. On average, which type of restaurant has the greatest number of seats? Plot graphs."
   ]
  },
  {
   "cell_type": "code",
   "execution_count": 28,
   "metadata": {},
   "outputs": [
    {
     "data": {
      "text/html": [
       "<div>\n",
       "<style scoped>\n",
       "    .dataframe tbody tr th:only-of-type {\n",
       "        vertical-align: middle;\n",
       "    }\n",
       "\n",
       "    .dataframe tbody tr th {\n",
       "        vertical-align: top;\n",
       "    }\n",
       "\n",
       "    .dataframe thead th {\n",
       "        text-align: right;\n",
       "    }\n",
       "</style>\n",
       "<table border=\"1\" class=\"dataframe\">\n",
       "  <thead>\n",
       "    <tr style=\"text-align: right;\">\n",
       "      <th></th>\n",
       "      <th>establishment_type</th>\n",
       "      <th>seats</th>\n",
       "    </tr>\n",
       "  </thead>\n",
       "  <tbody>\n",
       "    <tr>\n",
       "      <th>0</th>\n",
       "      <td>Bakery</td>\n",
       "      <td>21.773852</td>\n",
       "    </tr>\n",
       "    <tr>\n",
       "      <th>1</th>\n",
       "      <td>Bar</td>\n",
       "      <td>44.767123</td>\n",
       "    </tr>\n",
       "    <tr>\n",
       "      <th>2</th>\n",
       "      <td>Cafe</td>\n",
       "      <td>25.000000</td>\n",
       "    </tr>\n",
       "    <tr>\n",
       "      <th>3</th>\n",
       "      <td>Fast Food</td>\n",
       "      <td>31.837711</td>\n",
       "    </tr>\n",
       "    <tr>\n",
       "      <th>4</th>\n",
       "      <td>Pizza</td>\n",
       "      <td>28.459375</td>\n",
       "    </tr>\n",
       "    <tr>\n",
       "      <th>5</th>\n",
       "      <td>Restaurant</td>\n",
       "      <td>48.042316</td>\n",
       "    </tr>\n",
       "  </tbody>\n",
       "</table>\n",
       "</div>"
      ],
      "text/plain": [
       "  establishment_type      seats\n",
       "0             Bakery  21.773852\n",
       "1                Bar  44.767123\n",
       "2               Cafe  25.000000\n",
       "3          Fast Food  31.837711\n",
       "4              Pizza  28.459375\n",
       "5         Restaurant  48.042316"
      ]
     },
     "execution_count": 28,
     "metadata": {},
     "output_type": "execute_result"
    }
   ],
   "source": [
    "# Calculate average seats by establishment type\n",
    "average_seats_by_type = df.groupby('establishment_type')['seats'].mean().reset_index()\n",
    "average_seats_by_type"
   ]
  },
  {
   "cell_type": "code",
   "execution_count": 29,
   "metadata": {},
   "outputs": [
    {
     "data": {
      "text/html": [
       "<div>\n",
       "<style scoped>\n",
       "    .dataframe tbody tr th:only-of-type {\n",
       "        vertical-align: middle;\n",
       "    }\n",
       "\n",
       "    .dataframe tbody tr th {\n",
       "        vertical-align: top;\n",
       "    }\n",
       "\n",
       "    .dataframe thead th {\n",
       "        text-align: right;\n",
       "    }\n",
       "</style>\n",
       "<table border=\"1\" class=\"dataframe\">\n",
       "  <thead>\n",
       "    <tr style=\"text-align: right;\">\n",
       "      <th></th>\n",
       "      <th>establishment_type</th>\n",
       "      <th>seats</th>\n",
       "    </tr>\n",
       "  </thead>\n",
       "  <tbody>\n",
       "    <tr>\n",
       "      <th>5</th>\n",
       "      <td>Restaurant</td>\n",
       "      <td>48.042316</td>\n",
       "    </tr>\n",
       "    <tr>\n",
       "      <th>1</th>\n",
       "      <td>Bar</td>\n",
       "      <td>44.767123</td>\n",
       "    </tr>\n",
       "    <tr>\n",
       "      <th>3</th>\n",
       "      <td>Fast Food</td>\n",
       "      <td>31.837711</td>\n",
       "    </tr>\n",
       "    <tr>\n",
       "      <th>4</th>\n",
       "      <td>Pizza</td>\n",
       "      <td>28.459375</td>\n",
       "    </tr>\n",
       "    <tr>\n",
       "      <th>2</th>\n",
       "      <td>Cafe</td>\n",
       "      <td>25.000000</td>\n",
       "    </tr>\n",
       "    <tr>\n",
       "      <th>0</th>\n",
       "      <td>Bakery</td>\n",
       "      <td>21.773852</td>\n",
       "    </tr>\n",
       "  </tbody>\n",
       "</table>\n",
       "</div>"
      ],
      "text/plain": [
       "  establishment_type      seats\n",
       "5         Restaurant  48.042316\n",
       "1                Bar  44.767123\n",
       "3          Fast Food  31.837711\n",
       "4              Pizza  28.459375\n",
       "2               Cafe  25.000000\n",
       "0             Bakery  21.773852"
      ]
     },
     "execution_count": 29,
     "metadata": {},
     "output_type": "execute_result"
    }
   ],
   "source": [
    "# Sort in descending order\n",
    "average_seats_by_type = average_seats_by_type.sort_values(by='seats', ascending=False)\n",
    "average_seats_by_type"
   ]
  },
  {
   "cell_type": "code",
   "execution_count": 30,
   "metadata": {
    "scrolled": true
   },
   "outputs": [
    {
     "data": {
      "image/png": "[encoded data removed]",
      "text/plain": [
       "<Figure size 864x576 with 1 Axes>"
      ]
     },
     "metadata": {
      "needs_background": "light"
     },
     "output_type": "display_data"
    }
   ],
   "source": [
    "# Create a bar plot\n",
    "plt.figure(figsize=(12, 8))\n",
    "sns.barplot(x='seats', y='establishment_type', data=average_seats_by_type, palette='viridis')\n",
    "plt.title('Average Number of Seats for Each Type of Restaurant')\n",
    "plt.xlabel('Average Number of Seats')\n",
    "plt.ylabel('Establishment Type')\n",
    "plt.show()\n"
   ]
  },
  {
   "cell_type": "markdown",
   "metadata": {},
   "source": [
    "## Put the data on street names from the address column in a separate column.\n"
   ]
  },
  {
   "cell_type": "code",
   "execution_count": 31,
   "metadata": {},
   "outputs": [
    {
     "data": {
      "text/html": [
       "<div>\n",
       "<style scoped>\n",
       "    .dataframe tbody tr th:only-of-type {\n",
       "        vertical-align: middle;\n",
       "    }\n",
       "\n",
       "    .dataframe tbody tr th {\n",
       "        vertical-align: top;\n",
       "    }\n",
       "\n",
       "    .dataframe thead th {\n",
       "        text-align: right;\n",
       "    }\n",
       "</style>\n",
       "<table border=\"1\" class=\"dataframe\">\n",
       "  <thead>\n",
       "    <tr style=\"text-align: right;\">\n",
       "      <th></th>\n",
       "      <th>id</th>\n",
       "      <th>establishment_name</th>\n",
       "      <th>address</th>\n",
       "      <th>chain</th>\n",
       "      <th>establishment_type</th>\n",
       "      <th>seats</th>\n",
       "    </tr>\n",
       "  </thead>\n",
       "  <tbody>\n",
       "    <tr>\n",
       "      <th>0</th>\n",
       "      <td>11786</td>\n",
       "      <td>HABITAT COFFEE SHOP</td>\n",
       "      <td>3708 N EAGLE ROCK BLVD</td>\n",
       "      <td>False</td>\n",
       "      <td>Cafe</td>\n",
       "      <td>26</td>\n",
       "    </tr>\n",
       "    <tr>\n",
       "      <th>1</th>\n",
       "      <td>11787</td>\n",
       "      <td>REILLY'S</td>\n",
       "      <td>100 WORLD WAY # 120</td>\n",
       "      <td>False</td>\n",
       "      <td>Restaurant</td>\n",
       "      <td>9</td>\n",
       "    </tr>\n",
       "    <tr>\n",
       "      <th>2</th>\n",
       "      <td>11788</td>\n",
       "      <td>STREET CHURROS</td>\n",
       "      <td>6801 HOLLYWOOD BLVD # 253</td>\n",
       "      <td>False</td>\n",
       "      <td>Fast Food</td>\n",
       "      <td>20</td>\n",
       "    </tr>\n",
       "    <tr>\n",
       "      <th>3</th>\n",
       "      <td>11789</td>\n",
       "      <td>TRINITI ECHO PARK</td>\n",
       "      <td>1814 W SUNSET BLVD</td>\n",
       "      <td>False</td>\n",
       "      <td>Restaurant</td>\n",
       "      <td>22</td>\n",
       "    </tr>\n",
       "    <tr>\n",
       "      <th>4</th>\n",
       "      <td>11790</td>\n",
       "      <td>POLLEN</td>\n",
       "      <td>2100 ECHO PARK AVE</td>\n",
       "      <td>False</td>\n",
       "      <td>Restaurant</td>\n",
       "      <td>20</td>\n",
       "    </tr>\n",
       "  </tbody>\n",
       "</table>\n",
       "</div>"
      ],
      "text/plain": [
       "      id   establishment_name                    address  chain  \\\n",
       "0  11786  HABITAT COFFEE SHOP     3708 N EAGLE ROCK BLVD  False   \n",
       "1  11787             REILLY'S        100 WORLD WAY # 120  False   \n",
       "2  11788       STREET CHURROS  6801 HOLLYWOOD BLVD # 253  False   \n",
       "3  11789    TRINITI ECHO PARK         1814 W SUNSET BLVD  False   \n",
       "4  11790               POLLEN         2100 ECHO PARK AVE  False   \n",
       "\n",
       "  establishment_type  seats  \n",
       "0               Cafe     26  \n",
       "1         Restaurant      9  \n",
       "2          Fast Food     20  \n",
       "3         Restaurant     22  \n",
       "4         Restaurant     20  "
      ]
     },
     "execution_count": 31,
     "metadata": {},
     "output_type": "execute_result"
    }
   ],
   "source": [
    "df.head(5)"
   ]
  },
  {
   "cell_type": "code",
   "execution_count": 32,
   "metadata": {},
   "outputs": [
    {
     "name": "stderr",
     "output_type": "stream",
     "text": [
      "/tmp/ipykernel_104/2608128538.py:5: FutureWarning: The default value of regex will change from True to False in a future version.\n",
      "  df['street_name'] = df['street_name'].str.replace(r'^(w |s |e |n )', '', case=False)\n"
     ]
    },
    {
     "data": {
      "text/html": [
       "<div>\n",
       "<style scoped>\n",
       "    .dataframe tbody tr th:only-of-type {\n",
       "        vertical-align: middle;\n",
       "    }\n",
       "\n",
       "    .dataframe tbody tr th {\n",
       "        vertical-align: top;\n",
       "    }\n",
       "\n",
       "    .dataframe thead th {\n",
       "        text-align: right;\n",
       "    }\n",
       "</style>\n",
       "<table border=\"1\" class=\"dataframe\">\n",
       "  <thead>\n",
       "    <tr style=\"text-align: right;\">\n",
       "      <th></th>\n",
       "      <th>id</th>\n",
       "      <th>establishment_name</th>\n",
       "      <th>address</th>\n",
       "      <th>chain</th>\n",
       "      <th>establishment_type</th>\n",
       "      <th>seats</th>\n",
       "      <th>street_name</th>\n",
       "    </tr>\n",
       "  </thead>\n",
       "  <tbody>\n",
       "    <tr>\n",
       "      <th>0</th>\n",
       "      <td>11786</td>\n",
       "      <td>HABITAT COFFEE SHOP</td>\n",
       "      <td>3708 N EAGLE ROCK BLVD</td>\n",
       "      <td>False</td>\n",
       "      <td>Cafe</td>\n",
       "      <td>26</td>\n",
       "      <td>EAGLE ROCK BLVD</td>\n",
       "    </tr>\n",
       "    <tr>\n",
       "      <th>1</th>\n",
       "      <td>11787</td>\n",
       "      <td>REILLY'S</td>\n",
       "      <td>100 WORLD WAY # 120</td>\n",
       "      <td>False</td>\n",
       "      <td>Restaurant</td>\n",
       "      <td>9</td>\n",
       "      <td>WORLD WAY</td>\n",
       "    </tr>\n",
       "    <tr>\n",
       "      <th>2</th>\n",
       "      <td>11788</td>\n",
       "      <td>STREET CHURROS</td>\n",
       "      <td>6801 HOLLYWOOD BLVD # 253</td>\n",
       "      <td>False</td>\n",
       "      <td>Fast Food</td>\n",
       "      <td>20</td>\n",
       "      <td>HOLLYWOOD BLVD</td>\n",
       "    </tr>\n",
       "    <tr>\n",
       "      <th>3</th>\n",
       "      <td>11789</td>\n",
       "      <td>TRINITI ECHO PARK</td>\n",
       "      <td>1814 W SUNSET BLVD</td>\n",
       "      <td>False</td>\n",
       "      <td>Restaurant</td>\n",
       "      <td>22</td>\n",
       "      <td>SUNSET BLVD</td>\n",
       "    </tr>\n",
       "    <tr>\n",
       "      <th>4</th>\n",
       "      <td>11790</td>\n",
       "      <td>POLLEN</td>\n",
       "      <td>2100 ECHO PARK AVE</td>\n",
       "      <td>False</td>\n",
       "      <td>Restaurant</td>\n",
       "      <td>20</td>\n",
       "      <td>ECHO PARK AVE</td>\n",
       "    </tr>\n",
       "    <tr>\n",
       "      <th>...</th>\n",
       "      <td>...</td>\n",
       "      <td>...</td>\n",
       "      <td>...</td>\n",
       "      <td>...</td>\n",
       "      <td>...</td>\n",
       "      <td>...</td>\n",
       "      <td>...</td>\n",
       "    </tr>\n",
       "    <tr>\n",
       "      <th>9646</th>\n",
       "      <td>21432</td>\n",
       "      <td>HALL OF JUSTICE</td>\n",
       "      <td>217 W TEMPLE AVE</td>\n",
       "      <td>False</td>\n",
       "      <td>Restaurant</td>\n",
       "      <td>122</td>\n",
       "      <td>TEMPLE AVE</td>\n",
       "    </tr>\n",
       "    <tr>\n",
       "      <th>9647</th>\n",
       "      <td>21433</td>\n",
       "      <td>FIN-MELROSE</td>\n",
       "      <td>5750 MELROSE AVE</td>\n",
       "      <td>False</td>\n",
       "      <td>Restaurant</td>\n",
       "      <td>93</td>\n",
       "      <td>MELROSE AVE</td>\n",
       "    </tr>\n",
       "    <tr>\n",
       "      <th>9648</th>\n",
       "      <td>21434</td>\n",
       "      <td>JUICY WINGZ</td>\n",
       "      <td>6741 HOLLYWOOD BLVD</td>\n",
       "      <td>True</td>\n",
       "      <td>Fast Food</td>\n",
       "      <td>15</td>\n",
       "      <td>HOLLYWOOD BLVD</td>\n",
       "    </tr>\n",
       "    <tr>\n",
       "      <th>9649</th>\n",
       "      <td>21435</td>\n",
       "      <td>MEDIDATE COFFEE</td>\n",
       "      <td>548 S SPRING ST STE 100</td>\n",
       "      <td>False</td>\n",
       "      <td>Cafe</td>\n",
       "      <td>6</td>\n",
       "      <td>SPRING ST STE 100</td>\n",
       "    </tr>\n",
       "    <tr>\n",
       "      <th>9650</th>\n",
       "      <td>21436</td>\n",
       "      <td>CAFE SPROUTS</td>\n",
       "      <td>1300 S SAN PEDRO ST STE 111</td>\n",
       "      <td>True</td>\n",
       "      <td>Restaurant</td>\n",
       "      <td>19</td>\n",
       "      <td>SAN PEDRO ST STE 111</td>\n",
       "    </tr>\n",
       "  </tbody>\n",
       "</table>\n",
       "<p>9651 rows × 7 columns</p>\n",
       "</div>"
      ],
      "text/plain": [
       "         id   establishment_name                      address  chain  \\\n",
       "0     11786  HABITAT COFFEE SHOP       3708 N EAGLE ROCK BLVD  False   \n",
       "1     11787             REILLY'S          100 WORLD WAY # 120  False   \n",
       "2     11788       STREET CHURROS    6801 HOLLYWOOD BLVD # 253  False   \n",
       "3     11789    TRINITI ECHO PARK           1814 W SUNSET BLVD  False   \n",
       "4     11790               POLLEN           2100 ECHO PARK AVE  False   \n",
       "...     ...                  ...                          ...    ...   \n",
       "9646  21432      HALL OF JUSTICE             217 W TEMPLE AVE  False   \n",
       "9647  21433          FIN-MELROSE             5750 MELROSE AVE  False   \n",
       "9648  21434          JUICY WINGZ          6741 HOLLYWOOD BLVD   True   \n",
       "9649  21435      MEDIDATE COFFEE      548 S SPRING ST STE 100  False   \n",
       "9650  21436         CAFE SPROUTS  1300 S SAN PEDRO ST STE 111   True   \n",
       "\n",
       "     establishment_type  seats           street_name  \n",
       "0                  Cafe     26       EAGLE ROCK BLVD  \n",
       "1            Restaurant      9            WORLD WAY   \n",
       "2             Fast Food     20       HOLLYWOOD BLVD   \n",
       "3            Restaurant     22           SUNSET BLVD  \n",
       "4            Restaurant     20         ECHO PARK AVE  \n",
       "...                 ...    ...                   ...  \n",
       "9646         Restaurant    122            TEMPLE AVE  \n",
       "9647         Restaurant     93           MELROSE AVE  \n",
       "9648          Fast Food     15        HOLLYWOOD BLVD  \n",
       "9649               Cafe      6     SPRING ST STE 100  \n",
       "9650         Restaurant     19  SAN PEDRO ST STE 111  \n",
       "\n",
       "[9651 rows x 7 columns]"
      ]
     },
     "execution_count": 32,
     "metadata": {},
     "output_type": "execute_result"
    }
   ],
   "source": [
    "# create a sepaate column for the street name\n",
    "df['street_name'] = df['address'].apply(lambda x: ' '.join(x.split(' ')[1:]))\n",
    "\n",
    "# Remove 'w', 's', 'e', 'n' followed by a space at the beginning of each street name\n",
    "df['street_name'] = df['street_name'].str.replace(r'^(w |s |e |n )', '', case=False)\n",
    "\n",
    "# Remove '#' and numbers from the 'street_name' column\n",
    "df['street_name'] = df['street_name'].str.replace(r'#\\s*\\d+', '', regex=True)\n",
    "\n",
    "# Remove 'ste' and numbers or letters at the end of each street name\n",
    "df['street_name'] = df['street_name'].str.replace(r'ste\\s*\\w*$', '', regex=True)\n",
    "\n",
    "# Display DataFrame\n",
    "df"
   ]
  },
  {
   "cell_type": "code",
   "execution_count": 33,
   "metadata": {},
   "outputs": [
    {
     "data": {
      "text/plain": [
       "array(['1/2 3RD ST', '1/2 7TH ST', '1/2 BEVERLY BLVD', ..., 'pico BLVD',\n",
       "       'sunset BLVD', 'vine ST '], dtype=object)"
      ]
     },
     "execution_count": 33,
     "metadata": {},
     "output_type": "execute_result"
    }
   ],
   "source": [
    "# viewing unique street names\n",
    "df[\"street_name\"].sort_values().unique()"
   ]
  },
  {
   "cell_type": "code",
   "execution_count": 34,
   "metadata": {},
   "outputs": [
    {
     "name": "stdout",
     "output_type": "stream",
     "text": [
      "['EAGLE ROCK BLVD' 'WORLD WAY ' 'HOLLYWOOD BLVD ' ... 'TEMPLE AVE'\n",
      " 'SPRING ST STE 100' 'SAN PEDRO ST STE 111']\n"
     ]
    }
   ],
   "source": [
    "# Get unique values in the 'street_name' column\n",
    "unique_street_names = df['street_name'].unique()\n",
    "\n",
    "# Display the result\n",
    "print(unique_street_names)"
   ]
  },
  {
   "cell_type": "code",
   "execution_count": 35,
   "metadata": {},
   "outputs": [
    {
     "data": {
      "text/plain": [
       "0            EAGLE ROCK BLVD\n",
       "1                 WORLD WAY \n",
       "2            HOLLYWOOD BLVD \n",
       "3                SUNSET BLVD\n",
       "4              ECHO PARK AVE\n",
       "                ...         \n",
       "9646              TEMPLE AVE\n",
       "9647             MELROSE AVE\n",
       "9648          HOLLYWOOD BLVD\n",
       "9649       SPRING ST STE 100\n",
       "9650    SAN PEDRO ST STE 111\n",
       "Name: street_name, Length: 9651, dtype: object"
      ]
     },
     "execution_count": 35,
     "metadata": {},
     "output_type": "execute_result"
    }
   ],
   "source": [
    "# Display the DataFrame with the 'street_name' column\n",
    "df['street_name']\n"
   ]
  },
  {
   "cell_type": "code",
   "execution_count": 36,
   "metadata": {},
   "outputs": [
    {
     "name": "stdout",
     "output_type": "stream",
     "text": [
      "['EAGLE ROCK BLVD', 'WORLD WAY ', 'HOLLYWOOD BLVD ', 'SUNSET BLVD', 'ECHO PARK AVE', 'NATIONAL BLVD', 'WORLD WAY ', '6TH ST STE 226', 'SAN FERNANDO RD UNIT 103', 'CAHUENGA BLVD', 'SUNSET BLVD', 'WESTERN AVE STE 109', '6TH ST STE 101', 'SLAUSON AVE', 'SUNSET BLVD #A', 'WESTERN AVE STE 300', 'WILSHIRE BLVD', 'OXFORD AVE ', 'MELROSE AVE', 'WORLD WAY', '6TH ST STE ', '6TH ST STE ', 'WILSHIRE BLVD', 'WALL ST STE 123', 'MELROSE AVE', 'SAN VICENTE BLVD', 'INDIANA ST', 'LA CIENEGA BLVD', '3RD ST', 'ALVARADO ST STE 111C', '3/4 WALL ST', 'SUNSET BLVD', 'WESTERN AVE', 'SUNSET BLVD', 'SUNSET BLVD', 'SUNSET BLVD STE 150', 'SAN VICENTE BLVD', 'SUNSET BLVD', 'GLENDALE BLVD', 'FIGUEROA ST', 'GRAND AVE STE 101', 'SUNSET BLVD', 'LA CIENEGA BLVD', 'PICO BLVD', 'FIGUEROA ST', 'WORLD WAY LVL6 SP5', 'WORLD WAY', 'OLYMPIC BLVD', 'FLOWER ST STE #B420', 'VINE ST', '5TH ST ', 'OLYMPIC BLVD', 'GRAND AVE', '1ST ST', 'HOPE ST', 'HOLLYWOOD BLVD', 'WORLD WAY', 'SUNSET BLVD', 'MATEO ST', 'KNOX AVE', 'AIRPORT BLVD', 'FLOWER ST # B-270', 'WORLD WAY', 'MARIACHI PLZ', 'SAN FERNANDO RD', 'FLOWER ST # B300F', 'ROSWELL ST', 'VERDUGO RD', 'FRANKLIN AVE', 'FLOWER ST', 'OLYMPIC BLVD ', 'SAN FERNANDO RD', 'PACIFIC AVE', 'WORLD WAY C', 'OLYMPIC BLVD STE 309', 'OLYMPIC BLVD STE 105', 'GRAND AVE', 'VINE ST', 'VINE ST', 'FRANKLIN AVE', 'FRANKLIN AVE', 'GLENDALE BLVD', '1ST ST', 'FLOWER ST # B-15', 'WORLD WAY S4', 'OLYMPIC BLVD', 'PASADENA AVE', 'OLYMPIC BLVD STE 311', 'HOLLYWOOD BLVD', 'OLYMPIC BLVD STE 310', 'WORLD WAY # T81', 'WORLD WAY 5TH FLR', 'VINE ST', 'GATEWAY BLVD', 'GLENDALE BLVD', 'WORLD WAY ', 'SUNSET BLVD', 'TEMPLE ST', 'LORENA ST', 'HOLLYWOOD BLVD  -221', 'HOLLYWOOD BLVD', 'HOLLYWOOD BLVD STE 325', 'FIGUEROA ST', 'SOTO ST', 'WORLD WAY ', 'HOLLYWOOD BLVD ', 'SUNSET BLVD', 'WORLD WAY', 'HOLLYWOOD BLVD ', 'SOTO ST', 'AVION DR', '7TH ST', 'FIGUEROA ST', 'GLENDALE BLVD', 'MANCHESTER AVE LOS', 'FIGUEROA ST', '11TH ST', 'SEPULVEDA BLVD', '7TH ST', 'GLENDALE BLVD', 'FIGUEROA ST', 'FIGUEROA ST', 'HOLLYWOOD BLVD STE 423', '7TH ST', 'CESAR E CHAVEZ AVE', 'LINCOLN BLVD STE 190', 'CAHUENGA BLVD W', 'FIGUEROA ST LBBY LOBBY', 'WORLD WAY', 'FAIRFAX AVE STE ', 'BEVERLY BLVD', '3/4 W MANCHESTER AVE', 'WILSHIRE BLVD', 'OLYMPIC BLVD', 'COLORADO BLVD STE 105', 'SUNSET BLVD # A120', 'SUNSET BLVD ', 'WORLD WAY ', 'WESTWOOD PLZ 505', 'WESTWOOD PLZ # A233B', 'LEIMERT BLVD', 'SUNSET BLVD', 'CHICK HEARN CT', 'SUNSET BLVD', '6TH ST', 'WORLD WAY T38', 'SUNSET BLVD', 'TOPANGA CANYON BLVD', '6TH ST', 'LOS FELIZ BLVD STE 2', 'SUNSET BLVD', 'PASADENA AVE', 'FLORENCE AVE', '7TH ST ', 'WORLD WAY T48', 'SUNSET BLVD', 'SUNSET BLVD', 'CESAR E CHAVEZ AVE', 'PORTER ST', 'NORMANDIE AVE', 'GAYLEY AVE', 'SOTO ST', 'CENTINELA AVE STE #A', 'SUNSET BLVD', '59TH ST', 'SUNSET BLVD', 'SUNSET BLVD ', 'SAN JULIAN ST', 'OLYMPIC BLVD', 'SLAUSON AVE', 'OLYMPIC BLVD', 'OLYMPIC BLVD ', 'WILSHIRE BLVD STE A3-A5', '8TH ST ', '4TH ST', 'OLYMPIC BLVD', 'LA BREA AVE', '6TH ST', 'CENTURY BLVD', 'LA BREA AVE', 'SUNSET BLVD', 'SOTO ST STE 9', 'WILSHIRE BLVD STE B-7', 'SEPULVEDA BLVD # ', 'WHITTIER BLVD', 'WILSHIRE BLVD STE B-11', 'VERMONT AVE', '8TH ST', 'WESTERN AVE', 'WESTERN AVE 38', '6TH ST B', 'CITY TERRACE DR', '4TH ST', 'VERMONT AVE', '87TH ST', 'BEVERLY BLVD', 'GAYLEY AVE', 'FIGUEROA ST', 'DIVISION ST', 'SLAUSON AVE', 'FIGUEROA ST STE 418A', 'SUNSET BLVD', 'SUNSET BLVD', 'CENTRAL AVE', 'WABASH AVE', 'SLAUSON AVE', 'NORMANDIE AVE', 'BROADWAY', 'SUNSET BLVD', 'BROADWAY', 'LA CIENEGA BLVD', 'CAHUENGA BLVD', 'NORMANDIE AVE', 'SUNSET BLVD', '6TH ST ', 'CRENSHAW BLVD', 'MELROSE AVE', 'NEW HAMPSHIRE AVE # F1', 'SUNSET BLVD', 'VERMONT AVE', 'WESTERN AVE', 'SERRANO AVE', '8TH ST', 'WESTERN AVE STE 41', 'FIGUEROA ST 35TH', 'PICO BLVD', '6TH ST # A', 'LA PUERTA ST', 'CENTURY BLVD', '4TH ST', 'DIVISION ST', '8TH ST', 'LA BREA AVE', 'HIGHLAND AVE', 'SANTEE ST', 'WILSHIRE BLVD STE I', 'LINCOLN BLVD', 'OLYMPIC BLVD', 'IROLO ST STE ', 'FIGUEROA ST', '7TH ST', 'TEMPLE ST', 'MARIPOSA AVE', '1/2 WILSHIRE BLVD', 'SUNSET BLVD', '7TH ST', 'FIGUEROA ST ', 'OLYMPIC BLVD', '8TH ST # B', 'WASHINGTON BLVD', 'FRANKLIN AVE', 'BEVERLY BLVD', 'LOS ANGELES ST ', 'SUNSET BLVD', 'FIGUEROA ST', '3RD ST', 'IROLO ST STE ', 'BROADWAY', '8TH ST', 'SPRING ST STE B', 'WILSHIRE BLVD STE A', '4TH ST', 'VINE ST STE ', 'HOLLYWOOD BLVD ', 'BEVERLY BLVD', 'HOLLYWOOD BLVD STE ', 'COLORADO BLVD', 'BROADWAY', 'HILL ST # S4', 'BEVERLY BLVD', 'OLYMPIC BLVD', 'LA BREA AVE', '8TH ST', 'WASHINGTON BLVD', 'SPRING ST', 'WILSHIRE BLVD STE B', 'MELROSE AVE', 'WESTERN AVE STE S', 'ARDMORE AVE ', 'BEVERLY BLVD', 'EL SEGUNDO BLVD', '1/2 E CESAR E CHAVEZ AVE', '1/2 N BROADWAY', 'LA BREA AVE', 'GRIFFIN AVE', 'MLK BLVD', 'HILL ST ARCA 5', '5TH ST ', 'COLORADO BLVD', 'FIGUEROA ST ', 'CENTURY BLVD', 'SPRING ST', '1/2 W 7TH ST', 'WASHINGTON BLVD', '6TH ST STE 101', '9TH ST STE 109', 'OLYMPIC BLVD STE A160', 'HOLLYWOOD BLVD', 'SAN VICENTE BLVD ', 'WILSHIRE BLVD', 'WILSHIRE BLVD', 'HOOPER AVE', 'FIGUEROA ST STE 401-B', 'VENICE BLVD', 'SANTEE ST', 'LAS PALMAS AVE', '1/2 S SANTEE ST', '1/2 WILSHIRE BLVD', 'CAHUENGA BLVD', 'SUNSET BLVD STE #A', 'FLOWER ST STE B430', 'SOTO ST', 'GRAND AVE LP 155', 'EL SEGUNDO BLVD', 'WILSHIRE BLVD STE 102', 'GLENDALE BLVD', 'SANTEE ST', 'MONTEREY RD', 'GLENDALE BLVD', 'SOTO ST', 'CESAR CHAVEZ AVE', 'BISHOPS RD', 'HOLLYWOOD BLVD', 'IMPERIAL HWY STE 104', 'AVALON BLVD', 'GLENDALE BLVD', 'HOLLYWOOD BLVD', 'FLOWER ST STE B250', 'VERNON AVE # D-51', 'MAIN ST', 'CENTURY BLVD STE D', 'LMU DR #MS 8420', '6TH ST', '1ST ST STE 132', 'WESTERN AVE ', 'BARRINGTON AVE', 'WABASH AVE', 'HOLLYWOOD BLVD', '1ST ST', 'CENTURY BLVD ', '6TH ST', 'WESTERN AVE', '6TH ST', 'WHITTIER BLVD', 'SUNSET BLVD', 'WESTWOOD BLVD', '6TH ST # F', 'MELROSE AVE', 'SUNSET BLVD', 'HOLLYWOOD BLVD', 'SUNSET BLVD', 'WILSHIRE BLVD STE B9', 'WESTERN AVE ', 'YORK BLVD', '6TH ST STE 8B', 'HOLLYWOOD BLVD', 'SEPULVEDA BLVD', 'TAMPA AVE', 'WILSHIRE BLVD', 'PICO BLVD', 'YORK BLVD # B', 'SANTA MONICA BLVD ', 'LA CIENEGA BLVD', 'WESTERN AVE', 'PICO BLVD ', 'HOLLYWOOD BLVD STE 105', 'ALAMEDA ST', 'WESTWOOD BLVD # D', 'HOLLYWOOD BLVD', 'LA CIENEGA BLVD', 'SUNSET BLVD', 'YORK BLVD', 'WILSHIRE BLVD STE 120', 'WESTERN AVE', '6TH ST STE 300', 'AIRPORT BLVD', 'SANTA MONICA BLVD', 'SAWTELLE BLVD STE 110', 'HOLLYWOOD BLVD STE ', 'LARCHMONT BLVD', 'PICO BLVD', 'SUNSET BLVD # A 202', 'LARCHMONT BLVD', 'MELROSE AVE', 'BRADDOCK DR', 'HOLLYWOOD BLVD', 'MELROSE AVE # A', '8TH ST', 'WILSHIRE BLVD STE ', 'LARCHMONT BLVD', 'WILSHIRE BLVD', 'WASHINGTON BLVD', 'COLORADO BLVD STE B', 'LINCOLN BLVD STE 120', 'FIGUEROA ST B101 -B201', '3RD ST', 'SAN PABLO ST', 'CLINTON ST', 'COMPTON AVE', 'BROADWAY # C-11', 'BROADWAY ST #C1/2', 'MELROSE AVE', 'WILSHIRE BLVD', 'SUNSET BLVD # I', 'VERMONT AVE', 'WESTWOOD BLVD', 'COLBY AVE', 'SANTA MONICA BLVD ', 'WILSHIRE BLVD', 'BROADWAY # D4', 'SUNSET BLVD', 'WILSHIRE BLVD STE 2100', 'LA CIENGA BLVD', 'WHITTIER BLVD', 'CENTURY BLVD', 'SAN PEDRO ST STE 201', 'GOWER ST', 'HILL ST', 'MARENGO ST', 'HOLLYWOOD BLVD', 'CATALINA ST', 'WASHINGTON BLVD STE G2', 'SANTA MONICA BLVD # S1825', 'BARTON AVE FL 2ND', 'SAWTELLE BLVD', 'WILSHIRE BLVD', '3RD ST', 'BROADWAY STE B6-B7', 'MELROSE AVE', 'BROADWAY # F-3', 'MEDNIK AVE', 'SAWTELLE BLVD ', 'HILGARD AVE', 'SANTA MONICA BLVD A', 'FIRESTONE BLVD', 'SANTA MONICA BLVD ', 'LA BREA AVE', 'SUNSET BLVD', 'WILSHIRE BLVD C', 'MARENGO ST', 'MARENGO ST', 'BROADWAY 3 F-2', 'VERMONT AVE', 'WASHINGTON BLVD', 'WESTERN AVE', 'MELROSE AVE', 'SUN MUN WAY', 'WESTWOOD BLVD', 'WILSHIRE BLVD # GN5', 'YORK BLVD', 'PRODUCE ROW', 'BROADWAY', 'WASHINGTON BLVD', 'SUNSET BLVD STE #M', 'BROADWAY', '3RD ST STE ', 'FAIRFAX AVE STE A', 'TROUSDALE PKWY', 'VERMONT AVE', 'WHITTIER BLVD', 'MOUNTAIN GATE', 'VALLEY BLVD', 'TROUSDALE PKWY', 'SELMA AVE', 'YORK BLVD', 'VERMONT AVE STE 102', 'VENICE BLVD', 'NATIONAL BLVD', 'BARHAM BLVD', 'SELMA AVE', 'MELROSE AVE', 'SAWTELLE BLVD', 'GAYLEY AVE', 'WILSHIRE BLVD STE A', 'NATIONAL BLVD', 'MOUNTAIN GATE DR', 'CENTRAL ST', 'TOWNE AVE', '8TH ST', 'GLENDALE BLVD STE A', 'TROUSDALE PKWY', 'WHITTIER BLVD', 'SLAUSON AVE', 'HELMS AVE', 'SEPULVEDA BLVD', 'ROSCOMARE RD # A', 'ADAMS BLVD', 'CAHUENGA BLVD W STE 105', 'SAN PEDRO ST', 'SUNSET BLVD', 'MANCHESTER AVE', '15TH ST', 'FIGUEROA ST', 'SAN JULIAN ST', '3RD ST', 'WILSHIRE BLVD', 'PALMS BLVD', 'LA CIENEGA BLVD', 'FIGUEROA ST', 'AVENUE 56 2ND FL', 'PICO BLVD', 'WESTWOOD BLVD', 'SUNSET BLVD', 'BEVERLY BLVD', 'WILSHIRE BLVD', 'ALAMEDA ST # B9', 'WILSHIRE BLVD STE #A', 'FLOWER ST', 'FARING RD', 'FRANKLIN AVE', '6TH ST BM', 'FIGUEROA ST', 'MELROSE AVE', 'FRANKLIN AVE', 'FIGUEROA ST', 'LINDBROOK DR', 'GLENDON AVE', 'SEPULVEDA BLVD', 'FIGUEROA ST', 'FIGUEROA ST', 'WILSHIRE BLVD # B', 'FIGUEROA ST STE 401-A', 'SUNSET BLVD', 'FIGUEROA ST', '6TH ST 105', '3RD ST', 'STONE CANYON RD', 'ALAMEDA ST # J7', 'PICO BLVD', 'WILSHIRE BLVD STE #C', 'HIGHLAND AVE', 'GRAND AVE', 'SAN JULIAN ST', 'MELROSE AVE', 'SANTA MONICA BLVD', 'FIGUEROA ST', 'OLYMPIC BLVD', 'FIGUEROA ST', 'AVALON BLVD', '103RD ST', 'AVALON BLVD STE ', 'CENTRAL AVE', 'EL SEGUNDO BLVD', 'CENTURY BLVD', '103RD ST', 'GRAND AVE', 'GRAND AVE', 'AVALON BLVD', 'CENTURY BLVD', 'HOOVER ST', 'HILL ST STE 110', 'AVENUE 19 ST', 'CENTURY BLVD', 'CESAR E CHAVEZ AVE', 'CESAR E CHAVEZ AVE', 'PICO BLVD', 'SAWTELLE BLVD', 'IMPERIAL HWY', 'HOOVER ST', 'SANTA MONICA BLVD', 'CENTURY BLVD', 'VERMONT AVE', 'HOOVER ST', 'FIGUEROA ST LVL E', '4TH ST', 'EASTERN AVE', 'WESTERN AVE STE ', 'LINCOLN BLVD', 'FIGUEROA ST', 'HOOVER ST', 'WORLD WAY', 'PICO BLVD', 'BEVERLY BLVD', '1ST ST', '6TH ST', 'HILL ST #AU- 140', 'FIGUEROA ST', 'GLENDALE BLVD', 'GLENDALE BLVD', 'FIGUEROA ST', '6TH ST', 'FIGUEROA ST', 'WESTERN AVE # ', 'BROADWAY STE 111', 'BROADWAY STE 103', 'FLORENCE AVE', 'SEPULVEDA BLVD UNIT C', 'OLYMPIC BLVD', '6TH ST', 'OLYMPIC BLVD STE 107', 'SLAUSON AVE STE #B', 'CESAR E CHAVEZ AVE', 'FLORENCE AVE', '1ST ST', 'VINE ST', 'ORD ST', 'VERMONT AVE', '6TH ST STE 120A', 'MANCHESTER AVE', 'SAN PEDRO ST', 'WORLD WAY', 'CESAR E CHAVEZ AVE', '6TH ST ', 'CENTURY BLVD ', '1ST ST', 'OLYMPIC BLVD STE 101', 'SLAUSON AVE', 'WORLD WAY', 'CESAR E CHAVEZ AVE', 'CESAR E. CHAVEZ AVE', '1ST ST', '6TH ST STE 110', 'WORLD WAY ', 'OLYMPIC BLVD', '6TH ST ', 'BROADWAY', 'BARRINGTON AVE', 'CENTRAL AVE STE 170', 'MANCHESTER AVE', 'OLYMPIC BLVD ', 'WESTERN AVE', 'TRUXTON AVE', 'HUNTINGTON DR N', 'IMPERIAL ST', 'PICO BLVD', 'THE GROVE DR -10', 'FLORENCE AVE # #B', 'YORK BLVD', 'WHITTIER BLVD', 'VERMONT AVE # #B', 'WILSHIRE BLVD ', 'EAGLE ROCK BLVD', '6TH ST STE 110', 'SEPULVEDA BLVD', 'SUNSET BLVD', 'FIGUEROA ST', 'COMMONWEALTH AVE STE 100', 'VERMONT AVE', 'FLORENCE AVE # C', 'UNION AVE', 'EAGLE ROCK BLVD', 'THE GROVE DR # H-10', 'YORK BLVD', 'SEPULVEDA BLVD', 'VERMONT AVE ', 'EAGLE ROCK BLVD', 'EAGLE ROCK BLVD', '6TH ST', 'ALAMEDA ST', 'WHITTIER BLVD', 'LINDBROOK DR', 'SEPULVEDA BLVD', 'HIGHLAND AVE', 'WILSHIRE BLVD STE 301', 'COLORADO BLVD', 'SUNSET BLVD', '6TH ST', 'WILSHIRE BLVD STE 105', 'VIRGIL AVE', 'EAGLE ROCK BLVD STE 5', '6TH ST', 'FIGUEROA ST', 'COLORADO BLVD', 'CENTRAL AVE', 'SANTA MONICA BLVD # ', 'PICO BLVD', 'GRAND AVE', 'SUNSET BLVD', '7TH ST', 'CAHUENGA BLVD W', '3RD ST STE ', 'COLORADO BLVD', 'COMPTON AVE', 'SUNSET BLVD', 'FLETCHER DR # ', 'VENICE BLVD', 'FLETCHER DR', 'VENICE BLVD', 'FLETCHER DR', 'SAN PEDRO ST', '8TH ST', '3RD ST', 'SAN PEDRO ST', 'EAGLE  ROCK BLVD', 'MAIN ST', 'FLORENCE AVE', 'SUNSET BLVD', 'PICO BLVD', 'LOS FELIZ BLVD', 'SUNSET BLVD', 'PICO BLVD', 'DUNHAM ST', '8TH ST', '3RD ST ', 'MANCHESTER AVE', '3RD ST STE ', 'SAWTELLE BLVD', 'CAHUENGA BLVD W', 'GAGE AVE J-6', 'GRAND AVE', '3RD ST', '8TH ST', 'SAN PEDRO ST', 'ENTERPRISE ST', 'WHITTIER BLVD', '3RD ST STE ', 'BROADWAY', 'VERMONT AVE STE C', 'CENTINELA AVE ', 'SEWARD ST', 'LOS ANGELES ST STE #D', 'ROBERTSON BLVD', 'BROADWAY ST ', '3RD ST ', 'FAIRFAX AVE', 'VERMONT AVE', 'CENTINELA AVE', '1/2 S BROADWAY', 'CESAR CHAVEZ AVE', 'ROBERTSON BLVD #A', 'SANTA MONICA BLVD', 'BROADWAY', 'BROADWAY', 'BROADWAY', '3RD ST 336', 'FAIRFAX AVE', 'CENTINELA AVE # ', 'BROADWAY', 'BARHAM BLVD ', 'FIGUEROA ST STE ', 'FIGUEROA ST', 'ALAMEDA ST # W-09', 'WILSHIRE BLVD', 'ROBERTSON BLVD', 'GAYLEY AVE', 'ALAMEDA ST # J1', 'HOPE ST STE 110', 'ATLANTIC BLVD', 'MELROSE AVE', 'SLAUSON AVE', '1ST ST', 'SPRING ST', 'GRIFFITH PARK BLVD', 'AVALON BLVD', '6TH ST', '6TH ST', 'AVALON BLVD STE 102', 'AVALON BLVD', 'WHITTIER BLVD', 'SEPULVEDA BLVD', '6TH ST UNIT 105', 'HYPERION AVE # B', 'MELROSE AVE', 'WHITTIER BLVD', 'AVALON BLVD', 'SEPULVEDA BLVD STE 107', 'SEPULVEDA BLVD', 'SLAUSON AVE', 'MELROSE AVE # C', 'SEPULVEDA BLVD', '6TH ST', 'OLYMPIC BLVD', 'ATLANTIC BLVD', 'WHITTIER BLVD', 'OLYMPIC BLVD', 'OLYMPIC BLVD', '1ST ST', '1/2 HYPERION AVE', 'SEPULVEDA BLVD', 'GRIFFITH PARK', '6TH ST 110C', 'SEPULVEDA BLVD', '1ST ST', '1ST ST', 'HOLLYWOOD BLVD', 'WILSHIRE BLVD STE 110A', 'SELMA AVE', 'VIRGIL AVE UNIT 12', 'WILSHIRE BLVD STE 108', 'HOLLYWOOD BLVD', 'WILSHIRE BLVD # P01', 'LINCOLN BLVD STE ', 'PICO BLVD', 'VIRGIL AVE STE ', 'MELROSE AVE', 'WILSHIRE BLVD STE 110B', 'FIGUEROA ST', 'FLOWER ST STE 102', 'LA CIENEGA BLVD', '1/2 S SLATER ST', 'HOLLYWOOD BLVD', 'PICO BLVD', 'WILMINGTON AVE', 'WILSHIRE BLVD', 'COLORADO BLVD', 'HYPERION AVE', 'FLOWER ST', 'WILSHIRE BLVD STE T02', 'WILSHIRE BLVD ', 'MANCHESTER AVE', 'TEMPLE ST', 'ECHO PARK AVE', 'SANTEE ST # A', 'WILSHIRE BLVD STE 202', 'SANTEE ST', 'CENTINELA AVE', 'ECHO PARK AVE STE 105', '1ST ST', '7TH ST', 'CAHUENGA BLVD', 'DEVONSHIRE ST', 'ECHO PARK AVE', 'VENTURA BLVD', 'WINDWARD AVE', 'HOPE ST ', 'HOLLYWOOD BLVD ', 'ECHO PARK AVE', '1/2 FOUNTAIN AVE', 'COLORADO BLVD STE 146', 'CESAR E. CHAVEZ AVE', 'SANTA MONICA BLVD E', 'BRONSON AVE', 'HOLLYWOOD BLVD', 'SUNSET BLVD', 'PICO BLVD', 'WESTERN AVE', 'OLYMPIC BLVD', 'SANTA MONICA BLVD STE #F', 'FIGUEROA ST', 'WESTERN AVE', 'SANTA MONICA BLVD STE STE A', 'SANTEE ST', 'WESTERN AVE', 'FIGUEROA ST', '87TH ST', 'BEVERLY BLVD', 'LA BREA AVE', 'LA CIENEGA BLVD', 'SUNSET BLVD', 'HOLLYWOOD BLVD STE ', 'HOLLYWOOD BLVD', 'PASADENA AVE', 'SEPULVEDA BLVD STE 3', 'BEVERLY BLVD', 'PASADENA AVE STE #A', 'FIGUEROA ST ', 'HOLLYWOOD BLVD', 'HOLLYWOOD BLVD', 'COMPTON AVE', 'GAGE AVE STE #A', 'COMPTON AVE', 'SUNSET BLVD', 'WORLD WAY', 'SUNSET BLVD', 'PICO BLVD', 'VERMONT AVE', 'PICO BLVD', 'SEPULVEDA BLVD', 'TROUSDALE PKWY', 'SEPULVEDA BLVD', 'LA BREA AVE STE E', 'WESTERN AVE', 'PICO BLVD ', 'TROUSDALE PKWY', 'VENICE BLVD', 'OLYMPIC BLVD ', 'BEVERLY BLVD', 'WESTERN AVE STE ', 'OLYMPIC BLVD STE 202', 'EAGLE ROCK BLVD', 'BEVERLY BLVD', '7TH ST', 'SANTA MONICA BLVD', 'LA CIENEGA BLVD', 'PICO BLVD', 'CAHUENGA BLVD W', 'BEVERLY BLVD', 'YORK BLVD', '6TH ST ', 'LA TIJERA BLVD', 'OLYMPIC BLVD', 'CESAR E CHAVEZ AVE', 'SEPULVEDA BLVD', 'BEVERLY BLVD', 'BEVERLY BLVD', '1/2 S AVALON BLVD', 'OLYMPIC BLVD', 'WORLD WAY T45', 'TROUSDALE PKWY', 'YORK BLVD', 'HIGHLAND AVE', 'VERMONT AVE STE 8', 'MAIN ST', 'WORLD WAY 200', 'FIGUEROA ST', '3RD ST', 'OLYMPIC BLVD', 'ALVARADO ST', 'WILSHIRE BLVD', 'CESAR E. CHAVEZ AVE', 'MELROSE AVE', 'PICO BLVD', 'SAN PEDRO ST # A', '3RD ST', 'PICO BLVD STE ', 'VENICE BLVD', 'AVALON BLVD', '3RD ST', 'IMPERIAL HWY STE ', 'AVALON BLVD', 'LA BREA AVE', 'WILSHIRE BLVD', 'SUNSET BLVD', 'WILSHIRE BLVD', 'PICO BLVD', 'WHITTIER BLVD', 'EL SEGUNDO BLVD', 'CENTRAL AVE', 'WHITTIER BLVD', 'IMPERIAL HWY UNIT #A', 'WILSHIRE BLVD STE ', 'PICO BLVD', 'EL SEGUNDO BLVD', 'VERNON AVE', 'EL SEGUNDO BLVD', 'PICO BLVD STE #E', 'WILSHIRE BLVD', 'PICO BLVD', 'HYPERION AVE', 'FLORENCE AVE', 'SANTA MONICA BLVD', 'WILSHIRE BLVD', 'CURSON AVE', 'VERMONT AVE STE 17', 'LA CIENEGA BLVD', '8TH ST', 'MARENGO ST', 'ALAMEDA ST ', 'ALAMEDA ST', 'FLORENCE AVE', 'MELROSE AVE', 'FIGUEROA ST ', 'ALAMEDA ST', 'MARENGO ST', 'FLORENCE AVE', 'FLORENCE AVE', 'GLENDALE BLVD UNIT UNIT', 'CENTURY BLVD', 'SHERMAN WAY', 'RODEO RD', 'STATE UNIVERSITY DR', 'STATE UNIVERSITY DR', 'STATE UNIVERSITY DR', 'CENTURY BLVD', 'STATE UNIVERSITY DR', 'PICO BLVD', 'GLENDALE BLVD', 'STATE UNIVERSITY DR', 'STATE UNIVERSITY DR', 'STATE UNIVERSITY DR', 'ALAMEDA ST STE 102-B', 'SANTA FE AVE', 'PICO BLVD', 'STATE UNIVERSITY DR', 'GLENDALE BLVD', 'WASHINGTON BLVD', 'GLENDALE BLVD STE ', 'IMPERIAL HWY', 'WHITTIER BLVD', 'VERMONT AVE ', 'SANTA MONICA BLVD STE 2705', 'WESTERN AVE', 'VERMONT AVE', 'BROADWAY', 'SANTEE ST', 'MANCHESTER AVE', 'VERMONT AVE STE A', 'VERMONT AVE STE 112', 'WILSHIRE BLVD # G', 'HUNTINGTON DR STE 102', 'WILSHIRE BLVD STE STE#', 'VERMONT AVE', '8TH ST #B', 'WILSHIRE BLVD', 'FIGUEROA ST', 'WESTERN AVE UNIT 39', 'AVALON BLVD LOS', 'ROBERTSON BLVD', 'ROBERTSON BLVD', 'SANTA MONICA BLVD', 'VENICE BLVD', 'VERMONT AVE STE ', 'ROSECRANS AVE', 'CENTURY BLVD', 'ATLANTIC BLVD', '8TH ST', 'WHITTIER BLVD', 'WILSHIRE BLVD # ', 'WABASH AVE', 'MAIN ST', 'WESTERN AVE STE ', 'CENTRAL AVE S', 'THE GROVE DR STE L-80', 'VERMONT AVE', 'FRANKLIN AVE', 'LA CIENEGA BLVD STE C', 'SOTO ST', 'PICO BLVD', 'SANTEE ST', '8TH ST # A', 'WILSHIRE BLVD STE 108', 'WILSHIRE BLVD STE 170', '1/2 W SUNSET BLVD', 'HOLLYWOOD BLVD', 'SUNSET BLVD', 'SUNSET BLVD', '1/2 SUNSET BLVD', '6TH ST', 'SUNSET BLVD', 'HILLHURST AVE', 'OLIVE ST', 'LILLYVALE AVE', 'NATIONAL BLVD', 'WASHINGTON BLVD ', 'LA TIJERA BLVD ', 'FOUNTAIN AVE', 'BROADWAY', '6TH ST STE ', 'FIGUEROA ST ', 'VERMONT AVE # A', 'SEPULVEDA BLVD # B', 'WESTERN AVE', 'OLYMPIC BLVD ', 'FIGUEROA ST STE 608', '6th ST ', 'GRIFFITH PARK BLVD', 'FIGUEROA ST', 'LA BREA AVE', 'ALAMEDA ST # #P9', 'ALTURA ST', '7TH ST', 'FIGUEROA ST STE 4', 'HILL ST', 'FIGUEROA ST STE 403', 'BROADWAY', 'FIGUEROA ST ', 'ALAMEDA ST', 'VENICE BLVD', 'OLYMPIC BLVD', 'SPRING ST', '6TH ST W ', 'ALAMEDA ST # A23', 'WESTERN AVE', 'HILL ST', 'VERMONT AVE', 'JEFFERSON BLVD', 'RAMPART BLVD', 'RAMPART BLVD', 'SPRING ST B', '6TH ST STE 100', 'PICO BLVD', 'CENTURY BLVD', 'PICO BLVD # A', 'MAIN ST', 'OLYMPIC BLVD', 'WASHINGTON BLVD', '58TH ST', 'VINE ST', 'SAN VICENTE BLVD', 'WILSHIRE BLVD', 'FIGUEROA ST STE 602', 'PICO BLVD STE 318A', 'ROBERTSON BLVD', 'NATIONAL BLVD', '6TH ST', 'GATEWAY BLVD', 'MAIN ST ', 'BEVERLY BLVD', 'PICO BLVD', 'VINE ST', '6TH ST', 'VERMONT AVE STE ', '3RD ST STE-E', '6TH ST', 'WILSHIRE BLVD', 'JEFFERSON BLVD STE 2160', 'PICO BLVD STE ', 'PICO BLVD', 'WILSHIRE BLVD', 'FLOWER ST # G140', 'SUNSET BLVD', 'FLORENCE AVE', 'GATEWAY BLVD', '8TH ST', 'MAPLE AVE STE 201', 'LINCOLN BLVD STE 160', '6TH ST', 'VERMONT AVE ', '3RD ST STE B', 'HOLLYWOOD BLVD', '8TH ST', '3RD ST STE E 312', 'VERNON AVE', 'DEWEY AVE', 'MELROSE PL', 'PICO BLVD', 'HOLLYWOOD BLVD', 'SANTA MONICA BLVD', 'NATIONAL BLVD # K', 'MELROSE AVE STE ', 'CENTRAL AVE', 'AVENUE 40 STE 1B', 'WESTERN AVE', 'OLYMPIC BLVD', 'BROADWAY', 'ROBERTSON BLVD', 'PICO BLVD', 'SLAUSON AVE', 'HOLLYWOOD BLVD', 'VINE ST', 'HOLLYWOOD BLVD', 'HOLLYWOOD BLVD', 'WESTERN AVE STE ', 'LA CIENEGA BLVD', '3RD ST', 'AVENUE 40 STE #NPQ', 'AVENUE 40 # \"L\"', '3RD ST', '6TH ST', '3RD ST', 'OLYMPIC BLVD', '89TH ST', 'OLYMPIC BLVD', 'SUNSET BLVD STE 115', 'WILSHIRE BLVD', 'VERMONT AVE', 'AVENUE 40 UNIT 1H', 'AVENUE 40 # #G', 'POMONA BLVD', 'SEPULVEDA BLVD', 'OLYMPIC BLVD', 'BEVERLY BLVD STE ', '1ST ST', 'SEPULVEDA BLVD', 'CESAR E. CHAVEZ AVE', '89TH ST', 'SEPULVEDA BLVD', 'FLORENCE AVE STE 112', 'SEPULVEDA BLVD', 'PICO BLVD', 'WORLD WAY STE 154', 'SUNSET BLVD', 'OLYMPIC BLVD', 'WILSHIRE BLVD BLDG ', 'WILSHIRE BLVD STE 120', '3RD ST ', 'WILSHIRE BLVD STE 150', 'SAN PEDRO ST', 'WESTERN AVE', 'HOPE ST', 'HILL ST', 'CYPRESS AVE', 'WESTERN AVE', 'ALFERD ST ', 'WESTERN AVE STE 147', 'WESTERN AVE', 'WHITTIER BLVD', '7TH ST', 'CENTRAL AVE', 'WESTERN AVE STE 129', '6TH ST A', 'SPRING ST', 'OLYMPIC BLVD', 'HILL ST', 'LOS ANGELES ST', 'LOS ANGELES ST # B', 'MELROSE AVE', 'WESTERN AVE', 'ALHAMBRA AVE', 'PICO BLVD', 'CENTURY BLVD', '7TH ST', 'ALFRED ST ', 'WHITTIER BLVD', 'WILSHIRE BLVD # D', 'WESTERN AVE STE 117', 'WESTERN AVE STE 119', 'CYPRESS AVE', 'SANTA MONICA BLVD STE 3', 'WESTERN AVE', 'ARBOR VITAE ST', 'LA CIENEGA BLVD', 'EAGLE ROCK BLVD', 'PICO BLVD STE ', 'PICO BLVD', 'WESTERN AVE STE 131', 'COLORADO BLVD', '6TH ST', 'HOLLYWOOD BLVD', 'SUNSET BLVD STE B110', 'WESTERN AVE STE 133', 'WESTERN AVE  - 116', 'SAN PEDRO ST', 'LA CIENEGA BLVD', 'MISSION RD', 'WILSHIRE BLVD STE ', '5TH ST', 'WESTERN AVE', 'SAWTELLE BLVD', 'WASHINGTON BLVD ', 'WESTERN AVE STE ', '4TH ST', 'VENICE BLVD', 'HOLLYWOOD BLVD', '1/2 NATIONAL BLVD', 'CENTURY BLVD', 'MOTOR AVE', 'FIGUEROA ST ', 'HOLLYWOOD BLVD', '8TH ST', '8TH ST', 'OLYMPIC BLVD', 'FIGUEROA ST ', 'HOOVER ST', '8TH ST', 'CENTURY BLVD', 'WILSHIRE BLVD STE ', 'FLORENCE AVE STE #C', 'MLK BLVD', '5TH ST ', 'WILSHIRE BLVD', 'MELROSE AVE', 'PICO BLVD', 'WILSHIRE BLVD STE 104', 'BROADWAY', '8TH ST', 'PICO BLVD', 'FIGUEROA ST', 'VENICE BLVD', '3RD ST', 'HOPE ST', 'PICO BLVD', 'FRANKLIN AVE', 'LAWRENCE', 'VENICE BLVD', 'WILSHIRE BLVD STE 103', 'LE CONTE AVE', 'FIGUEROA ST', 'FIGUEROA ST STE 104', 'COLLEGE ST STE ', '1/2 N BROADWAY', 'RAMPART BLVD ', 'FIGUEROA ST STE 100', 'NORMANDIE AVE', '1ST ST', 'PICO BLVD', 'SLAUSON AVE', 'HOOVER ST', 'BERENDO ST', '6TH ST', 'WILSHIRE BLVD ', 'FIGUEROA ST ', 'FLORENCE AVE', 'OLYMPIC BLVD', 'FLOWER ST STE B043', 'UNION AVE', '8TH ST', '7TH ST', 'LA CIENEGA BLVD', 'CAHUENGA BLVD', '7TH ST', 'HIGHLAND AVE', 'SUNSET BLVD', 'ARGYLE AVE', 'WESTERN AVE', 'AVALON BLVD', 'GRAND AVE', 'GRAND AVE', 'PICO BLVD', '12TH ST', 'SAN FERNANDO BLVD', 'LA CIENEGA BLVD', 'GRAND AVE', 'PICO BLVD', 'DOHENY DR', 'SAN VICENTE BLVD', 'SANTA MONICA BLVD STE C', 'PICO BLVD', 'HOPE ST', 'GRAND AVE', '8TH ST UNIT 103', 'CENTURY park E # LL30', 'WILSHIRE BLVD', 'ROSCOMARE RD ', 'OLYMPIC BLVD STE ', 'WESTWOOD BLVD', '3RD ST', 'HOPE ST', 'OLYMPIC BLVD', 'OLYMPIC BLVD ', 'VINE ST', 'SELMA AVE', 'OLYMPIC BLVD', 'PICO BLVD', 'BROXTON AVE', 'SUNSET BLVD', 'CONSTELLATION BLVD', 'SANTA MONICA BLVD', 'GRAND AVE', 'CRENSHAW BLVD', 'FLORENCE AVE', 'WILSHIRE BLVD', 'WILSHIRE BLVD ', 'AIRPORT BLVD', 'BEVERLY BLVD', 'EAGLE ROCK BLVD # B', 'WHITTIER BLVD', '103RD ST', 'CRENSHAW BLVD', 'FLORENCE AVE STE ', 'ADAMS BLVD', 'FAIRFAX AVE', 'FIGUEROA ST ', 'CHEROKEE AVE', '3RD ST E #E-17', 'SANTA MONICA BLVD', 'COTNER AVE', 'SUNSET BLVD', 'OVERLAND AVE', 'HOLLYWOOD BLVD', 'STONE CANYON RD', 'SUNSET BLVD', 'LA CIENEGA BLVD', '3RD ST 20-02', 'PASADENA AVE', 'SANTA MONICA BLVD', 'FRANKLIN AVE', 'SUNSET BLVD -9', 'PICO BLVD', 'WILSHIRE BLVD', 'CRENSHAW BLVD', 'PICO BLVD', 'WILSHIRE BLVD', 'THE GROVE DR # STEK9', 'WILSHIRE BLVD', 'SUNSET BLVD', 'MARENGO ST', '3RD ST ', 'PICO BLVD', 'GAGE AVE', 'HOLLYWOOD BLVD', 'FLORENCE AVE UNIT E', 'MARENGO ST STE #A', 'BEVERLY BLVD', 'SUNSET BLVD STE ', '8TH ST STE D', 'WILSHIRE BLVD', '12TH ST STE ', 'PICO BLVD', 'WESTWOOD BLVD', 'MARENGO ST STE #E', 'WORLD WAY T22', 'AIRPORT BLVD', 'SUNSET BLVD', 'VINE ST', '6TH ST', 'SUNSET BLVD', 'BEVERLY BLVD', 'AVALON BLVD', 'HOLLYWOOD BLVD', 'WILMINGTON AVE #B', 'DALY ST', 'SANTA MONICA BLVD', '12TH ST # ', 'SUNSET BLVD', '8TH ST', '6TH ST B', '1ST ST # ', 'INDUSTRIAL ST APT 100', '3RD ST', '7TH ST', 'CESAR E CHAVEZ AVE', 'WESTERN AVE STE 314', 'VINE ST', 'SUNSET BLVD', 'ST. VINCENT CT', 'HIGHLAND AVE', 'HUNTINGTON DR N', 'VENICE BLVD', '3RD ST', '9TH ST', 'THE GROVE DR STE Y-80', 'ARDMORE AVE STE 100', 'LOS FELIZ BLVD STE 1', 'CHARLIE SIFFORD DR', '8TH ST', 'CESAR E CHAVEZ AVE', 'MATEO ST', 'ALVARADO ST STE 110', 'JEFFERSON BLVD', 'BROADWAY # A', 'OLYMPIC BLVD STE ', 'CESAR E CHAVEZ AVE', 'HOLLYWOOD BLVD', 'SUNSET BLVD', 'WESTERN AVE ', 'WESTERN AVE ', 'CENTURY BLVD', 'WILSHIRE BLVD', '1/2 W SUNSET BLVD', 'UNION AVE', '12TH ST STE 249', 'WESTWOOD BLVD', 'FAIRFAX AVE STE ', '3RD ST', '12TH ST STE 404', 'INDUSTRIAL ST', 'SANTA MONICA BLVD ', 'HUNTINGTON DR N', 'HOLLYWOOD BLVD STE ', 'WESTERN AVE ', 'FACTORY PL STE 101', '7TH ST', 'SUNSET BLVD', '7TH PL -3', 'HOLLYWOOD BLVD', '12TH ST', 'TIERTON AVE', 'GETTY CENTER DR', 'SUNSET BLVD', '1ST ST', 'SANTEE ST', 'GRAND AVE', 'HIGHLAND AVE', 'WILSHIRE BLVD STE B2', '3RD ST', '1ST ST', '3RD ST', '6TH ST', 'LOS FELIZ BLVD 3', 'GETTY CENTER DR STE 400', 'WESTERN AVE STE 125', 'AVALON BLVD', 'SANTA MONICA BLVD ', 'PICO BLVD', 'BOYLSTON ST', 'FLOWER ST STE 160', 'VERMONT AVE', 'WILSHIRE BLVD', 'SPRING ST', 'GRIFFITH AVE', 'BROADWAY # C7-8', 'PICO BLVD ', '1/2 W PICO BLVD', 'WILSHIRE BLVD ', 'BROXTON AVE', 'LARCHMONT BLVD', 'WILSHIRE BLVD STE 103', 'MAIN ST', 'SPRING ST', 'VERMONT AVE', '5TH ST ', 'OLYMPIC BLVD ', 'GRAND AVE', 'PICO BLVD', 'SAWTELLE BLVD', 'HUNTINGTON DR N', 'SAN PEDRO ST ', 'FLOWER ST # #B270', '3RD ST', 'PICO BLVD', 'WASHINGTON BLVD', 'SLAUSON AVE', 'BROADWAY # B1', 'MAIN ST', '5TH ST #R201', 'SPRING ST', 'BERENDO ST', 'PICO BLVD', 'BEVERLY BLVD', 'BEVERLY BLVD', 'FLOWER ST STE B410', 'MAIN ST', 'VENICE BLVD', 'OLYMPIC BLVD', 'LA CIENEGA BLVD', 'BROXTON AVE', 'WILSHIRE BLVD', 'WILSHIRE BLVD STE 102', 'COLORADO BLVD', 'BEVERLY BLVD', 'NORMANDIE AVE', 'OLYMPIC BLVD', 'BROADWAY', 'UNION AVE', 'FIGUEROA ST', 'FAIRFAX AVE # #A', 'ST ANDREWS PL', 'FLOWER ST', 'WILSHIRE BLVD', '5TH ST', 'GRAND AVE ', 'CAHUENGA BLVD STE 107', 'WESTERN AVE', 'FIGUEROA ST', 'WILSHIRE BLVD # ', 'WASHINGTON BLVD', 'FLOWER ST # B300A', 'WESTERN AVE STE #A2', 'GRAND AVE', 'FIGUEROA ST', '1/2 W 3RD ST', 'HOLLYWOOD BLVD', 'PICO BLVD', 'FAIRFAX AVE', 'MAPLE AVE STE 101', 'LA CIENEGA BLVD', 'TIVERTON AVE', 'FLORENCE AVE', 'GRAND AVE', 'WESTERN AVE', 'PICO BLVD', 'BEVERLY BLVD', '1/2 W OLYMPIC BLVD', 'OLYMPIC BLVD', 'FLOWER ST', 'OLYMPIC BLVD', 'CENTURY BLVD', 'BEVERLY BLVD', 'WILSHIRE BLVD STE 102', 'PICO BLVD', 'SAN PEDRO ST', 'SAN PEDRO ST', 'SAN PEDRO ST', '1/2 S SAN PEDRO ST', 'LA CIENEGA BLVD', 'WILSHIRE BLVD STE ', 'HOLLYWOOD BLVD', '1ST ST', 'OLYMPIC BLVD STE 102', 'WESTERN AVE', '3RD ST', 'OLYMPIC BLVD STE 204', 'SAWTELLE BLVD', 'JEFFERSON BLVD', 'WILSHIRE BLVD', 'WESTERN AVE ', 'WESTERN AVE', 'OLYMPIC BLVD', 'WASHINGTON BLVD', 'PICO BLVD', 'WESTERN AVE ', 'PICO BLVD', 'ZONAL AVE', 'ZONAL AVE', 'PICO BLVD', '9TH ST', 'CENTER DR STE 201', 'STA MON BLVD STE FC11', 'EL SEGUNDO BLVD ', 'SANTA MONICA BLVD ', 'MLK BLVD STE #F', 'WESTERN AVE', 'WESTERN AVE', 'MAIN ST', 'HUNTINGTON DR S', 'ZONAL AVE', 'WASHINGTON BLVD STE G3', 'PICO BLVD B&C', '9TH ST STE 1124', 'SUNSET BLVD', 'SUNSET BLVD', '8TH ST', 'SAN PEDRO ST STE H', 'PICO BLVD', 'CRENSHAW BLVD', 'LA CIENEGA BLVD', 'SUNSET BLVD', 'WESTERN AVE', 'WASHINGTON BLVD', 'FIGUEROA ST', 'WESTERN AVE', 'WILSHIRE BLVD', 'ROBERTSON BLVD', 'COLORADO BLVD', 'SUNSET BLVD', 'FLOWER ST STE 120', 'FIGUEROA ST', 'LA CIENEGA BLVD # E-3', 'WILSHIRE BLVD', 'WILSHIRE BLVD', 'FIGUEROA ST', 'SAWTELLE BLVD', 'WILSHIRE BLVD', 'COLORADO BLVD', 'GRAND AVE ', 'COMPTON AVE', 'OLYMPIC BLVD STE A', 'SAWTELLE BLVD', 'ALVARADO ST', 'SEPULVEDA BLVD', 'POMONA BLVD', 'BURTON WAY 200', 'MAIN ST', 'CENTURY park ', 'FIGUEROA ST', 'SUNSET BLVD', 'SEPULVEDA BLVD', 'EASTERN AVE', 'BROADWAY', 'CENTRAL AVE', 'BEVERLY BLVD', 'FLOWER ST', 'WESTERN AVE', 'LOS FELIZ BLVD', 'COLORADO BLVD', 'SANTA MONICA BLVD UNIT UNIT', 'PICO BLVD', 'ARDMORE AVE', 'PICO BLVD', 'PICO BLVD ', 'CENTURY BLVD', 'PICO BLVD', 'WILSHIRE BLVD B211', '6TH ST STE ', 'SILVER LAKE BLVD', 'PICO BLVD STE 9', 'CENTURY BLVD', '6TH ST STE C-130', 'OLYMPIC BLVD STE 204', '11TH ST', '8th ST', 'VERMONT AVE -8', '3RD ST', 'OXFORD AVE STE 201', 'CENTURY BLVD', 'CAHUENGA BLVD', '5TH ST', '6TH ST STE 9', 'EASTERN AVE', 'PICO BLVD', 'OXFORD AVE STE 101', 'OLYMPIC BLVD', 'WILSHIRE BLVD', 'WASHINGTON BLVD', '6TH ST STE 8A', 'ROWENA AVE', 'FLORENCE AVE', 'LINCOLN BLVD STE 140', 'GRAND AVE # D-2', 'MARTIN LUTHER KING JR. BLVD ', 'WILSHIRE BLVD # F', '6TH ST STE 110D', 'PICO BLVD ', '6TH ST', 'HOLLYWOOD BLVD', 'GOWER  BLDG 10 ST BOX 56', 'ALVARADO ST', 'ALAMEDA ST', 'IMPERIAL HWY', 'OBSERVATORY AVE', 'HOPE ST', 'ALVARADO ST', 'HUNTINGTON DR S', '1/2 S HUNTINGTON DR S SOUTH', 'CRENSHAW BLVD STE E', 'VALLEY BLVD STE ', 'SANTA MONICA BLVD', 'FERN DELL DR', 'WALL ST', 'SAWTELLE BLVD', 'PICO BLVD', '3RD ST', 'COLORADO BLVD', 'PASADENA AVE STE ', 'COLORADO BLVD', 'EASTERN AVE', 'VALLEY BLVD', 'PICO BLVD', 'STATE ST RM 1601', 'WALL ST LBBY LOBBY', 'HOPE ST ', 'SELMA AVE', 'PICO BLVD', 'PICO BLVD', 'SANTA MONICA BLVD', 'CESAR E CHAVEZ AVE', 'EAGLE ROCK BLVD', 'HUNTINGTON DR N', 'WESTERN AVE', 'PICO BLVD', 'PICO BLVD', '1/4 FAIR PARK AVE', 'PICO BLVD STE C', 'CRENSHAW BLVD STE B', 'GIN LING WAY', 'HOLLYWOOD BLVD', 'FIGUEROA ST', 'EL SEGUNDO BLVD', '3RD ST # ', 'MEI LING WAY', 'SAN FERNANDO RD', 'COLLEGE ST UNIT E', 'SLAUSON AVE', 'WILSHIRE BLVD', 'THE GROVE DR STE Z-80', 'WHITTIER BLVD', 'HIGHLAND AVE', 'SAN PEDRO ST # #E', 'SAWTELLE BLVD STE 105', 'VERMONT AVE', 'NORMANDIE AVE', 'ROBERTSON BLVD', 'STATE ST', 'LOS ANGELES ST STE A', 'WASHINGTON BLVD #A', 'GAGE AVE', 'SAWTELLE BLVD STE 200', 'WESTWOOD BLVD', 'WILSHIRE BLVD STE 101', 'BARRINGTON AVE', 'LORENA ST', '5TH ST', 'WESTERN AVE', 'FIGUEROA ST', 'HOPE ST C-375', 'WASHINGTON BLVD', 'WASHINGTON BLVD STE 104', 'WASHINGTON BLVD STE ', 'BLAINE ST', 'WHITTIER BLVD #B1', 'BEVERLY BLVD', 'FRANKLIN AVE', 'MAIN ST APT ', 'CESAR E CHAVEZ AVE', 'WASHINGTON BLVD', 'SAN VICENTE BLVD', 'WILSHIRE BLVD STE ', '7TH ST UNIT 150', 'SAN PEDRO ST', 'GLENDALE BLVD', 'CRENSHAW BLVD', 'CRENSHAW BLVD', 'MOULTON AVE', 'WILSHIRE BLVD', 'EVERGREEN AVE', '1/2 N MISSION RD', 'VERDUGO RD', 'SLAUSON AVE # f-27', 'HILL ST STE S2', 'WILSHIRE BLVD', 'LORENA ST', '6TH ST # A', '8TH AVE', 'SUNSET BLVD', 'PICO BLVD', 'WASHINGTON BLVD STE 4', 'SLAUSON AVE', 'NORMANDIE AVE', 'WASHINGTON BLVD', 'FLORAL DR', '7TH ST STE ', 'EASTERN AVE', '7TH ST', 'WILSHIRE BLVD', 'WILSHIRE BLVD STE 102', '7TH ST', '6TH ST B', 'WESTERN AVE', '6TH ST', 'LA CIENEGA BLVD', 'LOS ANGELES ST', 'BROADWAY STE ', 'WASHINGTON BLVD', 'SAWTELLE BLVD', 'BROADWAY #D-8', 'WASHINGTON BLVD', 'WHITTIER BLVD', 'WHITTIER BLVD', 'WESTERN AVE', 'BROADWAY', 'NORMANDIE AVE', 'WHITTIER BLVD', 'BRONSON AVE', 'FLORENCE AVE', 'VALLEY BLVD', 'WILSHIRE BLVD', 'SAN VICENTE BLVD', 'WILSHIRE BLVD STE B', 'ROBERTSON BLVD', 'GAGE AVE', 'LOS ANGELES ST STE ', 'SLAUSON AVE', 'SOTO ST', 'MANCHESTER AVE', 'CASITAS AVE', 'ROBERTSON BLVD', 'BROADWAY STE ', 'HILL ST', 'LA CIENEGA BLVD', 'LORENA ST', 'MANCHESTER AVE', 'HOPE ST # ', 'MLK BLVD # FC-10', '6TH ST', '1ST ST SO. 3RDFL', '6TH ST ', '1ST ST', 'PICO BLVD', '1ST ST #N 3RDF', 'PICO BLVD', 'WHITTIER BLVD', '1ST ST 3RD FL', '1ST ST', 'WHITTIER BLVD', 'WHITTIER BLVD', '1ST ST', 'PICO BLVD', '1ST ST', 'WHITTIER BLVD', 'WHITTIER BLVD', '1/2 E 1ST ST', '5TH ST', 'EASTERN AVE', 'CENTRAL AVE ', '8TH ST', '9TH ST', 'SAN PEDRO ST', 'SLAUSON AVE # A', 'VERNON AVE # D-10', 'ROWENA AVE', 'PICO BLVD', 'WILSHIRE BLVD ', 'WILSHIRE BLVD STE 101C', 'SANTA MONICA BLVD STE 10', 'WESTERN AVE STE 7', 'WESTERN AVE STE 100', 'PICO BLVD', 'WESTERN AVE', 'SLAUSON AVE STE A2', 'WILSHIRE BLVD STE #C', 'WILSHIRE BLVD STE D', 'WESTERN AVE', 'SLAUSON AVE', 'FIGUEROA ST', 'FIGUEROA ST', 'SANTA MONICA BLVD', 'WESTERN AVE', 'SUNSET BLVD', 'ALAMEDA ST', 'WESTERN AVE', 'WESTERN AVE STE 10', 'BROADWAY STE #C-4-', 'MISSION RD', 'WESTERN AVE', 'BROADWAY # B-5', '9TH ST', 'WESTERN AVE', 'LOS ANGELES ST ', 'HUNTINGTON DR S', 'ROBERTSON BLVD', 'SAN VICENTE BLVD STE 302', 'PICO BLVD', 'SANTA MONICA BLVD', 'WALL ST', 'FIGUEROA ST', '1/2 S WESTERN AVE', 'ALAMEDA ST STE B33', 'FIGUEROA ST', 'SLAUSON AVE', 'WILSHIRE BLVD', 'SAN PEDRO ST # A', 'SAN VICENTE BLVD', 'WESTERN AVE', 'SAN VICENTE BLVD SP 21', 'WESTWOOD BLVD', 'SAWTELLE BLVD', 'FIGUEROA ST', 'BROADWAY SPC B-15', 'EXPOSITION BLVD # B', 'IMPERIAL HWY STE 103-A', 'BEVERLY BLVD', 'FLETCHER DR', 'BEVERLY BLVD', 'VERMONT AVE', '7TH ST 2ND F', 'WESTERN AVE STE ', 'SAWTLLE BLVD', 'ST E17', 'VERMONT AVE', 'PICO BLVD', 'ALAMEDA ST # #AA3', 'COLORADO BLVD', 'THE GROVE DR STE C-10', 'WESTERN AVE STE ', 'WILSHIRE BLVD', 'WORLD WAY BOX S-7', 'WESTERN AVE STE ', 'IMPERIAL HWY STE 101', 'HILL ST', 'VERMONT AVE', 'PICO BLVD', 'ALAMEDA ST STE 317', 'BEVERLY BLVD # K', 'BEVERLY BLVD', 'PICO BLVD', 'WESTERN AVE ', 'EXPOSITION BLVD', 'BEACHWOOD DR', 'NORMANDIE AVE', 'OVERLAND AVE', 'PICO BLVD', 'PICO BLVD', 'COMPTON AVE', 'HELMS AVE', 'FLORENCE AVE', '1/2 FLORENCE AVE', 'ALAMEDA ST  -105', 'VENICE BLVD', 'COLORADO BLVD STE ', 'COLE AVE', '8TH ST', 'OLYMPIC BLVD', 'HILL ST', 'WILSHIRE BLVD', 'THE GROVE DR # G90', 'FLORENCE AVE', 'WORLD WAY FL 6', 'WILSHIRE BLVD', 'SUNSET AVE', 'WILSHIRE BLVD', 'WILSHIRE BLVD', 'OLIVE ST', 'SEPULVEDA BLVD STE 104', 'BROADWAY', '8TH ST ', 'WORLD WAY T49', 'OLYMPIC BLVD', 'LA CIENEGA BLVD', 'OLYMPIC BLVD', 'SAN PEDRO ST', 'OLYMPIC BLVD', 'WHITTIER BLVD', 'BEVERLY BLVD', '2ND ST', '8TH ST', 'VENICE BLVD', 'HOLLYWOOD BLVD STE ', 'POMONA BLVD STE 103', '8TH ST', 'BEVERLY BLVD', 'ROWENA AVE', 'OLYMPIC BLVD', 'FRANKLIN AVE', '8TH ST', 'BEVERLY BLVD', 'LA BREA AVE', 'OLYMPIC BLVD', 'HILL ST # B6', 'SAN FERNANDO RD', 'SANTA MONICA BLVD', 'HOLLYWOOD BLVD', 'VERMONT AVE STE 104', '3RD ST', 'HOLLYWOOD BLVD ', 'CENTRAL AVE', 'LINCOLN BLVD', 'LINCOLN BLVD', 'SAN PEDRO ST', 'OLYMPIC BLVD', 'HILL ST', 'CAHUENGA BLVD', 'VENICE BLVD', '1/2 N WESTERN AVE', 'GLENDALE BLVD', 'SAN VICENTE BLVD', 'SAN FERNANDO RD', 'VERMONT AVE', 'SANTA MONICA BLVD', 'WILSHIRE BLVD ', 'HOLLYWOOD BLVD', 'WASHINGTON BLVD', 'OLYMPIC BLVD STE ', 'SILVER LAKE BLVD', 'GLENDALE BLVD STE A', 'FIGUEROA ST', 'MELROSE AVE', 'IMPERIAL HWY B', 'PICO BLVD', '3RD ST', 'FAIRFAX AVE', 'FRANKLIN AVE', '8TH ST', 'MELROSE AVE', 'BROADWAY', 'HILL ST #E', 'OLYMPIC BLVD', 'WEYBURN AVE # #B', 'MEDFORD ST', 'HOLLYWOOD BLVD', 'COLORADO BLVD', '1/2 COLORADO BLVD', 'COLORADO BLVD', 'SAN FERNANDO RD', 'COMPTON AVE', 'FRANKLIN AVE', 'CENTRAL', 'BROXTON AVE', 'HOLLYWOOD BLVD', 'MOTOR AVE', 'COLORADO BLVD ', 'WASHINGTON BLVD', 'WILSHIRE BLVD ', 'ALAMEDA ST # D-54', 'MAIN ST', '1/2 E 1ST ST', 'WILSHIRE BLVD ', 'GLENDALE BLVD', 'AVALON BLVD', 'ALAMEDA ST ', 'ALAMEDA ST STE D53', 'HOLLYWOOD BLVD STE 101', 'HILL ST B68', 'HOOPER AVE', 'ALAMEDA ST STE 305', 'FAIRFAX AVE', 'COLORADO BLVD', 'AVIATION BLVD', 'SUNSET BLVD', 'SUNSET BLVD', 'HILL ST STE M-105', 'MELROSE AVE', 'WESTERN AVE', 'COLORADO BLVD', 'VERMONT AVE', 'YORK BLVD', 'JEFFERSON BLVD', 'CRESTVIEW DR', 'HILL ST', 'AVENUE 56', 'JEFFERSON BLVD', 'AVENUE 50', 'LA BREA AVE', 'PICO BLVD', 'SUNSET BLVD', 'CAHUENGA BLVD', 'LARCHMONT BLVD', 'PICO BLVD', 'MELROSE AVE', 'WESTERN AVE ', 'OLYMPIC BLVD', 'WASHINGTON BLVD', 'WORLD WAY T72', 'HILL ST', '8TH ST ', 'HOLLYWOOD BLVD', 'MELROSE AVE', 'WORLD WAY T71', 'HOLLYWOOD BLVD', 'FIGUEROA ST', 'SLAUSON AVE', 'AVIATION BLVD', '6TH ST STE ', 'OLIVE ST', 'SUNSET BLVD', '1ST ST STE 122', 'SAN PEDRO ST', 'ROBERTSON BLVD', 'LARCHMONT BLVD', 'LA CIENEGA BLVD', 'FIGUEROA ST', 'HILL ST', 'FIGUEROA ST ', 'CESAR E CHAVEZ AVE', 'LARCHMONT BLVD', 'FIGUEROA ST', 'WILSHIRE BLVD STE ', 'WHITTIER BLVD', 'SUNSET BLVD', 'WESTERN AVE STE ', '3RD ST', 'WORLD WAY T74', 'PICO BLVD', 'MAIN ST', 'SUNSET BLVD', 'WASHINGTON BLVD', 'WESTERN AVE ', 'EVERGREEN', '6TH ST ', 'CENTRAL AVE', 'VENICE BLVD', 'WESTERN AVE', 'SANTA MONICA BLVD', 'LA BREA AVE', 'SANTA FE AVE', 'ALAMEDA ST', 'PICO BLVD', 'CAHUENGA BLVD', 'VINE ST', 'SILVER LAKE BLVD', 'MELROSE AVE', 'PICO BLVD', 'VENICE BLVD STE C2B', 'VERMONT AVE', 'SANTA MONICA BLVD', 'OLYMPIC BLVD', 'SAN FERNANDO RD', '1ST ST ', 'SLAUSON AVE', 'PICO BLVD', 'PICO BLVD', 'HOLLYWOOD BLVD', 'VINE ST', 'VERMONT AVE', 'VERMONT AVE STE 106', 'VINE ST', 'MELROSE AVE', 'VERMONT ST', 'IMPERIAL HWY', 'WESTERN AVE', 'SILVER LAKE BLVD', 'MELROSE AVE', 'PICO BLVD', 'PICO BLVD', 'VERMONT AVE', 'SILVER LAKE BLVD', 'PICO BLVD', 'WHITTIER BLVD', 'VINE ST', 'SAN PEDRO ST UNIT ', 'VENICE BLVD', 'BEVERLY BLVD', 'VERMONT AVE STE B', 'WASHINGTON BLVD', 'WESTERN AVE UNIT A & C', 'BEVERLY BLVD', 'BEVERLY BLVD', 'FLORENCE AVE', 'PICO BLVD', 'VENICE BLVD', 'MELROSE AVE', 'MEDNIK AVE', 'SANTA MONICA BLVD', '1/2 N FIGUEROA ST', 'ATLANTIC BLVD', 'HYPERION AVE', 'FIGUEROA ST', 'SEPULVEDA BLVD', 'JAMES M WOOD BLVD', 'OLYMPIC BLVD ', 'SAWTELLE BLVD', 'ECHO PARK AVE', 'WILSHIRE BLVD STE ', 'WILSHIRE BLVD ', 'OLYMPIC BLVD', 'ECHO PARK AVE STE 101', 'FRANCISCO ST', 'MARIPOSA AVE', 'CAHUENGA BLVD', 'ROWENA AVE', 'HYPERION AVE', 'BROADWAY', 'SELMA AVE', 'BROADWAY', '6TH ST', 'SUNSET BLVD', 'BROADWAY', '1ST ST', 'OLYMPIC BLVD', 'VERMONT AVE  -102', 'WORLD WAY # T93', 'FIGUEROA ST STE ', 'OLYMPIC BLVD STE ', '1ST ST', 'FIGUEROA ST ', 'WILSHIRE BLVD STE 150', 'SUNSET BLVD', 'SANTA FE AVE', '1/2 W HOLLYWOOD BLVD', 'HYPERION AVE 101', 'WILSHIRE BLVD', 'GRAND AVE STE C-3', 'WINSTON ST 104', '6TH ST STE 5', 'HYPERION AVE', 'LOS FELIZ BLVD', '1/2 HYPERION AVE', 'BEVERLY BLVD', 'SUNSET BLVD', 'BAMBOO LN # A', 'WINSTON ST UNIT 101', 'WASHINGTON BLVD', 'ALAMEDA ST', 'BROADWAY', '6TH ST ', 'BROADWAY', 'MELROSE AVE', 'LOS FELIZ BLVD', 'FIGUEROA ST', 'YORK BLVD', '6TH ST STE 6', 'ADAMS BLVD', 'WASHINGTON BLVD', 'HILL ST', 'WASHINGTON BLVD STE 108', 'BEVERLY BLVD', 'BROADWAY', 'SUNSET BLVD', 'MELROSE AVE', 'BROADWAY STE 101', 'FLETCHER DR', 'OLYMPIC BLVD', 'SANTA MONICA BLVD STE ', 'OVERLAND AVE UNIT 100', 'OLYMPIC BLVD ', 'OLYMPIC BLVD', 'HOLLYWOOD BLVD', 'FLETCHER DR', 'LOYOLA BLVD', 'FLORENCE AVE', 'BEVERLY BLVD', 'CENTINELA AVE', 'BEVERLY BLVD', 'HOLLYWOOD BLVD STE ', 'FLORENCE AVE', 'HOPE ST', 'BEVERLY BLVD', 'HOLLYWOOD BLVD', 'SAWTELLE BLVD', 'FLORENCE AVE # B', 'BROADWAY', 'VENICE BLVD', 'LA BREA AVE # -', 'PICO BLVD', '7TH ST', '3RD ST -10', '6TH ST', 'WALL ST STE 6', 'WHITTIER BLVD', '3RD ST -10', 'FIGUEROA ST', 'VERMONT AVE', 'OLYMPIC BLVD', 'AVALON BLVD', 'OLYMPIC BLVD A', 'BEVERLY BLVD', 'OLYMPIC BLVD STE B', 'HOOVER ST', 'CENTINELA AVE', 'OLYMPIC BLVD STE #A', 'WASHINGTON BLVD', 'ALAMEDA ST', 'WESTERN AVE STE ', 'CENTINELA AVE # B', 'ADAMS BLVD', 'CRENSHAW BLVD', 'MELROSE AVE', 'OLYMPIC BLVD STE ', 'EAGLE ROCK BLVD', 'LOS FELIZ BLVD', 'OLYMPIC BLVD', 'VERMONT AVE', 'BEVERLY BLVD', '9TH ST 106', 'THE GROVE DR STE F90-B', 'LOS FELIZ BLVD', '7TH ST', 'FIGUEROA ST', '3RD ST', 'BROADWAY STE 101', 'MELROSE AVE', 'FLORENCE AVE', 'AVENUE OF THE STARS', 'SUNSET BLVD', 'WILSHIRE BLVD', 'MAIN ST', 'SUNSET BLVD', 'AVALON BLVD', 'MELROSE AVE', '1/2 W BEVERLY BLVD', 'WESTERN AVE', 'BEVERLY BLVD', 'HOLLYWOOD BLVD', 'LOS FELIZ BLVD', '7TH ST', 'FIGUEROA ST', 'OLYMPIC BLVD 108', 'SUNSET BLVD # B120', 'AVALON BLVD STE 102', 'WASHINGTON BLVD', 'AVALON BLVD', '1/2 W 3RD ST', 'GRAND AVE', '7TH ST', 'CRENSHAW BLVD', '1/2 W ADAMS BLVD', 'OLYMPIC BLVD', 'OLYMPIC BLVD STE 104', 'WILSHIRE BLVD', 'OLYMPIC BLVD STE ', 'FAIRFAX AVE', '7TH ST', 'FIGUEROA ST', 'WILSHIRE BLVD', 'WESTERN AVE', 'SUNSET BLVD', 'OLYMPIC BLVD', 'LINCOLN BLVD', '23RD ST', 'GRAND AVE STE ', 'MANCHESTER AVE', 'GRAND AVE STE R-3', 'LOS FELIZ BLVD', 'CHEVY CHASE DR', 'SUNSET BLVD', 'WILSHIRE BLVD E', '3RD ST #A', 'AVALON BLVD', 'SUNSET BLVD', 'OLYMPIC BLVD', 'WILSHIRE BLVD', 'CAHUENGA BLVD', 'OLYMPIC BLVD', 'CHEVY CHASE DR', 'SPRING ST', 'MELROSE AVE', 'FAIRFAX AVE', 'OLYMPIC BLVD', 'WESTERN AVE', 'WHITTIER BLVD', 'SUNSET BLVD A 110', 'PROSPECT AVE', 'OLYMPIC BLVD', 'OLYMPIC BLVD', 'SUNSET BLVD', 'SUNSET BLVD', '6TH ST', 'BRONSON AVE', 'TEMPLE ST', 'OLYMPIC BLVD ', 'HIGHLAND AVE', 'VIRGIL AVE ', 'AVALON BLVD', 'MONTE VISTA ST', 'JEFFERSON BLVD', 'OLYMPIC BLVD', 'OLYMPIC BLVD STE E', 'SPRING ST STE E9', 'WILSHIRE BLVD', 'SANTA MONICA BLVD', 'VERMONT AVE', 'SPRING ST ', '6TH ST', 'JAMES M WOOD BLVD', 'FIGUEROA ST', 'FRANKLIN AVE', 'MONTE VISTA ST', 'SPRING ST # R1', 'VERMONT AVE', 'HILL ST', 'CENTRAL AVE', '3RD ST', '1/2 E 1ST ST', 'HILL ST', '1ST ST', 'MCCLINTOCK AVE', '3RD ST', 'ALAMEDA ST STE ', 'HILL ST', 'ALAMEDA ST H', '1/2 W SUNSET BLVD', 'ALAMEDA ST ', 'HILL ST # AU130', 'ALAMEDA ST ', 'ACADEMY DR', 'SPRING ST', '2ND ST ', 'ROBERTSON BLVD', '1ST ST', '7TH ST', 'CENTER DR STE 214', 'SUNSET BLVD', 'GRAND AVE', 'SUNSET BLVD', 'OLYMPIC BLVD STE A', 'GRAND AVE', 'FOUNTAIN AVE STE 2', 'BARRINGTON CT', 'SANTA MONICA BLVD', 'CENTRAL AVE', 'ADAMS BLVD', 'SAN VICENTE BLVD STE 105', 'FLOWER ST # A', 'ADAMS BLVD', 'OLIVE ST', 'ALAMEDA ST # W-9A', 'MAIN ST', 'FIGUEROA ST', 'GRAND AVE', 'VENICE BLVD', 'OLIVE ST', 'SPRING ST', 'WESTERN AVE', 'WASHINGTON BLVD', 'BUNDY DR', 'WESTWOOD BLVD', 'MELROSE PL STE #A', 'OLIVE ST', 'AIRPORT BLVD', 'ADAMS BLVD STE 101', 'LINCOLN BLVD', '3RD ST', 'CENTRAL AVE', 'ENSLEY AVE', 'WASHINGTON BLVD', 'CENTURY BLVD', 'FLORENCE AVE', '3RD ST', 'HYPERION AVE', 'RODEO RD', 'ALAMEDA ST # B5', 'WASHINGTON BLVD', 'CHARLES E YOUNG DR 140-A', 'FIGUEROA ST', 'MARTIN LUTHER KING JR BLVD ', 'WASHINGTON BLVD', 'HOPE ST # A', 'VERMONT AVE', 'LINCOLN BLVD', 'ALAMEDA ST B-9', '8TH ST', 'OLIVE ST', 'CENTRAL AVE', 'ALPINE ST', 'FAIRFAX AVE', 'COLORADO BLVD', 'SUNSET BLVD', 'SILVER LAKE BLVD', 'CAHUENGA BLVD', '3RD ST', 'OLYMPIC BLVD', 'WESTERN AVE ', 'MELROSE AVE', 'GLENDALE BLVD', 'GLENDALE BLVD', 'MELROSE AVE 101', 'SLAUSON AVE', 'MAIN ST', 'VERMONT AVE', 'VERMONT AVE', 'BROADWAY', 'GLENDALE BLVD', '1/2 3RD ST', 'FLETCHER DR', 'WESTERN AVE STE ', '3/4 N LA BREA AVE', 'OLYMPIC BLVD', 'CAHUENGA BLVD', 'OLYMPIC BLVD', 'BEATRICE ST', 'WESTWOOD BLVD', 'OLYMPIC BLVD', 'VENICE BLVD STE 112', 'CENTRAL AVE', 'SUNSET BLVD', 'MELROSE AVE', 'CENTURY BLVD', 'MAIN ST', 'YORK BLVD', 'OLYMPIC BLVD # LEVEL', 'WILSHIRE BLVD ', 'HOLLYWOOD BLVD ', 'MELROSE AVE', 'CENTRAL AVE', 'FLETCHER DR', 'CAHUENGA BLVD STE ', 'VERNON AVE', 'RIVERSIDE DR', 'SUNSET BLVD', 'FIGUEROA ST ', 'OLYMPIC BLVD', '1/4 S VERMONT AVE', 'WESTWOOD BLVD', 'CRENSHAW BLVD E', 'ATLANTIC BLVD', 'SUNSET BLVD', 'FLORENCE AVE', 'BROADWAY WAY', 'ALAMEDA ST', 'EL SEGUNDO BLVD', 'SUNSET BLVD # A', '9TH ST ', '3RD ST', '3RD ST', 'VENICE BLVD', 'BROADWAY # G-105', '1/2 E EL SEGUNDO BLVD', 'VINE ST', 'VINE ST STE A', 'BROADWAY STE 130', 'FLORENCE AVE', 'GLENDALE BLVD', 'PICO BLVD', 'LOS FELIZ BLVD', 'YORK BLVD', 'FRANKLIN AVE', '3RD ST', '7TH ST', 'WASHINGTON BLVD', '9TH ST', 'SEPULVEDA BLVD ', '3RD ST', 'SUNSET BLVD', 'CRENSHAW BLVD STE C', 'PICO BLVD', 'HOLLYWOOD BLVD STE 106', 'VINE ST', '3RD ST STE 107', '3RD ST', 'GLENDALE BLVD # #B', '9TH ST', 'YORK BLVD', 'PALMS BLVD', 'FIGUEROA ST STE 207', 'WORLD WAY # T08-F', 'ALVARADO ST -8', '7TH ST', '3RD ST STE 310', '7TH ST', '7TH ST ', '7TH ST', '7TH ST', '7TH ST', 'OLVERA ST', 'NEW HIGH ST', 'BEAUDRY AVE', 'GLENDALE BLVD', '7TH ST', '7TH ST', '7TH ST STE 150', 'FLETCHER DR', '3RD ST STE 305', 'WORLD WAY T04', 'LOS FELIZ BLVD', '7TH ST STE LG320', '7TH ST', '8TH ST D', 'WASHINGTON BLVD', 'SUNSET BLVD', 'WILSHIRE BLVD', 'SUNSET BLVD', 'VERMONT AVE', 'CENTURY BLVD', 'WORLD WAY T34', 'WESTERN AVE', 'FIGUEROA ST STE ', 'GRAND AVE', 'SPRING ST STE 102', 'FIGUEROA ST ', 'SUNSET BLVD', 'WASHINGTON BLVD ', 'SAWTELLE BLVD ', 'WASHINGTON BLVD STE 110', 'GRAND AVE # ', 'BEVERLY BLVD', 'CENTURY BLVD', '3RD ST', 'WILSHIRE BLVD', 'OLYMPIC BLVD STE A135', 'WASHINGTON BLVD ', 'COLORADO BLVD', 'PICO BLVD', '8TH ST 109', 'SAWTELLE BLVD', 'FAIRFAX AVE', 'WORLD WAY T44', 'SPRING ST STE 105', 'WASHINGTON BLVD STE 118', 'SPRING ST STE 104', 'WESTERN AVE', '7TH ST', '1/2 S WESTERN AVE', 'EAGLE ROCK BLVD STE 1&2', 'CESAR E CHAVEZ AVE', '7TH ST', 'OLYMPIC BLVD STE A175', 'SANTA MONICA BLVD', 'HIGHLAND AVE', 'SPRING ST STE 106', 'WESTERN AVE', 'AVALON BLVD', 'WILSHIRE BLVD', 'THE GROVE DR # F-10', 'WESTERN HERITAGE WAY', 'CENTURY BLVD', 'FAIRFAX AVE', 'SUNSET BLVD', '8TH ST STE 101', 'OLYMPIC BLVD', 'CAMPUS RD', 'WATTS WAY', '8TH ST 108', 'SPRING ST', 'ROSSMORE AVE', 'OLYMPIC BLVD', 'FAIRFAX AVE A14', 'MELROSE AVE', 'VERMONT AVE G&W', 'CAHUENGA BLVD W', 'FLORENCE AVE', 'TROUSDALE PKWY', 'SPRING ST ', 'VERMONT AVE E', 'HIGHLAND AVE STE 6', 'LA BREA AVE', 'SPRING ST', 'VERMONT AVE', '3RD ST', 'MCCLINTOCK AVE', 'ALAMEDA ST # ', 'MAIN ST', 'HYPERION AVE', '3RD ST STE K 7', '8TH ST', 'OLYMPIC BLVD', 'BEVERLY BLVD', 'SPRING ST STE 112', 'SPRING ST STE 107', 'OLYMPIC BLVD', 'AVALON BLVD', 'BROADWAY ST', 'ALAMEDA ST # A57', 'LA BREA AVE', 'FLORENCE AVE', '8TH ST', '8TH ST # C', 'VINE ST STE ', 'JEFFERSON BLVD', 'PICO BLVD', 'MAIN ST', 'OLYMPIC BLVD', 'CENTINELA AVE', 'YALE ST', 'WILSHIRE BLVD', 'SUNSET BLVD', 'VERMONT AVE', 'HOOPER AVE', 'SPRING ST', 'LARCHMONT BLVD', 'WILMINGTON AVE', 'LINCOLN BLVD STE 101B', 'SPRING ST STE 111', 'SPRING ST', 'SUNSET BLVD', 'WILMINGTON AVE', 'VERMONT AVE', 'SPRING ST ', '6TH ST', 'WILSHIRE BLVD', 'SUNSET BLVD', 'OVERLAND AVE', '3RD ST STE D101', 'CENTRAL AVE 140', 'WILSHIRE BLVD', 'LA CIENEGA BLVD # C123', 'FIGUEROA ST', '7TH ST', 'WESTERN AVE ', 'MAXELLA AVE ', '6TH ST', 'SUNSET BLVD', 'WATERFRONT DR ', 'VINE ST SUIT 7A', 'CENTINELA AVE', 'OLYMPIC BLVD', 'MAIN ST', 'WESTERN AVE STE ', 'SOTO ST STE', 'SPRING ST ', 'WHITTIER BLVD', 'VINE ST', 'WHITTIER BLVD', 'LA BREA AVE', 'YORK BLVD', 'SPRING ST STE 110', '2ND ST 102', '3RD ST', 'KINROSS AVE', 'SUNSET BLVD unit B', 'FIGUEROA ST', 'FIGUEROA ST STE B', 'SUNSET BLVD STE Q', 'WILMINGTON AVE', 'WILMINGTON AVE', 'WILMINGTON AVE', 'VERMONT AVE', 'WORLD WAY', '2ND ST ', '3RD ST', 'WILMINGTON AVE', 'VERMONT AVE', 'WILMINGTON AVE', 'OLYMPIC BLVD STE 203', 'COMPTON AVE', 'WHITTIER BLVD', 'COMPTON AVE', 'SANTA FE AVE', 'LA BREA AVE', '1/2 E WHITTIER BLVD', 'WESTERN AVE', 'VERMONT AVE STE 106', 'VERMONT AVE ', '1ST ST', 'JEFFERSON BLVD', 'VERMONT AVE STE 103', 'VERMONT AVE STE 102', 'WESTERN AVE', 'WESTERN AVE ', 'WESTERN AVE', 'WESTERN AVE STE ', 'VERMONT AVE STE #D', 'SAN VICENTE BLVD', 'MANCHESTER AVE', 'FORD BLVD', 'WESTERN AVE', 'BROADWAY ST # E10', 'LA BREA AVE A', 'WILSHIRE BLVD STE ', 'SUNSET BLVD ', 'BEVERLY BLVD', 'BEVERLY BLVD STE ', 'WILSHIRE BLVD ', 'OLYMPIC BLVD STE A180', 'BEVERLY BLVD', 'HILL ST STE K', 'FIGUEROA ST # AUGY4', 'EXPOSITION PARK DR', 'BEVERLY BLVD', 'SANTA MONICA BLVD ', '96TH ST', 'VALLEY BLVD', 'MONTEREY RD', 'SERRANO AVE', 'BROADWAY ST E3', 'BEVERLY BLVD', 'BROADWAY # D3', 'BROADWAY AVE STE 5-D', '87TH ST', 'WHITTIER BLVD', 'PICO BLVD', 'BROADWAY ST C-19', '6TH ST ', 'LOS FELIZ BLVD STE ', 'CENTURY BLVD', 'FORD BLVD', '7TH ST', 'HOLLYWOOD BLVD', 'FORD BLVD', '7TH ST', 'MANCHESTER AVE', 'YORK BLVD', 'HOOVER ST', 'LOS FELIZ BLVD STE ', 'BROADWAY ', 'WESTWOOD BLVD', 'SPRING ST STE ', 'WHITTIER BLVD', '120TH ST', '1/2 N LA BREA AVE', 'VERMONT AVE', 'OLYMPIC BLVD', 'HYPERION AVE', 'VERMONT AVE', 'BROADWAY ', 'YORK BLVD', 'SUNSET BLVD', 'FORD BLVD', 'SUNSET BLVD', 'HOLLYWOOD BLVD ', 'LA BREA AVE', 'WESTERN AVE', 'VENICE BLVD', 'SAWTELLE BLVD', 'VERMONT AVE STE 1', 'GRIFFITH PARK BLVD', '6TH ST', 'HYPERION AVE', '6TH ST', 'VERMONT AVE', 'BROADWAY ST 101E1', '6TH ST ', 'HYPERION AVE', 'VERMONT AVE # A', 'HILL ST', 'HILL ST', 'HOOVER ST', 'WESTERN AVE', 'SUNSET BLVD', 'CENTINELA AVE', 'UNION AVE', 'SANTA MONICA BLVD', 'SILVER LAKE BLVD', '6TH ST', '120TH ST', 'VENICE BLVD', 'SAN FERNANDO RD', 'WILSHIRE BLVD', 'WILSHIRE BLVD STE 102', 'COLORADO BLVD', 'PICO BLVD', 'HOLLYWOOD BLVD', 'WILSHIRE BLVD', 'MELROSE AVE', 'WILSHIRE BLVD ', 'OLYMPIC BLVD STE 106', 'SANTA MONICA BLVD # C', 'WESTERN AVE # B', 'SAN FERNANDO RD', 'SAN FERNANDO RD STE 104', '6TH ST', 'LA CIENEGA BLVD', 'SANTA MONICA BLVD STE B', 'SAN FERNANDO RD', '3RD ST', 'HOLLYWOOD BLVD', 'STATE UNIVERSITY DR', '6TH ST B', '3RD ST', 'FRANKLIN AVE', 'WILSHIRE BLVD', 'BROADWAY', 'WILSHIRE BLVD # ', '1/2 N SAN FERNANDO RD', 'COLORADO BLVD', 'ALVARADO ST # ', 'WHITTIER BLVD', 'HOBART BLVD STE #C', 'WHITTIER BLVD', 'CENTURY PARK E RD', 'SANTA MONICA BLVD STE A', '3RD ST', 'GLENDALE BLVD', 'HOLLYWOOD BLVD', '6TH ST', 'EAGLE ROCK BLVD', 'BROADWAY', '3RD ST', 'STATE UNIVERSITY DR', 'FRANKLIN AVE', 'WESTERN AVE ', 'WILSHIRE BLVD STE #D', 'HOLLYWOOD BLVD', 'WILSHIRE BLVD', 'BROADWAY', '6TH ST STE 101A', 'HOLLYWOOD BLVD', 'HOLLYWOOD BLVD', 'GLENDALE BLVD', 'MANSFIELD AVE', 'CENTINELA AVE', 'SUNSET BLVD', 'ALVARADO ST', 'WILSHIRE BLVD STE 119', 'SUNSET BLVD', 'ROBERTSON BLVD', 'HIGHLAND AVE', 'FIGUEROA ST 34TH', 'FIGUEROA ST ', 'SANTA MONICA BLVD', 'WILSHIRE BLVD ', 'HIGHLAND AVE STE ', 'INDIANA ST', 'OLYMPIC BLVD UNIT B', 'HOLLYWOOD BLVD', 'SAN PEDRO ST STE 220', 'VIN SCULLY AVE', 'WILSHIRE BLVD STE 186', 'CAHUENGA BLVD', 'VINE ST', 'WILSHIRE BLVD STE 120', 'EAGLE ROCK BLVD', 'SUNSET BLVD', 'EAGLE ROCK BLVD', 'SUNSET BLVD', 'SUNSET BLVD #E', 'SUNSET BLVD', 'ECHO PARK AVE', 'HOLLYWOOD BLVD', '6TH ST # C', 'GLENDALE BLVD', '6TH ST', 'HOLLYWOOD BLVD', 'WILSHIRE BLVD', 'BROADWAY ST F9- F10', 'BROADWAY CC/1', 'GLENDALE BLVD', 'CENTRAL AVE', '6TH ST', 'GLENDALE BLVD # A', '3RD ST', 'WILSHIRE BLVD', 'PICO BLVD', 'GRAND AVE', 'SPRING ST STE B', 'HOLLYWOOD BLVD', '6TH ST', 'MANCHESTER AVE', '6TH ST', 'SANTA MONICA BLVD', 'HOLLYWOOD BLVD', 'ROBERTSON BLVD', '6TH ST # E1', '3RD ST', 'BROADWAY STE ', '17TH ST ', 'UNION AVE', 'THE GROVE DR BLDG ', 'ECHO PARK AVE', '6TH ST', '5TH ST', 'SANTA MONICA BLVD', 'GLENDALE BLVD', '6TH ST', 'WORLD WAY T31', 'SUNSET BLVD', '7TH ST', 'VENICE BLVD', 'MANCHESTER AVE', '6TH ST', '6TH ST UNIT 120', 'WORLD WAY T30', '6TH ST ', 'HOOVER ST STE 105', 'VERMONT AVE', 'PALMETTO ST', 'HOOVER ST ', '11TH ST', 'SLAUSON AVE', '8TH ST # ', 'CRYSTAL SPRINGS DR', 'MANCHESTER AVE', 'WHITTIER BLVD', 'GLENDALE BLVD', 'PICO BLVD', 'SUNSET BLVD', 'MELROSE AVE STE A', 'HOBART BLVD', 'GLENDALE BLVD', 'BROADWAY', 'WHITTIER BLVD', 'SUNSET BLVD', 'LA CIENEGA BLVD', 'WORLD WAY', 'HOOVER ST', 'SUNSET BLVD', 'ADAMS BLVD', 'IMPERIAL HWY', 'WHITTIER BLVD', 'LA BREA AVE', 'BEVERLY BLVD', 'MILLENNIUM DR ', 'FAIRFAX AVE', 'WHITTIER BLVD', 'HOOVER ST', 'LA BREA AVE STE 205', 'CRYSTAL SPRINGS DR', 'JEFFERSON BLVD ', 'BROADWAY', 'VERMONT AVE', '6TH ST', 'ALVARADO ST', 'LOS FELIZ BLVD', '3RD ST', '5TH ST', 'HOLLYWOOD BLVD', 'ALVARADO ST STE 112', 'CESAR E CHAVEZ AVE', 'LOS FELIZ BLVD', 'VINE ST STE ', 'HYPERION AVE', 'HOPE ST', 'LOS FELIZ BLVD', 'GLENDALE BLVD', 'LOS ANGELES ST STE ', '7TH ST', 'MADISON AVE', 'BEVERLY BLVD', 'FLETCHER DR', 'UNION AVE', 'WILMINGTON AVE STE A', 'WESTMORELAND AVE # #B', 'ALVARADO ST', '103RD ST', 'MELROSE AVE', '7TH ST', '7TH ST', 'HYPERION AVE', 'HOLLYWOOD BLVD ', '6TH ST', 'VIRGIL AVE STE 105', 'WILSHIRE BLVD', '3RD ST', '6TH ST', 'SOTO ST', '103RD ST', 'ATLANTIC BLVD', '3RD ST', 'LARCHMONT BLVD', 'ATLANTIC BLVD', 'GLENDALE BLVD', '3RD ST', 'SUNSET BLVD', 'GLENDALE BLVD STE #D', 'HOLLYWOOD BLVD ', '6TH ST', '8TH ST', '8TH ST', 'FAIRFAX AVE', 'MLK BLVD', 'FIGUEROA ST', '5TH ST', 'WILSHIRE BLVD # G7', '7TH ST', 'MIRASOL ST', 'YORK BLVD', 'GLENDALE BLVD', 'WILSHIRE BLVD ', 'BEVERLY BLVD', 'LARCHMONT BLVD', '3RD ST', 'HOLLYWOOD BLVD ', 'BELLANCA AVE', 'BEVERLY BLVD', 'SUNSET BLVD', '8TH ST', 'LA BREA AVE', '6TH ST BC', 'ATLANTIC BLVD', 'HARVARD BLVD', '103RD ST', '3RD ST', '103RD ST', 'WASHINGTON PL', 'BEVERLY BLVD', '3RD ST', 'CHARLES E YOUNG DR 140-D', '6TH ST', 'WILSHIRE BLVD ', '1/2 LA BREA AVE', 'HIGHLAND AVE', 'ALVARADO ST # A', '1/2 BEVERLY BLVD', 'ABBOT KINNEY', 'GLENDALE BLVD', '3RD ST', 'WILSHIRE BLVD', 'HOBART BLVD ', 'LA BREA AVE', 'OLYMPIC BLVD STE D', 'WORLD WAY', '103RD ST UNIT 5', 'WESTERN AVE', 'SANTA MONICA BLVD', 'CAHUENGA BLVD', '103RD ST', 'MELROSE AVE', 'SUNSET BLVD', '6TH ST', 'SUNSET BLVD', '3RD ST STE ', 'LA BREA AVE', 'MELROSE AVE', 'PARK TER', 'MAIN ST', 'GLENDALE BLVD', 'WESTWOOD PLZ # #F211', 'ALVARADO ST', '1ST ST', 'MELROSE AVE', 'IMPERIAL HWY', 'OLYMPIC BLVD STE B', 'CAHUENGA BLVD W', '5TH ST', 'GLENDALE BLVD', 'FIGUEROA ST', 'MELROSE AVE', '3RD ST STE E-11', 'WESTWOOD PLZ STE A260', 'WILSHIRE BLVD STE 100B', 'SANTA MONICA BLVD', 'JEFFERSON BLVD', 'OLYMPIC BLVD STE ', 'FAIRFAX AVE', 'GLENDALE BLVD', 'SANTA MONICA BLVD', 'ALVARADO ST', 'SAN FERNANDO RD', 'FAIRFAX AVE', 'WESTWOOD PLZ', 'ALVARADO ST', 'WESTERN AVE STE ', 'BEVERLY BLVD', 'MELROSE AVE', 'BEVERLY BLVD', 'SAN FERNANDO RD W', 'FIGUEROA ST', 'PICO BLVD', 'LA BREA AVE', 'SUNSET BLVD', 'WASHINGTON BLVD', 'SANTA MONICA BLVD', 'CAHUENGA BLVD', 'VERMONT AVE', 'OLYMPIC BLVD', 'FIGUEROA ST', 'FIGUEROA ST', 'LA BREA AVE', 'CARONDELET ST', '7TH ST', 'BROADWAY AVE', 'VERMONT AVE', '4TH ST', '6TH ST ', 'BROADWAY', 'SANTA MONICA BLVD', 'WESTERN AVE', '1/2 N CAHUENGA BLVD', '3RD ST', 'OLIVE ST', '6TH ST STE 109A', 'GLENDALE BLVD UNIT 2', 'WESTERN AVE STE 107', '6TH ST ', 'WESTERN AVE', 'OLYMPIC BLVD UNIT 103', 'YUCCA ST', 'EAGLE ROCK BLVD', '3RD ST', '3RD ST', '3RD ST', 'GRAND AVE # ', 'SANTA MONICA BLVD ', 'WESTERN AVE # D & E', 'SPRING ST ', 'WILSHIRE BLVD ', '1/2 W OLYMPIC BLVD', 'EAGLE ROCK BLVD', 'WASHINGTON BLVD', 'DALY ST', 'Z00 DR', 'HIGHLAND AVE', 'WASHINGTON BLVD', 'GRAND AVE', 'WESTERN AVE STE ', 'DALY ST', 'FIGUEROA ST', 'PACIFIC AVE', 'WESTERN AVE # A-B', 'GRAND AVE # LEVEL', 'SUNSET BLVD', 'SPRING ST STE 114', 'ZOO DR', 'CENTER DR ', 'FAIRFAX AVE', 'COLORADO BLVD', 'WASHINGTON BLVD E', 'DALY ST ', 'BEVERLY BLVD', 'FIGUEROA ST ', 'EAGLE ROCK BLVD', 'CENTINELA AVE', 'BEVERLY BLVD', 'FIGUEROA ST', 'SOTO ST', 'CENTINELA AVE', 'CENTINELA AVE', 'GRAND AVE # ', 'LA CIENEGA BLVD', '8TH ST', 'SUNSET BLVD', 'OLYMPIC BLVD STE 101', 'HOLLYWOOD BLVD', '6TH ST', '3RD ST', '7TH ST', 'FIGUEROA ST FL 18', 'HOLLYWOOD BLVD', 'PICO BLVD', 'FAIRFAX AVE', 'SANTA MONICA BLVD', 'HOLLYWOOD BLVD STE A', '3RD ST', 'FIGUEROA ST ', 'DALY ST', '6TH ST', 'FAIRFAX AVE', 'MELROSE AVE', 'MELROSE AVE', 'OLYMPIC BLVD', 'FIGUEROA ST', 'GAYLEY AVE', 'VERDUGO RD', 'WHITTIER BLVD', 'FAIRFAX AVE', 'EASTERN AVE', 'JEFFERSON BLVD', '2ND ST', 'FAIRFAX AVE', 'CORDOVA ST', '7TH ST ', 'WASHINGTON PL # A', 'CENTURY BLVD STE 104', '6TH ST', 'CENTURY BLVD', '7TH ST', '6TH ST', 'BEVERLY BLVD', 'MAIN ST ', 'PICO BLVD STE A', 'SUNSET BLVD # ', 'WESTERN AVE', '1/2 S FAIRFAX AVE', 'FAIRFAX AVE', 'WILSHIRE BLVD', 'MLK BLVD', 'PARK VIEW ST', 'FAIRFAX AVE', 'SUNSET BLVD STE C', 'THE GROVE DR # P5-01', 'WHITTIER BLVD', 'WESTERN AVE', '4TH ST', 'JEFFERSON BLVD SPCE 120', 'FAIRFAX AVE', 'MAPLE ST', 'SANTA MONICA BLVD # #A', 'SUNSET BLVD # E', 'FAIRFAX AVE', 'HOLLYWOOD BLVD', 'WINDWARD AVE', 'HOLLYWOOD BLVD ', 'HOLLYWOOD BLVD STE ', 'WASHINGTON PL #B', 'SUNSET BLVD', '7TH ST', '3RD ST 744', 'MAIN ST', 'BEVERLY BLVD', 'FAIRFAX AVE', 'FIGUEROA ST', 'VERMONT AVE UNIT 103-0', '8TH ST', '8TH ST  -107', 'LARCHMONT BLVD', 'AIRPORT BLVD', 'BEVERLY BLVD', 'CAHUENGA BLVD W', 'ALAMEDA ST # AA5', 'THE GROVE DR STE #K-30', 'FAIRFAX AVE', 'WORLD WAY T236', 'HOLLYWOOD BLVD', 'LA BREA AVE', 'CENTINELA AVE', 'HOLLYWOOD BLVD', 'VERMONT AVE ', 'SUNSET BLVD', 'LA BREA AVE', 'TROUSDALE PKWY', 'SUNSET BLVD STE C', 'HOLLYWOOD BLVD', 'HOLLYWOOD BLVD', 'VERMONT AVE STE 109', 'VERMONT AVE STE 103', 'PICO BLVD', 'GAGE AVE STE #B', 'CRENSHAW BLVD', 'MULHOOLAND DR', 'EXPOSITION BLVD', 'ATLANTIC BLVD', 'WILSHIRE BLVD', 'HOLLYWOOD BLVD', 'ALAMEDA ST STE 115', 'WORLD WAY ', 'OLYMPIC BLVD', 'WILSHIRE BLVD # B-1', 'WORLD WAY STE T234', 'ADAMS BLVD', 'PICO BLVD', 'VENICE BLVD', 'PICO BLVD', 'VERMONT AVE ', 'WESTERN AVE ', 'LAS PALMAS AVE', 'WORLD WAY # T235', 'SUNSET BLVD', 'HOLLYWOOD BLVD', 'ADAMS BLVD', 'WHITTIER BLVD', '3RD ST STE ', '3RD ST STE 508', '7TH ST', 'VALLEY BLVD STE A', 'YORK BLVD #A', 'WILSHIRE BLVD', '3RD ST', 'HOLLYWOOD BLVD', 'WESTWOOD BLVD', 'PICO BLVD', 'PICO BLVD', 'ALAMEDA ST', '3RD ST # K-14', '9TH ST', '6TH ST ', 'ATLANTIC BLVD # #B', 'WHITTIER BLVD', 'WORLD WAY ', 'FLORENCE AVE', 'VALLEY BLVD STE H', 'SUNSET BLVD ', 'FLORENCE AVE STE #A', 'HOLLYWOOD BLVD', '3RD ST STE 548', 'WORLD WAY', 'GRAND AVE', 'GRAND AVE', '6TH ST STE 104-5', 'PICO BLVD', '7TH ST', 'WORLD WAY ', 'OLYMPIC BLVD', 'POMONA BLVD ', 'WILSHIRE BLVD STE ', 'ADAMS BLVD', 'SANTA MONICA BLVD', 'OLYMPIC BLVD', 'WILSHIRE BLVD', 'LAS PALMAS AVE', 'OLYMPIC BLVD', 'HOLLYWOOD BLVD', 'OLYMPIC BLVD', 'OLYMPIC BLVD', 'WILSHIRE BLVD', 'SAWTELLE BLVD', 'SANTA MONICA BLVD # FC21', '1ST ST', 'HARVARD BLVD', 'WILSHIRE BLVD ', 'LAS PALMAS AVE', 'BOYLE AVE', 'MELROSE AVE', 'BEVERLY BLVD', 'WESTERN AVE', '1/2 E 1ST ST', 'WORLD WAY ', 'SANTA MONICA BLVD ', 'SAN VICENTE BLVD', 'WESTERN AVE', 'OLYMPIC BLVD STE A335', 'WESTERN AVE', 'CULVER BLVD STE J', '3RD ST ', 'LAS PALMAS AVE', 'OLYMPIC BLVD STE A335', 'EAGLE ROCK BLVD', '3RD ST', 'SAWTELLE BLVD', 'CULVER BLVD # B', 'FIGUEROA ST STE 104-5', 'MELROSE AVE', 'FETTERLY AVE STE ', 'WILSHIRE BLVD STE 118', 'PICO BLVD', 'SILVER LAKE BLVD', 'CESAR E CHAVEZ AVE', 'BEVERLY BLVD', 'WORLD WAY C4 -30', 'LINCOLN BLVD', 'GAGE AVE', '3RD ST # EK10', 'BELLANCA AVE', 'COLORADO BLVD', 'ADAMS BLVD', 'BEVERLY BLVD # C', '1/2 S KERN AVE', '3RD ST STE ', '3RD ST BLDG 11', 'COLORADO BLVD', 'SOTO ST', 'ROSSMORE AVE', 'PICO BLVD', 'SLAUSON AVE STE #F', 'CESAR E CHAVEZ AVE', 'AVE OF STARS STE 35', 'WASHINGTON BLVD', 'SLAUSON AVE', 'ROSSMORE AVE', 'LAS PALMAS AVE', 'BEVERLY BLVD', '1/2 W 8TH ST', 'OLYMPIC BLVD STE A-335', 'MELROSE AVE', 'CESAR E CHAVEZ AVE', 'PICO BLVD', '6TH ST', 'OLYMPIC BLVD', 'ALAMEDA ST # W-11', 'SUNSET BLVD', 'MELROSE AVE', 'WESTERN AVE STE #A', 'CESAR CHAVEZ AVE', 'CULVER BLVD STE #A', 'BEVERLY BLVD', 'SLAUSON AVE', 'CENTURY BLVD STE C', 'SLAUSON AVE STE A', 'MELROSE AVE', 'CAHUENGA BLVD', 'SUNSET BLVD STE #C', '8TH ST', '6TH ST', 'MELROSE AVE', 'HOOPER AVE', 'OLYMPIC BLVD', 'OLYMPIC BLVD', 'SUNSET BLVD', '8TH ST', 'SUNSET BLVD', '3RD ST STE ', 'IDELL ST', 'WILSHIRE BLVD ', 'PICO BLVD', 'PICO BLVD', 'SUNSET BLVD', 'WESTERN AVE E', 'ALAMEDA ST # #W-4', 'PICO BLVD', 'PICO BLVD', '11TH ST', 'PICO BLVD', 'SUNSET BLVD', 'SLAUSON AVE ', 'VERMONT AVE', '3RD ST STE ', 'CENTURY PARK E STE 150', '1/2 WILSHIRE BLVD', '11TH ST', 'FRANKLIN AVE', 'CESAR E CHAVEZ AVE', 'SUNSET BLVD STE #D', 'SUNSET BLVD', 'WHITTIER BLVD', 'WABASH AVE', 'PICO BLVD', '8TH ST', 'LA BREA AVE', 'HOLLYWOOD BLVD', 'WESTERN AVE', 'LA BREA AVE', 'AVALON BLVD', 'RODEO RD', 'BROADWAY ', 'FIGUEROA ST ', 'CULVER BLVD', '8TH ST', 'SUNSET BLVD', '8TH ST', 'SOTO ST ', 'YUCCA ST', 'SOTO ST STE 17', 'SUNSET BLVD', 'WESTERN AVE', 'VALLEY BLVD STE ', 'PICO BLVD STE ', 'MCDONELL AVE', 'WESTERN AVE 209', 'OLYMPIC BLVD # A260', 'SLAUSON AVE', 'SLAUSON AVE', '7TH ST', 'VALLEY BLVD', 'AVALON BLVD', 'HOLLYWOOD BLVD ', 'HOLLYWOOD BLVD', 'SUNSET BLVD', 'SPRING ST ', 'WESTERN AVE ', 'GRAND AVE', 'MISSION RD', 'MC CLINTOCK AVE', 'BROADWAY E13', 'SUNSET BLVD', 'BROADWAY ST ', '6TH ST', '5TH ST', '34TH ST', 'BROADWAY # F', 'MELROSE AVE', 'MELROSE AVE', 'COLORADO BLVD', '1ST ST', 'FAIRFAX AVE', 'COLORADO BLVD', 'BROADWAY B-10', '8TH ST', 'FAIRFAX AVE', '89TH ST', 'SANTA MONICA BLVD ', 'MANCHESTER AVE', 'BROADWAY STE 215', 'HILL ST STE #A', 'BROADWAY ST UNIT A7', 'YORK BLVD', 'MAIN ST', 'LINCOLN BLVD', 'SPRING ST', 'BROADWAY ST # A-6', 'SPRING ST STE #A', 'OLYMPIC BLVD STE ', 'OLYMPIC BLVD', 'OLYMPIC BLVD ', 'MAIN ST STE ', 'MARTIN LUTHER KING JR BLVD', '8TH ST', 'YORK BLVD', '8TH ST', 'FAIRFAX AVE', 'OLYMPIC BLVD', '54TH ST', 'EAGLE ROCK BLVD', 'LOS FELIZ BLVD', 'SAN FERNANDO RD', 'WORLD WAY # A1-16', 'HIGHLAND AVE', 'SAN FERNANDO RD', 'PALMS BLVD', 'SUNSET BLVD', 'LA TIJERA BLVD', 'AIRPORT BLVD', 'LA TIJERA BLVD', 'MELROSE AVE', 'CENTRAL AVE', 'PICO BLVD', 'VINE ST', 'EAGLE ROCK BLVD', 'HOLLYWOOD BLVD', 'AIRPORT BLVD', 'WORLD WAY ROOM 1066', 'SUNSET BLVD', 'WORLD WAY', 'WILSHIRE BLVD ', 'NORTON AVE', 'VENICE BLVD', 'SAN FERNANDO RD', 'OLYMPIC BLVD', 'CENTINELA AVE', 'SAN FERNANDO RD', 'MARLTON AVE', 'AIRPORT BLVD', 'SUNSET BLVD', 'MELROSE AVE', 'VERNON AVE', 'FIGUEROA ST', 'FLORENCE AVE', '11th ST', 'MAIN ST', 'GLENDALE BLVD', '7TH ST', '12TH ST', '12TH ST 5', '1/4 S CENTRAL AVE', 'SUNSET BLVD', 'HIGHLAND AVE', '12TH ST', 'OLYMPIC BLVD STE 105', '7TH ST', 'LINCOLN BLVD', 'FAIRFAX AVE', 'UNION AVE', 'NATIONAL BLVD', 'SUNSET BLVD', 'HOLLYWOOD BLVD', 'AVALON BLVD', 'SUNSET BLVD', 'MAIN ST', 'OLYMPIC BLVD ', 'ALVARADO ST', '1/2 SHATTO PL', 'SUNSET BLVD', 'WESTERN AVE', 'OLYMPIC BLVD ', 'SANTA MONICA BLVD #A', 'HOLLYWOOD BLVD', '9TH ST # B- LOB30', 'HOLLYWOOD BLVD', 'HOLLYWOOD BLVD', '9TH ST', 'VERNON AVE', '12TH ST', 'SLAUSON AVE', '10TH ST', 'BEVERLY BLVD', 'OLIVE ST', 'YORK BLVD', 'SUNSET BLVD', 'PICO BLVD', 'SUNSET BLVD', 'FRANKLIN AVE', 'ALAMEDA ST STE ', 'BROADWAY', 'CESAR E CHAVEZ AVE', 'ALAMEDA ST STE 125', 'OLYMPIC BLVD', 'OLIVE ST', 'SUNSET BLVD', 'TEMPLE ST', 'LEXINGTON AVE', 'FIGUEROA ST', 'YORK BLVD', 'PICO BLVD', 'HILL ST', 'PICO BLVD', 'ALAMEDA ST STE ', 'RAMPART BLVD STE', 'YORK BLVD', 'ALAMEDA ST STE 106', 'BROXTON AVE', 'BROADWAY', 'BROADWAY', 'SANTA MONICA BLVD', 'BEVERLY BLVD', 'HIGHLAND AVE', 'SUNSET BLVD', 'SUNSET BLVD', 'HIGHLAND AVE', 'SUNSET BLVD', 'HOLLYWOOD BLVD', 'VENICE BLVD', 'WESTERN AVE ', 'CESAR E CHAVEZ AVE', 'FIGUEROA ST', 'CESAR E CHAVEZ AVE', 'SANTA MONICA BLVD', 'WESTERN AVE STE ', 'VENICE BLVD', 'MANCHESTER AVE', 'LA TIJERA BLVD', 'WESTERN AVE', 'SUNSET BLVD', 'CESAR E CHAVEZ AVE', 'FLOWER ST', 'WESTERN AVE STE ', '3RD ST', 'WESTWOOD BLVD', 'NATIONAL BLVD', 'SUNSET BLVD ', '3RD ST', 'SUNSET BLVD', '3RD ST', 'SAWTELLE BLVD', 'CRENSHAW BLVD', 'CRENSHAW BLVD', 'BEVERLY BLVD STE 702', 'MELROSE AVE', 'CRENSHAW BLVD UNIT ', 'WESTERN AVE #G03', 'WILTON PL', 'GAGE AVE', 'MANCHESTER AVE', 'DEGNAN BLVD STE 100', '3RD ST STE 108', 'VERNON AVE', 'GAGE AVE C', 'MELROSE AVE', 'WILSHIRE BLVD', 'FAIRFAX AVE 90036', 'GAGE AVE', 'WILSHIRE BLVD', 'MELROSE AVE', '3RD ST', '3RD ST', 'WILSHIRE ', 'VERMONT AVE', 'LORENA ST', 'COMPTON AVE', 'WILSHIRE BLVD', 'VENICE BLVD', 'CENTER DR STE ', 'GRIFFITH PARK BLVD', 'NATIONAL BLVD', 'VENICE BLVD', 'SAWTELLE BLVD', '6TH ST', 'CESAR CHAVEZ AVE', 'CAHUENGA BLVD W BLDG A', 'CAHUENGA WEST BLVD', 'COLORADO BLVD', 'OLIVE ST', 'WILSHIRE BLVD', 'SLAUSON AVE STE #C', 'SANTA MONICA BLVD', 'LORENA ST', 'CESAR CHAVEZ AVE', 'WORLD WAY # T229', 'FOUNTAIN AVE', 'SANTA MONICA BLVD', 'WHITTIER BLVD ', 'LA CIENEGA BLVD', 'COLORADO BLVD STE 14', 'COLORADO BLVD', 'MELROSE AVE', 'MELROSE AVE # C', 'LA CIENGA BLVD', 'WORLD WAY ', 'PLEASANT AVE', 'WHITTIER BLVD', 'CENTER DR STE 104', 'WHITTIER BLVD', 'LA CIENEGA BLVD', 'ST 26', 'SANTA MONICA BLVD', 'NORMANDIE AVE', 'BEVERLY BLVD STE #B', 'VERMONT AVE', 'FOUNTAIN AVE', 'WORLD WAY ', 'VIRGIL AVE', 'SOTO ST # C', 'BROADWAY', '12TH ST STE 409', 'SUNSET BLVD ', 'SLAUSON AVE', 'OVERHILL DR', 'WILSHIRE BLVD # ', 'CENTER DR STE ', 'SUNSET BLVD ', 'LA TIJERA BLVD', 'SLAUSON AVE', 'LA BREA AVE', 'SLAUSON AVE', 'FOUNTAIN AVE', 'HOLLYWOOD BLVD ', '4TH ST', 'LA CIENEGA BLVD', 'HILL ST', 'WHITTIER BLVD', 'VERNON AVE ', 'VENICE BLVD', 'EL CENTRO AVE', 'VENICE BLVD', 'WHITTIER BLVD STE 8', 'OLYMPIC BLVD', 'VENICE BLVD', 'AVENUE 50', 'MAPLE AVE', '3RD ST', 'MELROSE AVE', 'CRENSHAW BLVD', 'WHITTIER BLVD', 'HYDE PARK BLVD', '1/2 W SUNSET BLVD', 'MELROSE AVE', 'SUNSET BLVD', 'WHITTIER BLVD', 'CAHUENGA BLVD', 'SUNSET BLVD', 'HYDE PARK BLVD', 'LA CIENEGA BLVD', 'WESTERN AVE', 'CESAR E CHAVEZ AVE STE A', 'HUNTINGTON DR S', 'SUNSET BLVD STE 104', 'NATIONAL BLVD', 'WHITTIER BLVD', 'LA CIENEGA BLVD', 'SAN PEDRO ST', '1ST ST', 'SLAUSON AVE', 'CESAR E CHAVEZ AVE', 'CESAR E CHAVEZ AVE STE #D', 'HILL ST', 'VERMONT AVE', 'HUNTINGTON DR S', 'CRENSHAW BLVD STE D', '15TH ST', 'PICO BLVD', 'CRENSHAW BLVD', 'SLAUSON AVE STE #A', 'WHITTIER BLVD', 'PICO BLVD', '3RD ST', 'WASHINGTON BLVD', 'OLYMPIC BLVD', 'LARCHMONT BLVD', 'VERDUGO RD', 'SUNSET BLVD # B', 'FLORENCE AVE', 'SLAUSON AVE', 'PICO BLVD', 'YOSEMITE DR', 'SLAUSON AVE', 'OLYMPIC BLVD', 'MARTIN LUTHER KING JR BLVD W', 'SANTA MONICA BLVD', 'FLORENCE AVE', 'VENICE BLVD', '3RD ST', 'PICO BLVD', 'PICO BLVD', '3RD ST', 'WILSHIRE BLVD', 'OLYMPIC BLVD ', 'CENTINELA AVE', 'FIGUEROA ST STE 150', 'THE GROVE DR # K4', '1/2 MELROSE AVE', 'SUNSET BLVD STE C', '1/2 MELROSE AVE', 'SLAUSON AVE', 'WILSHIRE BLVD', 'LA CIENEGA BLVD', 'LINCOLN BLVD', 'WESTERN AVE ', 'SUNSET BLVD', 'WASHINGTON BLVD', 'SUNSET BLVD', 'FIGUEROA ST ', 'EAGLE ROCK BLVD', 'NATIONAL BLVD', '3RD ST', 'COLORADO BLVD', 'SUNSET BLVD', 'WORLD WAY 8E', 'WILSHIRE BLVD ', 'CENTRAL AVE', 'SYCAMORE AVE', 'CESAR E CHAVEZ AVE', 'CRENSHAW BLVD', 'PICO BLVD # A5', 'CESAR E CHAVEZ AVE', 'WORLD WAY ', 'SUNSET BLVD', 'OLYMPIC BLVD', '8TH ST', 'OLYMPIC BLVD', 'OLYMPIC BLVD', 'CESAR E CHAVEZ AVE', 'LARCHMONT BLVD', 'BEVERLY BLVD', '6TH ST', '1/2 W SUNSET BLVD', 'CENTER DR ', 'BEVERLY BLVD', 'MARENGO ST', 'WORLD WAY C', 'PICO BLVD', 'LA CIENEGA BLVD', 'PICO BLVD', '6TH ST', 'CESAR E CHAVEZ AVE', 'OLYMPIC BLVD ', 'EAGLE ROCK BLVD', 'VENICE BLVD', 'WILSHIRE BLVD STE ', 'LORENA ST', 'PICO BLVD', 'FOUNTAIN AVE', '6TH ST', 'ALVARADO ST', 'SUNSET BLVD', 'SEPULVEDA BLVD', 'PICO BLVD', 'VENICE BLVD', 'VERMONT AVE STE 111', '6TH ST STE 107', 'ALAMEDA ST # W9', 'LA CIENEGA BLVD', 'WILSHIRE BLVD', 'WILSHIRE BLVD', 'PICO BLVD', '8TH ST', 'LARCHMONT BLVD', 'COLORADO BLVD', '98TH ST', 'PICO BLVD', 'HOLLYWOOD BLVD', 'SUNSET BLVD', 'VERMONT AVE STE ', 'CENTINELA AVE', 'COLORADO BLVD', '3RD ST', 'LARCHMONT BLVD', 'HIGHLAND AVE', 'VENICE BLVD', 'CENTURY BLVD', 'VERMONT AVE STE 116', '3RD ST STE-E', 'WORLD WAY', 'COLORADO BLVD', '9TH ST', 'PICO BLVD', 'COLORADO BLVD', 'HIGHLAND AVE', 'VENICE BLVD', '3RD ST', 'WILSHIRE BLVD STE ', '3RD ST', '3RD ST ', 'MELROSE AVE', 'HOLLYWOOD BLVD', '1/2 W 3RD ST', '3RD ST', 'CENTRAL AVE', 'ROBERTSON BLVD', 'LARCHMONT BLVD', 'SANTA MONICA BLVD', 'CAHUENGA BLVD', 'OLYMPIC BLVD', 'FIGUEROA ST', 'FAIRFAX AVE STE B', 'PICO BLVD', 'BARRINGTON AVE', 'VERMONT AVE # #C', 'ROBERTSON BLVD', 'OLYMPIC BLVD', 'SUNSET BLVD', 'VENICE BLVD', '3RD ST STE 334', 'PICO BLVD', '6TH ST STE 111', 'SUNSET BLVD', 'SUNSET BLVD', '6TH ST STE ', 'MAPLE AVE', 'VENICE BLVD', 'SANTA MONICA BLVD STE D', 'VENICE BLVD', 'HIGHLAND AVE', 'OLYMPIC BLVD', 'LINCOLN BLVD', 'MELROSE AVE', 'THE GROVE DR', 'OLYMPIC BLVD STE 102', '6TH ST ', 'PICO BLVD', 'FIGUEROA ST', 'WESTERN AVE STE 208-B', 'WATT WAY', 'ROBERTSON BLVD', 'FLOWER ST', 'WESTERN AVE STE #C', 'GLENDALE BLVD', 'GLENDALE BLVD', 'VERMONT AVE # ', '3RD ST', 'HOLLYWOOD BLVD STE 101', 'GLENDALE BLVD', 'GLENDALE BLVD', 'LOS ANGELES ST ', 'MELROSE AVE', 'LOS ANGELES ST ', 'BROADWAY', 'DOWNEY WAY', 'LA CIENEGA BLVD', 'LA CIENEGA BLVD', '6TH ST', 'STANLEY AVE', 'BROADWAY', 'HYPERION AVE', 'CRENSHAW BLVD', 'CENTINELA AVE', '6TH ST # A', '6TH ST', 'CENTRAL AVE', 'SAN VICENTE BLVD', 'WHITTIER BLVD', 'SUNSET BLVD', '1/2 N LARCHMONT BLVD', 'CENTINELA AVE # ', 'BROADWAY', '6TH ST', 'ADAMS BLVD', 'BROADWAY', 'SEPULVEDA BLVD ', 'CRENSHAW BLVD', 'LA CIENEGA BLVD', '6TH ST STE 80', 'ORD ST', 'sunset BLVD', 'HOLLYWOOD BLVD', 'LAS PALMAS AVE', 'VALLEY BLVD', 'SUNSET BLVD', 'LORENA ST', 'SUNSET BLVD STE A', 'SEPULVEDA BLVD', 'CENTINELA AVE', 'FIRESTONE BLVD', 'HOBART BLVD', 'TEMPLE ST', 'HUNTINGTON DR', 'FIGUEROA ST', 'SUNSET BLVD STE C', 'SUNSET BLVD', 'WINDWARD AVE', 'VERNON AVE # #D52', 'ROWENA AVE', 'SUNSET BLVD STE #B', 'HUNTINGTON DR N', 'MANCHESTER AVE', 'PICO BLVD', 'SUNSET BLVD', '3RD ST ', 'MAIN ST', 'PICO BLVD', 'CENTINELA AVE', 'MARENGO ST', 'LORENA ST', 'AVENUE 45', 'MELROSE AVE', 'SUNSET BLVD', '1/2 SUNSET BLVD', 'SUNSET BLVD', 'MAIN ST', 'HUNTINGTON DR N', 'SAWTELLE BLVD', '6TH ST # #A', '3RD ST', 'ALAMEDA ST # D-55', 'SEPULVEDA BLVD', 'MAPLE AVE STE 106', 'FAIRFAX AVE', '6TH ST # B', 'HYPERION AVE', 'MARENGO ST', 'FIGUEROA ST', 'MARENGO ST', 'MATEO ST', 'VENICE BLVD STE ', 'VENICE BLVD B', 'SEPULVEDA BLVD', 'WESTERN AVE', 'CENTINELA AVE', 'BROADWAY ST', 'LINCOLN BLVD', 'COLORADO BLVD', 'PICO BLVD STE ', 'COLORADO BLVD STE ', 'HOLLYWOOD BLVD', 'SOTO ST', 'BROADWAY', 'WILSHIRE BLVD STE ', 'SAN JULIAN ST # A', 'SAN VICENTE BLVD', 'SAWTELLE BLVD', 'SOTO ST', 'THE GROVE DR', 'CENTINELA AVE', 'HOLLYWOOD BLVD', 'WESTERN AVE ', 'SUNSET BLVD', '3RD ST', 'SUNSET BLVD', 'PICO BLVD STE 509', 'BROADWAY', '3RD ST', 'LINCOLN BLVD', 'PICO BLVD', 'WILSHIRE BLVD', 'WILSHIRE BLVD STE B', 'EAGLE ROCK BLVD', 'SOTO ST', '3RD ST', 'OLYMPIC BLVD', 'GLENDON AVE STE 100', 'IMPERIAL HWY', 'EAGLE ROCK BLVD', 'VERMONT AVE', 'SAN VICENTE BLVD', 'HOLLYWOOD BLVD # ', 'LINCOLN BLVD ', 'HOLLYWOOD BLVD ', 'SUNSET BLVD', 'CAHUENGA BLVD', 'BROADWAY', 'VINE ST', 'PICO BLVD', 'BROADWAY', 'WILSHIRE BLVD', 'BROADWAY', 'WILSHIRE BLVD STE 109', 'WHITTIER BLVD', 'WOODBINE ST UNIT 103', '3RD ST STE ', 'CENTRAL AVE', 'ALAMEDA ST STE 119', 'WILSHIRE BLVD 116', 'BROADWAY STE ', 'CENTRAL AVE', 'EL CENTRO AVE', 'BROADWAY', '3RD ST STE 750', 'BUNDY DR', 'PICO BLVD', 'CENTRAL AVE', 'WILSHIRE BLVD # A1', 'CENTRAL AVE', 'HOLLYWOOD BLVD', 'GRAND VIEW BLVD', 'YORK BLVD', 'CENTRAL AVE', 'HOLLYWOOD BLVD', 'FIGUEROA ST', 'HOLLYWOOD BLVD STE ', 'ABBOT KINNEY BLVD', 'VENICE BLVD', 'LE CONTE AVE', 'PICO BLVD', 'YORK BLVD', 'YORK BLVD', 'WESTERN AVE ', 'GRAND AVE STE D-6', 'GRAND AVE', 'SUNSET BLVD', 'FIGUEROA ST', 'YORK BLVD', 'CENTINELA AVE', 'PICO BLVD', 'CENTURY BLVD', 'FAIRFAX AVE', 'WESTERN AVE STE ', 'BROADWAY AVE', 'SUNSET BLVD A-202', 'WHITTIER BLVD', 'NATIONAL BLVD', 'WILSHIRE BLVD', 'VERMONT AVE ', 'CENTURY BLVD', 'NADEAU ST', 'NATIONAL BLVD', 'BROADWAY ST', 'NATIONAL BLVD', 'SAWTELLE BLVD', 'HOLLYWOOD BLVD STE 102', 'WHITTIER BLVD', 'SUNSET BLVD', 'VINE ST ', 'SUNSET BLVD', 'SANTA MONICA BLVD # C', 'BEVERLY BLVD', 'FLOWER ST', 'WESTWOOD BLVD', 'NATIONAL BLVD', 'MANCHESTER AVE', 'MANCHESTER AVE', 'SUNSET BLVD', 'SUNSET BLVD', 'BEVERLY BLVD', 'SOTO ST STE 6', 'SUNSET BLVD', 'FIGUEROA ST', 'VERMONT AVE', 'WESTWOOD BLVD', 'WESTWOOD BLVD', 'BROADWAY', 'HOLLYWOOD BLVD STE 106', 'WORLD WAY ', '1ST ST', 'WILSHIRE BLVD STE B1', '1ST ST', 'NATIONAL BLVD', '6TH ST ', 'WORLD WAY', 'SANTA MONICA BLVD STE ', 'FAIRFAX AVE', 'HYPERION AVE', 'GLENDALE BLVD', '8TH ST', 'MAPLE AVE STE 1', '6TH ST', 'HOLLYWOOD BLVD', 'FIGUEROA ST STE ', 'HOLLYWOOD BLVD', 'FIGUEROA ST STE B', 'GATEWAY BLVD', 'SUNSET BLVD', 'FIGUEROA ST # ', 'FIGUEROA ST', 'SANTA MONICA BLVD', '8TH ST', 'HILL ST ', 'FIGUEROA ST', 'HOLLYWOOD BLVD', 'YORK BLVD', 'CAHUENGA BLVD W', 'PICO BLVD', 'PICO BLVD', 'NATIONAL BLVD', 'HOLLYWOOD BLVD', 'LA CIENEGA BLVD STE #A', 'COLORADO BLVD', 'WHITTIER BLVD', 'CENTINELA AVE', 'SAWTELLE BLVD', 'HOLLYWOOD BLVD', 'SUNSET BLVD', 'FIGUEROA ST', 'LARCHMONT BLVD', 'WORLD WAY', 'WILSHIRE BLVD ', 'HOLLYWOOD BLVD', 'SANTA MONICA BLVD', 'WORLD WAY ', 'CENTINELA AVE', 'WILSHIRE BLVD STE 120', 'PICO BLVD', '8TH ST', '3RD ST', 'SUNSET BLVD', '6TH ST B', 'FIGUEROA ST', 'LA TIJERA BLVD', 'FIGUEROA ST', 'WATERFRONT DR # A', 'PICO BLVD', '6TH ST UNIT 100-C', 'YORK BLVD', 'PICO BLVD', 'PICO BLVD', '6TH ST A', 'LA TIJERA BLVD', 'CESAR E CHAVEZ AVE', 'SUNSET BLVD', 'SUNSET BLVD # D-E', 'GATEWAY BLVD', '3RD ST ', 'SANTA MONICA BLVD', 'VINE ST', 'PICO BLVD', '6TH ST', '3RD ST ', 'MAIN ST', 'PICO BLVD', 'BEVERWIL DR', 'BEVERLY BLVD', 'SUNSET BLVD', 'FIGUEROA ST', 'SUNSET BLVD', '18TH ST', '6TH ST STE ', '6TH ST', 'FIGUEROA ST', '6TH ST STE 105', 'GROSVENOR BLVD', 'CENTINELA AVE', 'SLAUSON AVE', 'SUNSET BLVD', '3RD ST', 'FIGUEROA ST', 'HOLLYWOOD BLVD', 'HOLLYWOOD BLVD ', 'PICO BLVD', '9TH ST', '4TH ST', '4TH ST STE A', '3RD ST ', 'SUNSET BLVD', 'NATIONAL BLVD', 'FIGUEROA ST', 'NATIONAL BLVD', '2ND ST', 'WORLD WAY ', 'VENICE BLVD', 'WORLD WAY', 'WILSHIRE BLVD UNIT B5', 'SUNSET BLVD STE #A', 'MAIN ST', 'NATIONAL BLVD', '3RD ST # ', 'WORLD WAY', 'MELROSE AVE', 'NATIONAL BLVD', 'VERMONT AVE', '1ST ST', 'FIGUEROA ST', 'LA BREA AVE', 'WILSHIRE BLVD STE 22', 'WESTERN AVE G', '6TH ST ', 'CENTRAL AVE ', 'WESTERN AVE STE 105', 'WILSHIRE BLVD STE 106B', 'WILSHIRE BLVD', 'WESTERN AVE ', 'WESTERN AVE ', 'CENTINELA AVE', 'ROBERTSON BLVD', 'WESTERN AVE STE 102', 'SANTA MONICA BLVD', 'LA CIENEGA BLVD', 'AVALON BLVD', 'SANTA MONICA BLVD', 'WESTERN AVE STE 111', 'ALAMEDA ST ', 'BEVERLY BLVD', 'HARVARD BLVD # ', 'WASHINGTON BLVD', 'VERMONT AVE ', 'HIGHLAND AVE', 'BEVERLY BLVD', 'ALAMEDA ST STE ', 'FIGUEROA ST ', 'HOLLYWOOD BLVD', 'FIGUEROA ST ', '1ST ST STE 110', 'SUNSET BLVD', 'WESTERN AVE', 'WORLD WAY ', 'FIGUEROA ST ', 'WILSHIRE BLVD LOWR ', 'MANCHESTER AVE', 'VERMONT AVE', 'VERMONT AVE', 'FLOWER ST B', 'WILSHIRE BLVD STE A', 'HOLLYWOOD BLVD', 'WILSHIRE BLVD ', 'WESTERN AVE A', 'NATIONAL BLVD', 'NATIONAL BLVD #G', 'MAIN ST', 'ADAMS BLVD', 'STA MON BLVD STE A105', 'WASHINGTON BLVD', 'SUNSET BLVD', 'WESTERN AVE #E', 'HOLLYWOOD BLVD', 'WASHINGTON BLVD', 'WORLD WAY ', 'BEVERLY BLVD', 'CENTINELA AVE', 'COLORADO BLVD UNIT 117', 'FIGUEROA ST STE ', 'LA BREA AVE', 'HILL ST', 'SANTA MONICA BLVD ', 'CENTURY PARK E ', 'WESTERN AVE', 'COLORADO BLVD ', 'WILSHIRE BLVD', 'FIGUEROA ST STE ', 'BROADWAY ', 'FIGUEROA ST', 'WORLD WAY ', 'OLYMPIC BLVD STE 124', 'FIGUEROA ST ', 'WASHINGTON BLVD', 'HOLLYWOOD BLVD STE 325', 'CAHUENGA BLVD', '3RD ST', 'FIGUEROA ST ', 'LA BREA AVE', 'LA BREA AVE UNIT B', 'WESTWOOD BLVD', 'FIGUEROA ST STE ', 'LOS FELIZ BLVD STE E-3', 'FIGUEROA ST', 'MAIN ST', 'AVENUE 40 STE -D', 'OLYMPIC BLVD STE ', 'BEVERLY BLVD ', 'BEVERLY BLVD', 'ATLANTIC BLVD', '6TH ST STE 100', '3RD ST STE ', 'WILSHIRE BLVD  A-C', 'WESTERN AVE # #C', 'CESAR E CHAVEZ AVE', 'WORLD WAY', 'VINE ST', 'WESTERN AVE UNIT D', 'SUNSET BLVD', 'CESAR  CHAVEZ AVE STE A', 'COLORADO BLVD ', 'BROADWAY', 'HOLLYWOOD BLVD STE 257', 'LA BREA AVE', '3RD ST ', 'WHITTIER BLVD', 'WESTERN AVE', 'VERNON AVE', 'MAIN ST', 'WESTERN AVE', 'SILVERLAKE BLVD', 'OLYMPIC BLVD ', 'LA CIENEGA BLVD', 'LA CIENEGA BLVD', 'WILSHIRE BLVD ', 'BEVERLY BLVD', 'FIGUEROA ST', 'MAIN ST', '3RD ST', \"CHILD'S WAY\", 'MANCHESTER AVE STE C', 'HOLLYWOOD BLVD', 'HOLLYWOOD BLVD STE 337', 'SANTA FE AVE', 'VINE ST # ', 'OLYMPIC BLVD STE 314', '6TH ST ', 'SAN VICENTE BLVD STE 104', 'OLYMPIC BLVD', 'BROADWAY STE GL-10', 'MANCHESTER AVE', 'WESTERN AVE STE 102', 'MAPLE AVE', 'OLYMPIC BLVD STE 127', 'CENTRAL AVE UNIT B', 'MEDNIK AVE', 'MAPLE AVE', '4TH ST', 'WILSHIRE BLVD', 'OLYMPIC BLVD ', 'MANCHESTER AVE', '4TH ST', 'MAIN ST', 'LA CIENEGA BLVD B111', 'FIGUEROA ST', 'MANCHESTER AVE', 'LAUREL CANYON BLVD', 'HOLLYWOOD BLVD STE 101', 'MAIN ST', 'SAN VICENTE BLVD ', 'FIGUEROA ST', 'KINROSS AVE', 'BEVERLY BLVD', 'CENTRAL AVE', 'OLYMPIC BLVD  -317', '6TH ST STE 228', 'HOLLYWOOD BLVD STE ', 'FIGUEROA ST', 'BROADWAY # #A35', 'MC CARTHY WAY 5', 'FIGUEROA ST', 'OLYMPIC BLVD ', 'WILSHIRE BLVD STE 184', 'SLAUSON AVE STE #D', '8TH ST', 'CESAR E CHAVEZ AVE', 'MAIN ST', 'WORLD WAY', '59TH ST', '1ST ST STE 108', 'WILSHIRE BLVD', 'VENICE BLVD # C1-C', 'AVALON BLVD', 'GRAND AVE STE #LP41', 'BROADWAY', 'OLYMPIC BLVD', 'GRAND AVE # LP100', 'BROADWAY', 'HOLLYWOOD BLVD ', 'FAIRFAX AVE', 'FIGUEROA ST', 'WILMINGTON AVE', '1ST ST STE 3429', 'VENICE BLVD', 'FAIRFAX AVE', 'HOLLYWOOD BLVD', 'CRENSHAW BLVD', 'BROADWAY', 'BROADWAY ST', 'ROBERTSON BLVD', '8TH ST', 'VINE ST', 'SEPULVEDA BLVD', 'VERMONT AVE', '59TH ST', 'BROADWAY UNIT G', 'HOLLYWOOD BLVD', 'SEPULVEDA BLVD', 'HOLLYWOOD BLVD STE ', 'GRAND AVE STE D-3', 'HOOVER ST', 'LOS ANGELES ST', 'CENTRAL AVE', 'CESAR E CHAVEZ AVE', 'WILSHIRE BLVD', 'PICO BLVD', 'SAN VICENTE BLVD STE ', 'OLYMPIC BLVD STE 325', 'MEDNIK AVE', 'PICO BLVD', '6TH ST STE 101A', 'PICO BLVD', 'WILSHIRE BLVD STE 501', '6TH ST STE 101-C', '3RD ST A', 'OLYMPIC BLVD STE 103', '6TH ST C', '6TH ST UNIT 101B', 'AVALON BLVD', 'ECHO PARK AVE', '6TH ST UNIT 224', 'ALAMEDA ST STE 115', 'FIGUEROA ST STE 129', 'BOYD ST', 'WORLD WAY ', '6TH ST', 'BEVERLY BLVD STE ', 'DALY ST', 'BEVERLY BLV', 'FIGUEROA ST STE 123', '6TH ST', 'FLOWER ST', 'NATIONAL BLVD STE ', 'WESTWOOD BLVD', 'ALAMEDA ST STE 314', 'FLOWER ST', 'ROBERTSON BLVD', 'JEFFERSON BLVD ', 'WILSHIRE BLVD STE 108', '6TH ST STE 223', 'ALAMEDA ST STE 310', 'WILSHIRE BLVD', '6TH ST ', 'NATIONAL BLVD STE ', '8TH ST', 'WORLD WAY # T7J', 'WILSHIRE BLVD', 'CESAR E CHAVEZ AVE', 'MAIN ST', 'DALY ST STE 105', 'PICO BLVD', 'WORLD WAY ', 'WESTWOOD BLVD', 'HOLLYWOOD BLVD # D2-25', 'CESAR E CHAVEZ AVE', '6TH ST', 'CAHUENGA BLVD', 'WASHINGTON BLVD', 'LINCOLN BLVD', '6TH ST', 'GRAND AVE #C2', 'WILSHIRE BLVD', 'SAN PEDRO ST', 'CADILLAC AVE', 'HOOPER AVE', 'CYPRESS AVE', 'LINCOLN BLVD', 'WILSHIRE BLVD STE A11', 'VERMONT AVE', 'MELROSE AVE', 'BEVERLY BLVD STE ', 'SAN PEDRO ST', '1/2 BEVERLY BLVD', '6TH ST', 'EAGLE ROCK BLVD', '1ST ST', 'CYPRESS AVE', '3RD ST STE E-K12', 'SUNSET BLVD', 'VERMONT AVE', 'COLORADO BLVD', 'SUNSET BLVD', 'CAHUENGA BLVD', 'WASHINGTON BLVD', 'WESTERN AVE', 'SANTA MONICA BLVD', '8TH ST', 'WASHINGTON BLVD', 'WASHINGTON BLVD', 'SEPULVEDA BLVD', 'CENTRAL AVE', 'LINCOLN BLVD', '8TH ST', 'WILSHIRE BLVD', 'MEDNIK AVE', 'LINCOLN BLVD', 'CENTINELA AVE', 'FIGUEROA ST ', 'WATSEKA AVE', 'FIGUEROA ST STE 190', 'OLYMPIC BLVD', 'HIGHLAND AVE STE ', 'WILSHIRE BLVD ', 'BEVERLY BLVD', 'SUNSET BLVD', 'WILSHIRE BLVD # A 21', 'OLYMPIC BLVD STE ', 'WORLD WAY', 'SEPULVEDA BLVD', 'LARCHMONT BLVD STE ', '7TH ST', 'SEPULVEDA BLVD', 'SUNSET BLVD', '6TH ST', 'VERMONT AVE', '6TH ST # G100', 'WILSHIRE BLVD STE A-1', 'WESTERN AVE', 'MELROSE AVE', 'SUNSET BLVD', 'LINCOLN BLVD', 'SUNSET BLVD', 'VINE ST', 'VERNON AVE', 'BROADWAY', 'VERMONT AVE', 'WILSHIRE BLVD ', 'SANTA MONICA BLVD ', 'CESAR E CHAVEZ AVE', 'PICO BLVD', 'WILMINGTON AVE', 'PICO BLVD', '1ST ST', 'SUNSET BLVD STE D', 'NATIONAL BLVD', 'JEFFERSON BLVD', 'SUNSET BLVD', 'HOLLYWOOD BLVD', 'PICO BLVD', 'VERMONT AVE', 'VERMONT AVE # #B', 'VERMONT AVE', 'GRANDE VISTA AVE', 'HOLLYWOOD BLVD', 'SUNSET BLVD', 'OLYMPIC BLVD', 'VENICE BLVD', 'WILMINGTON AVE', 'LA CIENEGA BLVD', 'VERMONT AVE', 'SUNSET BLVD A', 'YORK BLVD', '1ST ST', 'VERMONT AVE', '3RD ST STE ', 'WASHINGTON BLVD STE 6', 'PICO BLVD', 'SUNSET BLVD', 'OLYMPIC BLVD', 'WESTERN AVE STE 304', 'CESAR E CHAVEZ AVE', 'CENTER DR STE 210', '6TH ST', 'OLYMPIC BLVD', 'LA CIENEGA BLVD', 'WHITTIER BLVD', 'BARRINGTON PL', 'WESTWOOD PLZ', '1ST ST', 'SAN PEDRO ST', 'WILSHIRE BLVD 2 FL', 'WESTERN AVE', 'SUNSET BLVD STE ', 'WESTERN AVE', 'CENTER DR STE 108', 'SAN VICENTE BLVD', '8TH ST UNIT A', 'SAN VICENTE BLVD', 'BRANNICK AVE', 'WESTWOOD PLZ', 'WESTERN AVE STE D', 'WESTWOOD PLZ L', 'WESTERN AVE STE 109', '8TH ST 111', 'WESTERN AVE G01', 'WESTERN AVE 103', '1ST ST', 'SUNSET BLVD STE STE.', 'LINCOLN BLVD', 'CENTRAL AVE', '9TH ST ST B LOB', 'JEFFERSON BLVD', 'WESTWOOD BLVD', 'DIVISION ST', 'SUNSET BLVD', '1/2 WASHINGTON PL', 'CENTURY BLVD', 'WESTERN AVE ', 'LINCOLN BLVD', 'MAIN ST', 'SANTA MONICA BLVD STE 104', 'SUNSET BLVD', 'GLENDALE BLVD', 'SUNSET BLVD', 'WORLD WAY A', 'SUNSET BLVD UNIT M', 'WASHINGTON BLVD', 'VENICE BLVD', 'MELROSE AVE', 'SUNSET BLVD', 'SUNSET BLVD', 'WESTERN AVE', 'VENICE BLVD # ', 'FAIRFAX AVE', 'WORLD WAY GF', '9TH ST AL23', 'FIGUEROA ST ', 'FIGUEROA ST ', 'VERMONT AVE', 'LINCOLN BLVD', 'WESTERN AVE', 'GAGE AVE', 'SANTA MONICA BLVD', 'DIVISION ST', 'MELROSE AVE', 'GRAND AVE # D 7', 'NATIONAL BLVD # C', '80TH ST', '9TH ST', 'VERMONT AVE', 'FIGUEROA ST ', '9TH ST # ', 'GRAND AVE # LP007', 'WORLD WAY A', 'SUNSET BLVD', 'EAGLE ROCK BLVD', 'GRAND AVE # # R1A', '1ST BLVD', '9TH ST ', 'OLYMPIC BLVD', 'GAGE AVE STE A', 'NATIONAL BLVD #B', 'EMERSON AVE', '8TH ST UNIT 101-3', 'AVION DR', 'COTNER AVE', 'OLIVE ST', 'OLIVE ST', 'VIRGIL AVE', 'WORLD WAY # T4K', 'OLYMPIC BLVD', 'FAIRFAX AVE', 'GLENDALE BLVD', 'WHITTIER BLVD', 'OLYMPIC BLVD', 'HOLLYWOOD BLVD # #B', 'FIGUEROA ST', '9TH ST', '8TH ST', 'WORLD WAY # GT45', 'WESTERN AVE ', 'SLAUSON AVE', '8TH ST ', '1ST ST', 'FAIRFAX AVE', '9TH ST', '1ST ST', 'SLAUSON AVE', 'VERMONT AVE STE 106', '9TH ST', 'VERMONT AVE', 'CRENSHAW BLVD', 'WESTERN AVE STE 100-A', '8TH ST', 'LARCHMONT BLVD', 'SLAUSON AVE', 'SANTA MONICA BLVD STE 9', 'CENTURY BLVD', 'MELROSE AVE', 'WESTERN AVE', 'SLAUSON AVE', 'MELROSE AVE', 'LARCHMONT BLVD', 'BEVERLY BLVD', 'VERMONT AVE', 'CRENSHAW BLVD', 'WORLD WAY J', '9TH ST # C116-', 'WILSHIRE BLVD ', 'SLAUSON AVE', '1/2 N LARCHMONT BLVD', 'WESTERN AVE ', 'CENTURY BLVD', '9TH ST', 'SUNSET BLVD', 'WERSTERN AVE', 'WHITTIER BLVD', '1ST ST', 'CENTRAL AVE', 'LELAND WAY', 'CRENSHAW BLVD', 'VENICE BLVD B', '1/2 S AVALON BLVD', 'MELROSE AVE ', 'CENTRAL AVE', '8TH ST', 'CRENSHAW BLVD', '3RD ST', 'OLYMPIC BLVD STE A', 'CENTRAL AVE', 'HOOVER ST', 'SLAUSON AVE', 'MELROSE AVE ', 'NORMANDIE AVE', 'CESAR E CHAVEZ AVE', '3RD ST STE 322', 'AVALON BLVD', 'LORENA ST', 'WESTERN AVE STE 108', '3RD ST', 'AVALON BLVD', 'NATIONAL BLVD # A', 'LA TIJERA BLVD', 'WESTERN AVE ', 'VERMONT AVE', 'VERMONT AVE', '3RD ST', 'WILMINGTON AVE', 'WILSHIRE BLVD STE ', 'WORLD WAY C', '12TH ST ', 'FIGUEROA ST', '12TH ST STE 411', '12TH ST STE 405', 'BEVERLY BLVD', 'SUNSET BLVD', 'PICO BLVD', 'BEVERLY BLVD', '12TH ST STE 403', 'OLYMPIC BLVD', '12TH ST ', 'VERMONT AVE', 'COLORADO BLVD', 'WHITTIER BLVD', 'ATLANTIC BLVD', '12TH ST ', 'VINE ST', '1/2 S CENTINELA AVE', 'OLYMPIC BLVD ', 'SANTA MONICA BLVD', 'OLYMPIC BLVD ', 'SANTA MONICA BLVD STE 1', 'FRANKLIN AVE', 'PICO BLVD', 'WESTERN AVE STE ', 'HOLLYWOOD BLVD STE C', 'BARRINGTON AVE', 'SPRING ST STE 900', 'SANTA MONICA BLVD STE 9', 'HOLLYWOOD BLVD # B', 'FIGUEROA ST', 'FIGUEROA ST', '1/2 S VERMONT AVE', 'WILSHIRE BLVD', 'NATIONAL BLVD', '7TH ST', 'CENTINELA AVE', 'LARCHMONT BLVD', '3RD ST', 'WORLD WAY', 'SANTA MONICA BLVD', '7TH ST', 'VERMONT AVE', '7TH ST', 'LARCHMONT BLVD', 'UNION PACIFIC AVE', 'WILSHIRE BLVD', '7TH ST', 'ROBERTSON BLVD', 'LARCHMONT BLVD', 'SOTO ST', 'WHITTIER BLVD', 'SAN PEDRO ST', 'LARCHMONT BLVD', 'MAIN ST', 'WILSHIRE BLVD M30', 'ROBERTSON BLVD STE 110', 'WORLD WAY TSB', 'CENTINELA AVE', 'WORLD WAY T5B', 'VERMONT AVE', 'ATLANTIC BLVD', 'SOTO ST', 'FAIRFAX AVE STE 106', 'WHITTIER BLVD', 'WHITTIER BLVD', 'HOLLYWOOD BLVD FLR 2', 'FIGUEROA ST', 'WESTERN AVE  -116', 'BEVERLY BLVD', 'HOLLYWOOD BLVD', 'HOLLYWOOD BLVD', 'VINE ST ', 'ST ANDREWS PL', 'SANTA MONICA BLVD', 'WILSHIRE BLVD STE 201', 'FIGUEROA ST', 'HOPE ST', 'MELROSE AVE STE ', 'HOLLYWOOD BLVD ', 'HYPERION AVE', '3RD ST', 'BEVERLY BLVD', 'WESTWOOD BLVD', 'CYPRESS AVE', 'RODEO RD', 'VERNON AVE', 'CENTURY PARK E', 'MARTIN LUTHER KING BLVD STE 287', 'VINE ST FL3', 'PICO BLVD', 'CAHUENGA BLVD', 'STOCKER ST', 'CYPRESS AVE', '3RD ST', 'HOOPER AVE', 'VINE ST', 'SANTA MONICA BLVD', 'SUNSET BLVD', 'MAIN ST', 'SANTA MONICA BLVD', 'MARTIN LUTHER KING BLVD STE 100', 'PICO BLVD', 'SANTA MONICA BLVD', 'OLYMPIC BLVD', 'FIGUEROA ST', 'LINCOLN BLVD UNIT #B', 'FIGUEROA ST', '3RD ST STE ', 'HUNTINGTON DR S', '12TH ST ', 'OLYMPIC BLVD', 'VINE ST STE 7', 'WESTWOOD BLVD', 'SAN PEDRO ST # N1', 'WESTWOOD BLVD', 'ADAMS BLVD', '1/2 E BEVERLY BLVD', '7TH ST  -103', 'BROADWAY', 'SANTA MONICA BLVD', 'OLYMPIC BLVD', 'PICO BLVD', 'BROADWAY', 'SAWTELLE BLVD', 'VERMONT AVE', 'GAGE AVE', 'SANTA MONICA BLVD ', 'LORENA ST', '7TH ST', 'VERMONT AVE', 'OLYMPIC BLVD', 'COLORADO BLVD', 'LA BREA AVE', '37TH ST', '2ND ST', 'SAN JULIAN ST ', 'CRYSTAL SPRINGS DR', 'OLYMPIC BLVD', 'CENTRAL AVE', 'VERNON AVE', 'COLORADO BLVD', 'SLAUSON AVE', 'OLYMPIC BLVD', 'PICO BLVD', 'ROBERTSON BLVD', 'HOOVER ST', 'OLIVE ST LL-15', 'HOPE ST STE D', 'YOSEMITE DR', 'SLAUSON AVE # #H-27', 'EXPOSITION BLVD', 'STA MON BLVD STE 192', 'CESAR E CHAVEZ AVE', 'HOPE ST', 'HILL ST # K-10', 'BEVERLY BLVD', 'BROADWAY ', 'VERNON AVE', 'SANTA MONICA BLVD ', 'WESTWOOD BLVD', 'YORK BLVD', 'MAPLE AVE # B', 'OLYMPIC BLVD E', 'OLYMPIC BLVD', 'WHITTIER BLVD', 'TOWNE AVE', '1/2 W 48TH ST', 'CROCKER ST', 'SANTA FE AVE', 'HOLLYWOOD BLVD # B', 'SOTO ST', 'FIRESTONE BLVD', 'MARTIN LUTHER KING BLVD', 'SLAUSON AVE', 'FIGUEROA ST APT 203', 'HOBART BLVD', 'MARENGO ST', 'HILL ST', 'LA BREA AVE', 'FIGUEROA ST', 'HUNTINGTON DR N', 'BROADWAY', 'VERMONT AVE', 'WILSHIRE BLVD', 'SANTA MONICA BLVD', 'JEFFERSON BLVD', 'STA MON BLVD STE FC6', 'HILL ST # S-4', 'HOLMES AVE', 'SANTA MONICA BLVD STE 100', 'SAN PEDRO ST', 'VERNON AVE', 'BROADWAY', 'TEMPLE ST', 'FIGUEROA ST', 'SANTA MONICA BLVD', 'FIGUEROA ST', '1ST ST', 'FIGUEROA ST STE 102', '1ST ST', 'SUNSET BLVD', 'CRENSHAW BLVD', '4TH ST', 'COLORADO BLVD', 'VENICE BLVD', '54TH ST', 'HILL ST # M-25', 'EASTERN AVE', 'AVALON BLVD # B', 'CESAR E CHAVEZ AVE', 'CESAR E CHAVEZ AVE', 'CESAR E CHAVEZ AVE', '1/2 N BROADWAY', 'CESAR E CHAVEZ AVE', 'OLYMPIC BLVD', 'HOLLYWOOD BLVD', 'VERMONT AVE', 'MARTIN LUTHER KING BLVD ', 'VERMONT AVE', 'SANTA MONICA BLVD', 'WESTERN AVE', 'BROADWAY # B-105', 'CULVER BLVD STE #H', 'SUNSET BLVD', 'MAPLE AVE', 'FIGUEROA ST', 'KINROSS AVE', 'MELROSE AVE', 'WILSHIRE BLVD', 'PICO BLVD STE ', 'WHITTIER BLVD', '4TH ST', 'SANTA FE AVE', 'SANTA MONICA BLVD STE 112', 'MELROSE AVE', 'LA BREA AVE', 'WESTERN AVE ', 'WASHINGTON BLVD', 'YORK BLVD', '1ST ST', 'LOS ANGELES ST', '3RD ST', 'NORMANDIE AVE', 'WEYBURN AVE', 'VERMONT AVE', 'MLK BLVD A', 'VERMONT AVE ', 'LA BREA AVE', 'SAN PEDRO ST #B', 'WESTERN AVE', 'COOLIDGE AVE', 'CESAR E CHAVEZ AVE', 'AVENUE OF THE STARS', 'PICO BLVD', 'ALVARADO ST', 'OLYMPIC BLVD', 'GLENDALE BLVD', 'WILSHIRE BLVD ', 'MAPLE AVE #B', 'NATIONAL BLVD', 'SAWTELLE BLVD', 'FIRESTONE BLVD E', 'MARTIN LUTHER KING JR BLVD', 'MAPLE AVE 17', 'CESAR E CHAVEZ AVE', 'MARTIN LUTHER KING JR BLVD ', 'BROADWAY', 'CESAR E CHAVEZ AVE', 'BARRINGTON CT', 'JEFFERSON BLVD', 'FLORENCE AVE', 'WESTERN AVE', '6TH ST STE 110', 'WEYBURN AVE', 'HOLLYWOOD BLVD', 'HOLLYWOOD BLVD', 'HOLLYWOOD BLVD', 'SUNSET BLVD', 'SUNSET BLVD', 'INDIANA ST', 'GRAND VIEW BLVD', 'CESAR E CHAVEZ AVE', 'PICO BLVD', '7TH ST', 'WESTWOOD BLVD STE ', 'WESTWOOD BLVD', 'SUNSET BLVD', '4TH ST', 'ALAMEDA ST STE 150', 'PICO BLVD', 'CENTRAL AVE', 'INDIANA ST', 'ADAMS BLVD', 'GAYLEY AVE', 'MLK BLVD B', 'FIGUEROA ST', 'BRONSON AVE', 'SOTO ST ', 'CAHUENGA BLVD', 'SUNSET BLVD', 'JEFFERSON AVE', 'BROXTON AVE', 'WESTERN AVE', 'PASADENA AVE', 'WEYBURN AVE', 'WILSHIRE BLVD STE 24', 'WILSHIRE BLVD', 'ARDMORE AVE', 'WILSHIRE BLVD STE 101', '8TH ST 103', 'OLYMPIC BLVD STE 114', 'WILSHIRE BLVD STE 102', '3RD ST # ', 'SUNSET BLVD', 'HOLLYWOOD BLVD ', 'LA BREA AVE', 'BROADWAY', 'GARDNER ST', 'WASHINGTON BLVD UNIT A', '6TH ST ', '8TH ST', 'OLYMPIC BLVD STE 205', 'FIGUEROA ST ', 'VERMONT AVE', 'YORK BLVD', 'MARENGO ST', 'CESAR E CHAVEZ AVE', 'ALPINE ST', 'VERMONT AVE', 'LA BREA AVE STE ', 'PASEO DE LA PLZ', 'SAN VICENTE BLVD', '28TH ST', 'WILSHIRE BLVD', 'MISSION RD', 'MAPLE AVE', 'HOOPER AVE', 'SUNSET BLVD', 'SPRING ST', 'ALVARADO ST', 'GAYLEY AVE', 'MELROSE AVE', 'MAIN ST', 'AVENUE OF THE STARS STE A100', 'WILSHIRE BLVD', 'CENTURY PARK E STE ', '1ST ST ', '6TH ST', '1ST ST STE 110', '1ST ST ', '5TH ST', 'HOOVER ST', 'WASHINGTON BLVD', 'CENTINELA AVE', 'PICO BLVD', '6TH ST', 'hollywood BLVD', 'OLYMPIC BLVD', 'WILSHIRE BLVD STE 123', 'JAMES M. WOOD BLVD', 'ORD ST', 'BROADWAY', 'VERNON AVE', 'WESTERN AVE', 'HILL ST', '7TH ST', '1/2 S FIGUEROA ST', 'BOYD ST STE STE-A', '1ST ST STE 3437', 'WILSHIRE BLVD ', 'TROUSDALE PKWY', 'PICO BLVD', '1ST ST ', 'WESTERN AVE', '1ST ST STE 3439', '7TH ST ', '8TH ST ', '1ST ST STE 3435', 'OLYMPIC BLVD STE ', 'PICO BLVD', 'VERMONT AVE', 'BROADWAY STE ', 'PICO BLVD', 'CRENSHAW BLVD', 'VERMONT AVE ', 'BROADWAY AVE', 'EASTERN AVE', 'CENTRAL AVE', 'BEVERLY BLVD', 'WESTERN AVE ', '3RD PL', 'ATLANTIC BLVD', 'HUNTINGTON DR', 'MAIN ST', 'ATLANTIC BLVD', 'VERMONT AVE ', 'WILSHIRE BLVD', 'SAN VICENTE BLVD ', 'VERMONT AVE', 'ATLANTIC BLVD', 'OLYMPIC BLVD', 'FIGUEROA ST', 'OLYMPIC BLVD', 'SUNSET BLVD', 'SPRING ST', 'CAHUENGA BLVD', 'WHITTIER BLVD', 'WHITTIER BLVD', 'PICO BLVD', 'LAUREL CANYON BLVD', 'PICO BLVD', 'SAN FERNANDO RD', 'PICO BLVD', 'WESTERN AVE', '6TH ST', 'WHITTIER BLVD STE 101', 'BROADWAY', '3RD ST', '3RD ST', 'WHITTIER BLVD 112', 'WILSHIRE BLVD', 'WASHINGTON BLVD', 'HOOPER AVE', 'WESTWOOD BLVD', '3RD ST', '3RD ST', 'WILSHIRE BLVD STE 150', 'SLAUSON AVE', 'WEST BLVD', 'MOTOR AVE', '6TH ST # A', 'LAS PALMAS AVE', '3RD ST', 'VENICE BLVD', 'SLAUSON AVE STE E', 'MELROSE AVE', 'WHITTIER BLVD', 'WESTERN AVE STE ', 'GAGE AVE', 'OLYMPIC BLVD', 'PICO BLVD', '34TH ST', 'CLEARWATER ST', '34TH ST', 'HILL ST', 'WILSHIRE BLVD', 'WESTERN AVE', 'FLORENCE AVE', 'SANTA MONICA BLVD', 'FIGUEROA ST', '8TH ST', '9TH ST', '7TH ST', 'ALLISON AVE', 'WESTERN AVE UNIT 118', 'FLORENCE AVE ', 'WILSHIRE BLVD BSMT #BSMT', 'FIGUEROA ST STE 101', 'SPRING ST APT B', 'CENTRAL AVE', 'FIGUEROA ST', 'SPRING ST UNIT UNIT', '8TH ST', 'WESTERN AVE', 'WESTERN AVE ', '12TH ST', 'VINE ST', 'BEVERLY BLVD', 'JEFFERSON BLVD', 'WESTWOOD BLVD', 'JEFFERSON BLVD # ', 'SAWTELLE BLVD', 'WESTERN AVE', 'LORENA ST', 'PICO BLVD', 'SAWTELLE BLVD', '1/2 W 3RD ST', 'HILL ST', 'JEFFERSON BLVD ', 'LA BREA AVE', 'WHITTIER BLVD', '3RD ST', 'SPRING ST STE 130', '3RD ST', 'VENICE BLVD', 'SUNSET BLVD', 'CESAR E CHAVEZ AVE', 'CESAR CHAVEZ AVE', 'BROADWAY', 'CRENSHAW BLVD', 'MARTEL AVE', 'PICO BLVD', '3RD ST', 'OLYMPIC BLVD', 'PASEO RANCHO CASTILLA', 'GRAND AVE', 'ATLANTIC BLVD', '3RD ST STE ', 'COCHRAN AVE', 'WESTERN AVE', 'YORK BLVD', 'SAWTELLE BLVD', 'YORK BLVD', 'SOTO ST', 'ADAMS BLVD', 'YORK BLVD', '3RD ST 542', 'WHITTIER BLVD', 'CESAR E CHAVEZ AVE', 'ADAMS BLVD', 'STATE ST E115', 'BEVERLY BLVD', 'ALAMEDA ST STE 115', 'MAPLE AVE # STE12', 'WILSHIRE BLVD ', 'CENTINELA AVE', 'WORLD WAY', 'HILL ST', 'VERNON AVE', 'JEFFERSON BLVD ', 'CRENSHAW BLVD', 'WHITTIER BLVD', 'FIGUEROA ST', 'WILSHIRE BLVD', 'BROADWAY', '1ST ST', '5TH ST', 'WILSHIRE BLVD STE #A', 'CENTURY PARK E STE 110', 'MAIN ST ', 'COLORADO BLVD', 'SEPULVEDA BLVD', 'COLORADO BLVD', 'ATLANTIC BLVD #A', 'YORK BLVD', '7TH ST', 'PICO BLVD STE B', 'BROADWAY', 'WASHINGTON BLVD', 'ALAMEDA ST STE 100-E', 'HOLLYWOOD BLVD', '7TH ST', 'LARCHMONT BLVD', '8TH ST', 'WILSHIRE BLVD STE 100', '6TH ST', 'WHITTIER BLVD', '3RD ST', 'SAN PEDRO ST STE #F', 'WESTERN AVE ', 'BROADWAY AVE', 'HUNTINGTON DR N', '7TH ST', 'PICO BLVD', 'WESTERN AVE UNIT 104', 'WILSHIRE BLVD ', 'PICO BLVD', 'WASHINGTON BLVD', 'HOLLYWOOD BLVD STE ', '6TH ST', 'SLAUSON AVE', '1ST ST', '6TH ST', 'PICO BLVD', '3RD ST STE #C', 'LAS PALMAS AVE', 'FAIRFAX AVE', 'HOLLYWOOD BLVD', 'CAHUENGA BLVD', 'HOLLYWOOD BLVD', 'WESTWOOD BLVD', 'SUNSET BLVD', 'PICO BLVD # ', '8TH ST UNIT 101-3', '7TH ST', '8TH ST', 'SEWARD ST', '4TH ST', '4TH ST', 'HIGHLAND AVE', 'LINCOLN BLVD', 'WHITTIER BLVD', 'OLYMPIC BLVD STE ', 'NORMANDIE AVE', 'CENTER DR STE 216', 'INDIANA ST', 'WESTWOOD BLVD STE 103', 'MAIN ST', 'MATEO ST', '7TH ST', '1/2 WESTWOOD BLVD', 'GOWER ST', 'FIGUEROA ST', 'PICO BLVD', 'PICO BLVD', 'SOTO ST', '9TH PL', 'THE GROVE DR STE H-10', '7TH ST STE #A', 'OLYMPIC BLVD STE 127', 'HUNTINGTON DR S STE ', 'HUNTINGTON DR N', '7TH ST #C', 'HILL ST ', 'SPRING ST', 'OLYMPIC BLVD', 'WHITTIER BLVD', 'CYPRESS AVE', 'CAHUENGA BLVD', '1ST ST', 'FIGUEROA ST', 'pico BLVD', 'BEVERLY BLVD', 'WESTERN AVE STE B', 'LAS PALMAS AVE', 'HOLLYWOOD BLVD ', 'LA BREA AVE', 'SAWTELLE BLVD', 'OLYMPIC BLVD', 'BEVERLY BLVD', 'OLYMPIC BLVD # P226', 'WESTWOOD BLVD', 'OLYMPIC BLVD #D', 'STANLEY AVE', 'PICO BLVD', 'CAHUENGA BLVD', 'YORK BLVD', '8TH ST', 'PASADENA AVE', 'PICO BLVD', 'VINE ST', 'YORK BLVD', 'YORK BLVD', 'EAGLE ROCK BLVD STE ', 'BROADWAY', 'VERMONT AVE', 'SAWTELLE BLVD', 'BROADWAY', 'OLYMPIC BLVD', 'CAHUENGA BLVD', '6TH ST', '8TH ST', 'BROADWAY', '4TH ST', 'SUNSET BLVD', 'BROADWAY', '9TH ST', 'HUNTINGTON DR S', 'VENICE BLVD', 'WILSHIRE BLVD STE B-1', 'VENICE BLVD', 'OLYMPIC BLVD', 'UNION AVE', 'WHITTIER BLVD', 'BEVERLY BLVD', 'WESTWOOD BLVD', '8TH ST STE 109', 'TEMPLE ST', '4TH ST', 'PICO BLVD', 'GRAND AVE', 'SUNSET BLVD', 'PICO BLVD', 'GRAND AVE', 'WILSHIRE BLVD', 'SLAUSON AVE # I31', 'WILSHIRE BLVD 105', 'WILSHIRE BLVD', 'HOLLYWOOD BLVD', 'SLAUSON AVE # L32', 'FLOWER ST', 'GLENDALE BLVD', 'CONSTELLATION BLVD ', 'FLORAL DR', 'WILSHIRE BLVD STE 106', 'HOLLYWOOD BLVD -0', '1/2 VENICE BLVD', 'HOLLYWOOD BLVD', 'SLAUSON AVE # A-18', 'WESTERN AVE', '8TH ST', 'BRANNICK AVE', 'GRAND AVE', 'VERMONT AVE STE ', 'HOPE ST LM100', 'SAN PEDRO ST', '6TH ST', 'VERMONT AVE', 'SPRING ST #F3', 'FLOWER ST', 'VERMONT AVE', 'MAIN ST', 'EAGLE ROCK BLVD', 'VERMONT AVE', 'BARRINGTON AVE', 'EAGLE ROCK BLVD', '5TH ST', 'MAIN ST', 'EASTERN AVE', 'VENICE BLVD', '6TH ST', '7TH ST', 'EAGLE ROCK BLVD', 'SANTA MONICA BLVD STE 104', '7TH ST', 'ALVARADO ST', 'VERMONT AVE ', '7TH ST', 'OLYMPIC BLVD', 'COLORADO BLVD', '6TH ST', 'JAMES M. WOOD BLVD', 'SAWTELLE BLVD', 'AVENUE 50', 'VENICE BLVD', 'FIGUEROA ST', 'WORLD WAY # T231', '120TH ST', 'LA TIJERA BLVD', 'WILSHIRE BLVD STE 100C3', 'MANCHESTER AVE', 'PICO BLVD', 'SPRING ST', '8TH AVE', 'BROADWAY', 'SPRING ST ', 'AVENUE 59', 'SPRING ST STE', 'CESAR E CHAVEZ AVE', '3RD ST', 'FLOWER ST -B', 'CENTRAL AVE', 'SPRING ST STE ', 'HOLLYWOOD BLVD', '3RD ST STE 330', 'VERDUGO RD', 'EVERGREEN AVE', 'BROADWAY', 'SUNSET BLVD', 'YORK BLVD', 'AVE OF STARS # QSR30', '5TH ST', 'ARDMORE AVE', 'PICO BLVD STE 304', 'FIGUEROA ST', 'HYPERION AVE', 'AVENUE 28', 'BROADWAY', 'PICO BLVD', 'FLORENCE AVE', 'BROXTON AVE', 'OLYMPIC BLVD STE 105', 'WESTERN AVE STE 107', 'FLORENCE AVE', 'HOLLYWOOD BLVD ', 'CRENSHAW BLVD', 'CENTER DR STE 215', 'CENTER DR STE 213', 'PICO BLVD STE A', '9TH ST', 'HILL ST', 'PICO BLVD', 'WHITTIER BLVD', 'SUNSET BLVD STE #C', '1ST ST', 'OLYMPIC BLVD STE 550', '2ND ST', '3RD ST ', 'WORLD WAY # T2', 'SEPULVEDA BLVD', 'THE GROVE DRIVE # K2', 'ECHO PARK AVE', 'PICO BLVD', 'ALAMEDA ST STE 100', 'WILSHIRE BLVD STE 140', '8TH ST', 'WORLD WAY # T281', 'OLYMPIC BLVD STE 210', 'WHITTIER BLVD', 'YORK BLVD', 'CENTRAL AVE', 'VERMONT AVE STE 18', '1ST ST ', 'FIGUEROA ST', 'LINCOLN BLVD', 'WESTERN AVE # ', 'STANFORD AVE STE 101', 'WORLD WAY', 'SUNSET BLVD', '8TH ST', 'ADAMS BLVD', 'LA CIENEGA BLVD', 'VINE ST', 'FIGUEROA ST', 'MONTEREY RD', 'JEFFERSON AVE', 'FIGUEROA ST', 'WORLD WAY', 'WESTERN AVE', 'FIGUEROA ST', '9TH ST', 'SAWTELLE BLVD', 'CENTURY BLVD', 'SANTA MONICA BLVD', 'LINCOLN BLVD', '1/2 MELROSE AVE', '6TH ST C', '12TH ST', 'HOLLYWOOD BLVD', 'HOOVER ST', 'LA CIENEGA BLVD # E-3', 'WESTERN AVE', 'ALVARADO ST # A', 'WHITTIER BLVD', 'VERMONT AVE', 'COMPTON AVE', 'NADEAU ST', 'SANTA MONICA BLVD ', 'ALVARADO ST', 'SUNSET BLVD # D & E', 'FIRESTONE BLVD', 'PICO BLVD', '4TH ST', '1/2 W BEVERLY BLVD', 'LA BREA AVE', 'WILSHIRE BLVD STE 110', 'OLYMPIC BLVD', '4TH ST', 'HEREFORD DR', 'FIGUEROA ST', 'OLYMPIC BLVD', 'OLYMPIC BLVD', 'LOS ANGELES ST STE #D', '3RD ST', 'SPRING ST # L', '9TH ST', '7TH ST', 'HILL ST STE 119', 'WESTWOOD BLVD', 'ALAMEDA ST # #E112', 'VERMONT AVE STE 103', 'VINE ST # A', 'CAHUENGA BLVD', 'COLORADO BLVD # A', '1/2 W PICO BLVD', 'FIGUEROA ST', 'SANTA MONICA BLVD', 'GAYLEY AVE', 'COLORADO BLVD', 'BEVERLY BLVD STE #D', 'HOLLYWOOD BLVD', 'BEVERLY BLVD', 'SANTA MONICA BLVD STE 201', 'WESTWOOD BLVD', 'WHITTIER BLVD', 'WILCOX AVE', 'SUNSET BLVD', 'VERNON AVE', 'GRAND AVE ', 'GRAND AVE STE 100', 'BROADWAY', 'WILSHIRE BLVD', 'FIGUEROA ST', 'MELROSE AVE', 'WESTWOOD BLVD', 'VERMONT AVE', 'WESTERN AVE', 'BROADWAY ', 'FIGUEROA ST STE 100', 'FIGUEROA ST', 'WALL ST STE ', 'SPRING ST', 'BEVERLY BLVD STE K604', 'CENTER DR STE 109', 'WEYBURN AVE', 'BEVERLY BLVD ', '6TH ST STE 2-A', 'ROWENA AVE', 'GRAND AVE /33', 'CRENSHAW BLVD', 'GLENDALE BLVD', 'LA BREA AVE', 'FIGUEROA ST STE 401B', 'SUNSET BLVD', 'GRAND AVE', 'SUNSET BLVD', 'GRAND AVE', 'SUNSET BLVD', 'HUNTINGTON DR N', 'SAN FERNANDO RD', 'PICO BLVD', 'WILSHIRE BLVD ', 'FIGUEROA ST ', 'CESAR E CHAVEZ AVE', 'CESAR E CHAVEZ AVE', 'CESAR E CHAVEZ AVE', 'ALVARADO ST', 'WHITTIER BLVD', 'CESAR E CHAVEZ AVE', '6TH ST ', 'TEMPLE ST', '7TH ST', 'COLORADO BLVD', 'HOOPER AVE', 'FLOWER ST 51ST', 'EASTERN AVE', 'FIGUEROA ST', 'WESTWOOD BLVD', 'PICO BLVD STE 102', 'FLOWER ST STE B33', '62ND ST', 'MARTIN LUTHER KING BLVD', 'WESTWOOD BLVD', 'HOOVER ST', 'CENTER DR ', 'MELROSE AVE', 'FLOWER ST ', 'OLYMPIC BLVD', 'FLOWER ST STE ', 'ALVARADO ST', 'HOPE ST', 'VENICE BLVD', '1ST ST ', 'SPRING ST', 'COLORADO BLVD', '87TH ST', 'HOPE ST STE 125-C', 'HOLLYWOOD BLVD', 'HOLLYWOOD BLVD MEZZ', 'HOLLYWOOD BLVD', 'CENTRAL AVE', 'WASHINGTON BLVD', 'HOEFNER AVE', 'HOLLYWOOD BLVD', 'GLENDON AVE', 'BEVERLY BLVD', 'SPRING ST # E6', 'HOLLYWOOD BLVD', '1ST ST', 'WILSHIRE BLVD', 'HOLLYWOOD BLVD', 'CORNWELL ST', 'SUNSET BLVD', 'WILSHIRE BLVD ', 'BROADWAY PL # ', 'CESAR E CHAVEZ AVE', 'WILSHIRE BLVD ', 'MAIN ST', 'BROADWAY STE 114', 'SUNSET BLVD', 'BROXTON AVE', 'JARVIS AVE', '3RD ST', 'WESTWOOD BLVD', 'SAN VICENTE BLVD STE 114', 'WESTERN AVE ', 'SAN VICENTE BLVD', 'WESTWOOD BLVD', 'BARHAM BLVD ', 'WESTERN AVE ', 'PICO BLVD', 'MAPLE AVE', 'BARRINGTON CT', 'PICO BLVD', '12TH ST ', 'LA CIENEGA BLVD', 'BARRINGTON CT', 'COLORADO BLVD', '11TH ST', 'CENTURY PARK E STE 108', 'WESTERN AVE', 'ATLANTIC BLVD', 'SANTA MONICA BLVD', 'BARRINGTON AVE', 'PICO BLVD', 'SANTA MONICA BLVD', 'SAN PEDRO ST', 'WEYBURN AVE', 'VERMONT AVE C', 'WASHINGTON BLVD', 'FIGUEROA ST STE 418A', 'WASHINGTON BLVD', '8TH ST # #   A', 'SAN PEDRO ST # N4', 'LA BREA AVE', 'SUNSET BLVD', 'WHITTIER BLVD', '2ND ST', 'INDUSTRIAL ST # ', 'COLORADO BLVD ', 'JAMES M WOOD BLVD', 'BROADWAY', 'WASHINGTON BLVD', 'COLORADO BLVD # #B', 'MAPLE ST ', 'LA BREA AVE', 'NATIONAL BLVD', 'SLAUSON AVE', 'SAN PEDRO ST', 'SAN PEDRO ST', 'WILSHIRE BLVD STE 190', 'BEVERLY BLVD', 'WILSHIRE BLVD STE A', 'WESTWOOD BLVD', 'PICO BLVD', 'WASHINGTON BLVD STE I', 'BROADWAY', 'WESTERN AVE ', 'HILL ST', 'FIRESTONE BLVD', 'PICO BLVD', 'WASHINGTON BLVD #G', 'OLYMPIC BLVD', 'LOS FELIZ BLVD', '7TH ST UNIT 101', '7TH ST ', '2ND ST APT ', 'FLORENCE AVE', '3RD ST', 'MELROSE AVE', 'VENICE BLVD', 'BEVERLY BLVD', 'HUNTINGTON DR', 'WASHINGTON BLVD', 'WILSHIRE BLVD STE B02', 'WHITTIER BLVD', 'STA MON BLVD STE FC4', 'WESTERN AVE STE ', 'FIGUEROA ST', 'ATLANTIC BLVD', 'HOLLYWOOD BLVD', 'MOTOR AVE', '6TH ST', 'SUNSET BLVD', 'CENTER DR STE ', 'ALBANY ST', 'SAN VICENTE BLVD STE 107', 'FIGUEROA ST', '5TH ST', '1/2 S WESTERN AVE', 'WILSHIRE BLVD', 'OSAGE AVE', 'HILL ST STE A', 'WILSHIRE BLVD # I', 'WILSHIRE BLVD # ', 'SANTA MONICA BLVD', 'PICO BLVD', 'WILSHIRE BLVD STE #E', 'SAN VICENTE BLVD STE 101', 'LA BREA AVE', 'SUNSET BLVD', 'PICO BLVD STE 380', 'FLOWER ST', 'FLOWER ST', 'CENTURY BLVD STE 122', 'MELROSE AVE', 'FAIRFAX AVE # B', 'FLOWER ST', 'CENTURY DR', 'WILSHIRE BLVD', 'LARCHMONT AVE', 'FLOWER ST', 'FLOWER ST', 'CESAR E CHAVEZ AVE', 'SANTA MONICA BLVD STE 1260', 'CESAR E CHAVEZ AVE', 'FLOWER ST # B13', '1/2 E 1ST ST', 'WESTERN AVE', 'WESTERN AVE ', 'CENTRAL AVE', 'WESTERN AVE', 'WILSHIRE BLVD ', 'LA BREA AVE', 'SAN VICENTE BLVD STE ', 'HUNTINGTON DR S', 'COLORADO BLVD', 'OLYMPIC BLVD', 'WESTERN AVE', 'MELROSE AVE', 'KINROSS AVE', 'JEFFERSON BLVD', 'CENTURY PARK E STE ROL14', 'SUNSET BLVD', 'MAPLE AVE STE 1&2', 'PICO BLVD', 'PALMS BLVD', 'ROSECRANS AVE', 'WHITTIER BLVD ', 'VERMONT AVE #D', 'PICO BLVD', 'WESTWOOD BLVD', 'PICO BLVD', '1/2 N BEVERLY GLEN CIR', 'RODEO RD', 'SLAUSON AVE', 'VENICE BLVD', 'BEVERLY GLEN CIR', 'FOREST AVE', 'VENICE BLVD', 'VENICE BLVD', 'GAGE AVE', 'SUNSET BLVD', '3RD ST', 'SAWTELLE BLVD', 'CRENSHAW BLVD', 'GRAND AVE STE C5', 'MELROSE AVE', 'SANTA MONICA BLVD', 'WILSHIRE BLVD', '3RD ST', 'WILSHIRE BLVD STE 109', 'LA BREA AVE', '1/2 RUSSELL AVE', 'ADAMS BLVD', 'FIGUEROA ST STE A', 'WESTWOOD BLVD', 'NORMANDIE AVE', 'LA CIENEGA BLVD', 'SAN VICENTE BLVD STE 106', 'SPRING ST', 'SANTA MONICA BLVD', 'JEFFERSON BLVD', 'FIGUEROA ST', 'SUNSET BLVD', 'LARCHMONT BLVD', 'WHITTIER BLVD', 'ECHO PARK AVE ', 'SUNSET BLVD', 'IMPERIAL HWY', 'LARCHMONT BLVD', 'CRENSHAW BLVD', 'VINE ST', '4TH ST', 'BROADWAY STE 136', 'MAIN ST', 'BEVERLY BLVD STE K', 'SAN FERNANDO RD', 'SANTA FE AVE', 'MLK BLVD ', 'SAWTELLE BLVD', 'SANTA MONICA BLVD # FC-10', 'FIGUEROA ST', 'COLORADO BLVD 9002', 'BEVERLY BLVD', 'VENICE BLVD', 'MARTIN LUTHER KING JR. BLVD', 'HOLLYWOOD BLVD', 'PICO BLVD STE B', 'WESTWOOD BLVD', 'WILCOX AVE', 'SILVERLAKE BLVD', 'GAYLEY AVE', 'MAIN ST', 'WHITTIER BLVD', 'WESTERN AVE', 'FIGUEROA ST', 'ROSCOMARE RD', 'WESTERN AVE', 'FIGUEROA ST', 'WILSHIRE BLVD', 'WESTWOOD BLVD', 'LA CIENEGA BLVD', 'BROADWAY WAY', 'WILSHIRE BLVD # B5', '6TH ST ', 'WESTERN AVE ', 'VENICE BLVD', 'WESTERN AVE', 'CROCKER ST # C-21', 'WILSHIRE BLVD', 'WESTERN AVE', 'FIGUEROA ST', 'PICO BLVD', 'JEFFERSON BLVD', 'WORLD WAY', 'SUNSET BLVD', 'MONTE VISTA ST', 'CRENSHAW BLVD # #C', 'MLK BLVD STE ', 'JEFFERSON BLVD', 'PICO BLVD', 'WORLD WAY', 'PICO BLVD', 'CORINTH AVE', 'SUNSET BLVD', 'WORLD WAY', 'SLAUSON AVE', 'GRIFFITH PARK BLVD', 'ALVARADO ST #A', 'SLAUSON AVE', 'MARTIN LUTHER KING JR BLVD', 'WORLD WAY', 'LINCOLN BLVD ', 'POMONA BLVD STE 103', 'WESTERN AVE', 'PICO BLVD', '1ST ST', '6TH ST', 'HOLLYWOOD BLVD', '1/2 PICO BLVD', 'FIGUEROA ST #D', 'WESTERN AVE', 'MARTIN LUTHER KING BLVD ', 'AVE OF STARS STE ', 'SEPULVEDA BLVD', 'SEPULVEDA BLVD', 'PICO BLVD', 'WESTWOOD BLVD', 'ROBERTSON BLVD', 'VERMONT AVE', 'STATE DR', '9TH ST ', 'HOLLYWOOD BLVD', 'MAIN ST', '8TH ST ', 'GRIFFITH PARK BLVD', 'HIGHLAND AVE', 'BROADWAY PL', 'SPRING ST ', 'GAGE AVE', 'CRENSHAW BLVD', 'BROXTON AVE', 'MISSISSIPPI AVE', 'LINCOLN BLVD', 'WESTWOOD BLVD', 'WASHINGTON BLVD', 'FLORENCE AVE', 'RODEO RD', 'HOOVER ST #B2', 'WESTWOOD BLVD', 'ALPINE ST', 'ALAMESA ST', 'JEFFERSON BLVD', 'BROADWAY', 'MARTIN LUTHER KING JR BLVD STE 132', 'SUNSET BLVD', 'SUNSET BLVD', 'CENTRAL AVE', 'WILSHIRE BLVD STE M-6', 'BROADWAY', 'MARTIN LUTHER KING BLVD ', 'LOS ANGELES # ', '1ST ST STE 3423', 'LOS ANGELES ST STE #C', 'ADAMS BLVD', 'SANTA MONICA BLVD', '6TH ST ', '1ST ST ', '6TH ST ', '1ST ST STE 3427', 'WASHINGTON BLVD', 'SAN VICENTE BLVD STE 202', 'SAN VICENTE BLVD', 'SAN VICENTE BLVD', 'SEPULVEDA BLVD', 'CENTURY PARK E STE G', 'BROADWAY', 'HOPE ST', 'HOPE ST', 'HOPE ST #C', 'SANTA FE AVE STE ', 'SUNSET BLVD', 'PICO BLVD', '9TH ST STE B-203', 'HOPE ST', 'WESTERN AVE', 'BARRINGTON AVE ', 'HOLLYWOOD BLVD', 'LOS ANGELES ST', 'FIGUEROA ST', 'LOS ANGELES ST STE ', 'BROADWAY', 'SAN VICENTE BLVD', 'GRAND AVENUE LOW PLAZA 35', 'FIGUEROA ST STE 169', '5TH ST', 'LOS ANGELES ST STE F', 'SPRING ST', 'CENTRAL AVE', 'PICO BLVD ', 'NORMANDIE AVE', 'HOPE ST # ', 'LA BREA AVE', '7TH ST', '6TH ST', 'DEGNAN BLVD STE 103', '5TH ST STE 102', '6TH ST BC', 'CENTRAL AVE STE 110', 'PICO BLVD', 'WESTWOOD BLVD', 'WILSHIRE BLVD STE 160', 'HOPE ST # B', 'HOLLYWOOD BLVD', 'SUNSET BLVD', 'PICO BLVD', 'OLYMPIC BLVD', 'SAN JULIAN ST', 'ROBERTSON BLVD', 'VERMONT AVE STE 111', 'HUNTINGTON DR', 'PICO BLVD', 'PICO BLVD', 'PICO BLVD', 'CENTRAL AVE', 'SUNSET BLVD', 'CHURCH LN', 'PASEO DE LA PLAZA ST', 'PICO BLVD', 'YORK BLVD', 'VERMONT AVE', 'BARRINGTON PL', 'GRIFFITH PARK BLVD', 'PICO BLVD', 'SPRING ST', 'IMPERIAL HWY', 'WORLD WAY # T7', 'WORLD WAY', '1/2 N FAIRFAX AVE', 'LINDBROOK DR', 'WHITTIER BLVD', 'EASTERN AVE', '8TH ST', 'KERN AVE', 'EASTERN AVE', 'SPRING ST', 'HILL ST', 'CRENSHAW BLVD', 'BEVERLY BLVD', '2ND ST  -106', '6TH ST STE ', 'VENICE BLVD', 'EASTERN AVE', 'SUNSET BLVD # B', 'WALL ST STE', 'OLYMPIC BLVD', 'SAN PEDRO ST', 'FLOWER ST FL', 'PICO BLVD', 'ALAMEDA ST', 'BROADWAY', 'CESAR E CHAVEZ AVE', 'VENICE BLVD', 'OVERLAND AVE', 'HILL ST', 'BROADWAY', 'PICO BLVD', 'WESTERN AVE', 'MILLENIUM DR # P101', 'LEIMERT BLVD', 'BEVERLY BLVD', 'WILSHIRE BLVD STE F100', 'ALAMEDA ST ', '3RD ST STE 122', 'HILL ST', 'OLYMPIC BLVD', 'PICO BLVD STE 5', 'WASHINGTON BLVD', 'FIGUEROA ST', 'WALL ST ', 'SEPULVEDA BLVD', 'SANTA MONICA BLVD', 'WALL ST STE ', 'WESTERN AVE A & C', 'LORENA ST', '1/2 W 6TH ST', 'BROADWAY', '3RD ST', '3RD ST', 'SANTA MONICA BLVD', 'WESTWOOD BLVD', '3RD ST', 'PICO BLVD', 'BROADWAY', 'PICO BLVD ', 'NATIONAL BLVD', 'MAPLE AVE ', '12TH ST STE ', 'PICO BLVD', 'GLENDALE BLVD', 'WESTERN AVE STE 112', 'MAPLE AVE', 'LOS ANGELES ST LBBY LOBBY', 'SOTO ST', 'INDUSTRIAL ST STE 104', 'ZONAL AVE', 'LOS ANGELES ST', 'WASHINGTON BLVD', 'MELROSE AVE', 'SAN PEDRO ST', 'PICO BLVD', 'FLORENCE AVE', 'VALLEY BLVD', 'FIGUEROA ST', 'WORLD WAY T55', 'WORLD WAY T51', 'HOLLYWOOD BLVD', 'WORLD WAY T61', 'STATE UNIVERSITY DR', 'WILSHIRE BLVD STE 186', 'MEDNIK AVE', 'OLYMPIC BLVD # D', 'LA BREA AVE', 'NADEAU ST', 'ALAMEDA ST STE 104', 'SUNSET BLVD', 'LA BREA AVE', 'WESTWOOD BLVD', 'MELROSE AVE', '4TH ST', 'WILSHIRE BLVD STE 102', 'WILSHIRE BLVD', 'SANTA MONICA BLVD FC 15', 'FIGUEROA ST STE #B', 'BEVERLY BLVD', 'FLOWER ST STE 167', 'ALVARADO AVE # B-1', 'FIGUEROA ST', 'WESTWOOD BLVD', 'NADEAU ST', 'WESTERN ST ', 'GLENDALE BLVD', 'BEVERLY BLVD', 'LA BREA AVE', 'GLENDALE BLVD STE #G', '3RD ST', 'OLYMPIC BLVD', 'HOLLYWOOD BLVD', '6TH ST', 'PICO BLVD', 'CAHUENGA BLVD', 'HOLLYWOOD BLVD ', 'BEVERLY BLVD', 'OLYMPIC BLVD', 'MELROSE AVE', 'LE CONTE AVE', 'SUNSET BLVD', 'MELROSE AVE', 'BARRINGTON AVE', '6TH ST STE 116A', 'SANTA MONICA BLVD', 'MARENGO ST', 'PALMS BLVD', 'FIGUEROA ST', 'WEST BLVD', '6TH ST', 'HOLLYWOOD BLVD # D4-41', 'RODEO RD', 'BROXTON AVE', 'ARGYLE AVE', 'SEPULVEDA BLVD 1FL', 'SPRING ST', 'PICO BLVD', 'SAWTELLE BLVD ', 'SANTEE ST', 'GLENDALE BLVD', 'OLYMPIC BLVD', 'AVALON BLVD', 'WESTERN AVE', 'ARDMORE AVE STE ', 'BEVERLY BLVD', 'BEVERLY BLVD', 'WORLD WAY', 'BROADWAY', 'MISSISSIPPI AVE', 'WORLD WAY', 'OLYMPIC BLVD', 'SAN VICENTE BLVD STE 100', 'GRAND AVE STE C-4', 'SEPULVEDA BLVD', 'BEVERLY BLVD', 'IVAR AVE STE B', 'GRAND AVE STE C-8', 'SAN FERNANDO RD', 'SUNSET BLVD', 'EAGLE ROCK BLVD', 'SAWTELLE BLVD', 'WESTWOOD BLVD STE #A', 'LINDBROOK DR', 'VENICE BLVD', 'SAN PEDRO ST # #A', 'MELROSE AVE', 'CAHUENGA BLVD', 'BROADWAY', 'VENICE BLVD', 'OLYMPC BLVD 2FL', 'CAHUENGA BLVD', 'VERMONT AVE', 'POMONA BLVD STE 103', 'SUNSET BLVD STE #M', 'MISSION RD', 'SUNSET BLVD', 'LA BREA AVE', 'OLYMPIC BLVD ', 'WESTERN AVE', 'HOLLYWOOD BLVD', 'TROUSDALE PKWY', '1ST ST', 'EXPOSITION BLVD', 'HUNTINGTON DR S ', 'FIGUEROA ST', 'ECHO PARK AVE', 'SPRING ST', 'GRAND AVE', 'FIGUEROA ST', 'EXPOSITION BLVD', 'GRAND AVE FL 2', '9TH ST', 'YORK BLVD', 'WESTERN AVE', '5TH ST', 'CENTRAL AVE', 'LE CONTE AVE', 'HOLLYWOOD BLVD', '7TH ST', 'LOS ANGELES ST', 'WILSHIRE BLVD', 'SPRING ST', 'WILSHIRE BLVD', 'FAIRFAX AVE ', 'GRAND AVE', 'SAN FERNANDO RD', 'FLORENCE AVE', 'ATLANTIC BLVD', 'SUNSET BLVD', 'VENICE BLVD', '1/2 S UNION AVE', 'HOPE ST STE C', 'WILSHIRE BLVD', '1/2 W 7TH ST', '7TH ST', 'ATLANTIC BLVD', 'CENTURY PARK E STE A', 'EASTERN AVE', 'WHITTIER BLVD', 'OVERLAND AVE STE ', 'FIGUEROA ST', 'AVALON BLVD UNIT E', 'LA BREA AVE', '3RD ST', '6TH ST', 'WESTERN AVE', 'SUNSET BLVD', 'GAYLEY AVE', 'GAYLEY AVE', 'HILL ST', 'SAN PEDRO ST', 'WESTWOOD BLVD', '6TH ST', 'SANTA MONICA BLVD STE C', 'VINE ST', 'SPRING ST', 'COMPTON AVE', 'SUNSET BLVD', 'WESTMORELAND AVE FLR 2', '3RD ST', 'WILSHIRE BLVD ', 'COMPTON AVE', 'FIGUEROA ST STE 100', '5TH ST FL', 'BROADWAY', 'ROBERTSON BLVD', 'BEVERLY GLEN CIR', 'BROADWAY', 'SAN VICENTE BLVD', 'WESTWOOD BLVD', 'SAN PEDRO ST', 'FIGUEROA ST STE ', 'WESTWOOD BLVD', 'SPRING ST STE 127', 'BROADWAY ', 'CRENSHAW BLVD STE ', 'CAHUENGA BLVD', 'MELROSE AVE', 'WILSHIRE BLVD STE 110', 'HOBART BLVD STE ', 'SPRING ST', '5TH ST STE 70F', 'WILSHIRE BLVD STE 26', 'BROADWAY WAY # E-12', 'WILSHIRE BLVD STE ', 'PICO BLVD', 'FIGUEROA ST STE ', '7TH ST', 'MELROSE AVE', 'SUNSET BLVD', 'WILSHIRE BLVD # B', 'WESTERN AVE STE 11', 'HILLHURST AVE', 'VERMONT AVE', 'LE CONTE AVE', 'WESTERN AVE ', 'WILSHIRE BLVD STE 102', 'WILSHIRE BLVD B', 'FOUNTAIN PARK DR STE C', 'BUNDY DR', 'LA CIENEGA BLVD', 'OLYMPIC BLVD', 'WESTERN AVE', 'WESTERN AVE', 'WILSHIRE BLVD ', 'CESAR E CHAVEZ AVE', 'WILSHIRE BLVD', 'SAWTELLE BLVD', 'CENTRAL AVE', 'YORK BLVD', 'VERMONT AVE', '1ST ST', 'HILL ST K10', 'WILEY POST AVE', 'SANTEE ST', 'WILSHIRE BLVD STE ', 'VINE ST ', 'WHITTIER BLVD', 'CESAR E CHAVEZ AVE STE #B', 'PICO BLVD', 'COLORADO BLVD', 'WILSHIRE BLVD', 'VERMONT AVE', 'NEBRASKA AVE', 'SANTA MONICA BLVD', 'MANCHESTER AVE', '6TH ST ', 'LA BREA AVE', 'PICO BLVD', '1/2 S WESTERN AVE', 'VERNON AVE', 'MANZANITA ST', 'GAYLEY AVE', 'HELIOTROPE DR', '6TH ST ', 'SUNSET BLVD', 'WILCOX AVE', 'SUNSET BLVD STE D', 'SUNSET BLVD', 'WHITTIER BLVD', 'CENTURY PARK E # DLC11', 'MARTIN LUTHER KING JR BLVD', 'SANTA MONICA BLVD', 'UNION AVE', 'HOOVER ST', '1/2 LA CIENEGA BLVD', 'SAN VICENTE BLVD', 'BARRINGTON AVE', 'PICO BLVD', 'WHITTIER BLVD', 'SOTO ST STE #C', 'CRENSHAW BLVD', 'BEVERLY BLVD', 'ADAMS BLVD', 'WEYBURN AVE', 'AVALON BLVD', 'OLYMPIC BLVD STE 317', 'CRENSHAW BLVD', 'HOOVER ST', 'CENTRAL AVE', 'SUNSET BLVD', 'OLYMPIC BLVD STE 125', 'PICO BLVD', 'WILSHIRE BLVD ', 'WILSHIRE BLVD ', 'SAN FERNANDO RD', 'WESTWOOD PLZ', 'PICO BLVD', 'HILL ST STE #A', 'ALAMEDA ST', 'HOLLYWOOD BLVD', 'PICO BLVD', 'VERMONT AVE', '8TH ST', 'HIGHLAND AVE', 'PICO BLVD', '8TH ST', 'SAWTELLE BLVD', 'EL SEGUNDO BLVD', 'BROADWAY # G', 'WESTERN AVE ', 'ALLSTON ST', 'CENTURY BLVD # #A', 'WESTERN AVE', 'PICO BLVD', '6TH ST', '1/2 W SUNSET BLVD', 'LA BREA AVE STE B', 'LA BREA AVE', 'SANTA MONICA BLVD', 'SUNSET BLVD', 'LA BREA AVE', 'FAIRFAX AVE', 'SUNSET BLVD', 'WESTERN AVE # D-E', 'GLENDON AVE', 'ROBERTSON BLVD', 'FIGUEROA ST # ', 'HOLLYWOOD BLVD', 'MELROSE AVE', 'SANTA MONICA BLVD ', 'OLYMPIC BLVD ', 'WESTWOOD BLVD', 'CRENSHAW BLVD', 'WORLD WAY', 'STA MON BLVD STE FC12', 'LA BREA AVE', 'SANTA MONICA BLVD # # PC1', 'PICO BLVD ', 'LA BREA AVE', 'WILSHIRE BLVD', 'WILMINGTON AVE', 'WHITTIER BLVD', 'WESTERN AVE', 'PICO BLVD STE B', 'LA BREA AVE', 'SLAUSON AVE', 'VINE ST ', 'WESTWOOD BLVD', 'FRANKLIN AVE', '1/2 PICO BLVD', 'MANCHESTER AVE', 'BARRINGTON AVE', '7TH ST', 'LA TIJERA BLVD', 'WILSHIRE BLVD STE E', '6TH ST ', 'MANCHESTER AVE', 'STATE UNIVERSITY DR', 'BARRINGTON CT', 'WASHINGTON BLVD', 'MISSION RD', 'WORLD WAY D', 'PICO BLVD', '8TH ST UNIT 103', 'ADAMS BLVD', 'ADAMS BLVD', '3RD ST', 'OLYMPIC BLVD', 'VINE ST', '12TH ST ', 'VERMONT AVE', 'VINE ST', 'HOLLYWOOD BLVD', 'SUNSET BLVD', 'COMPTON AVE', 'WILSHIRE BLVD ', 'VERMONT AVE', 'WESTERN AVE STE 6', '1/2 BEVERLY BLVD', 'CAHUENGA BLVD', 'SAN VICENTE BLVD', 'JEFFERSON BLVD', 'FIGUEROA ST', 'WESTERN AVE ', 'NORMANDIE AVE STE B', '3RD ST ', 'SANTA MONICA BLVD', 'PICO BLVD C1303', '3RD PL', 'SUNSET BLVD', 'EAGLE ROCK BLVD', 'WILSHIRE BLVD', 'CRENSHAW BLVD', 'CENTRAL AVE', 'YORK BLVD', 'VERMONT AVE', 'COLORADO BLVD', '9TH ST B32', 'ALHAMBRA AVE', 'OLYMPIC BLVD 102-A', 'YORK BLVD', 'HYPERION AVE', 'FAIRFAX AVE', '8TH ST', 'SANTA MONICA BLVD', 'WILSHIRE BLVD STE #B', 'WESTMORELAND AVE', '11TH ST', 'FLOWER ST # B620', 'SANTA MONICA BLVD', 'FAIRFAX AVE STE A-16', '3RD ST STE ', '3RD ST', 'MARTIN LUTHER KING BLVD', 'MEDNIK AVE', '9TH ST BL034', 'PICO BLVD', 'HIGHLAND AVE', 'HOLLYWOOD BLVD', 'OLYMPIC BLVD', 'OLYMPIC BLVD STE 110', 'WILSHIRE BLVD STE ', 'FIGUEROA ST', '3RD ST', 'MAIN ST ', 'MAPLE AVE', 'FLETCHER DR', 'GRAND AVE', '9TH ST', 'MELROSE AVE 109', 'MAIN ST STE 404', 'SUNSET BLVD', 'WILSHIRE BLVD', 'SUNSET BLVD', 'SANTA MONICA BLVD STE 107', 'OVERLAND AVE STE 105', 'VERMONT AVE STE 106', 'SANTA MONICA BLVD', 'SANTA MONICA BLVD', 'FLOWER ST', 'SAN PEDRO ST', 'FIGUEROA ST', 'WHITTIER BLVD', 'SAWTELLE BLVD', 'SUNSET BLVD', 'ADAMS BLVD', 'VENICE BLVD STE A', 'ALVARADO ST', 'MOTOR AVE', 'LA CIENEGA BLVD', 'KINROSS AVE', 'LINDBROOK DR', 'COMPTON AVE', 'BEVERLY BLVD', '6TH ST # #B', '3RD ST', 'PICO BLVD', 'MCGARRY ST', 'STATE ST', 'vine ST ', '9TH ST STE ', '7TH ST', 'ALVARADO ST ', 'HOLLYWOOD BLVD', 'WORLD WAY', 'DALY ST', 'CENTINELA AVE', 'OLIVE ST STE 101', 'SOTO ST', 'PICO BLVD', 'HOOVER ST', 'GRAND AVE', 'INDIANA ST', 'CARONDELET ST', 'PICO BLVD STE 310', '6TH ST B', 'OLYMPIC BLVD', 'FIGUEROA ST', 'HIGHLAND AVE D-E', 'SPRING ST', '6TH ST', 'BROADWAY UNIT UNIT', 'WILSHIRE BLVD ', '7TH ST STE A', 'OLYMPIC BLVD ', 'WESTWOOD BLVD', 'HILL ST ', 'FIGUEROA ST', 'FIGUEROA ST', 'PICO BLVD', 'SANTA MONICA BLVD', '1ST ST', 'LINDBROOK DR', '12TH ST ', '48TH ST', 'MEI LING WAY', 'WESTERN AVE ', 'CESAR E CHAVEZ AVE', 'FLORENCE AVE', 'SELMA AVE', 'BEVERLY BLVD', 'MONTEREY RD', 'WHITTIER BLVD', 'EAGLE ROCK BLVD', 'YORK BLVD', 'NATIONAL BLVD STE #N', 'CRENSHAW BLVD', 'FIGUEROA ST ', 'PACIFIC CONCOURSE DR ', '1/2 E 1ST ST', '3RD ST', 'LA CIENEGA BLVD', 'CESAR E CHAVEZ AVE', 'CRENSHAW BLVD', '8TH ST', 'WESTERN AVE STE ', 'ALLISON AVE', '7TH ST', '7TH ST', 'ALVARADO ST', '3RD ST', 'VERMONT AVE ', 'CAHUENGA BLVD', 'SAN VICENTE BLVD', 'AVALON BLVD', 'BROADWAY', 'HOPE ST ', 'HOPE ST # ', 'GAGE AVE # C', 'SAN VICENTE BLVD', 'COLORADO BLVD', 'HYPERION AVE', 'MELROSE AVE', 'BRONSON AVE', 'ADAMS BLVD', 'SUNSET BLVD STE ', 'SUNSET BLVD', '12TH ST ', 'UNION AVE', 'PICO BLVD', 'VERMONT AVE STE ', 'SLAUSON AVE A-18', 'SLAUSON AVE', 'WESTWOOD BLVD STE 102', 'PICO BLVD', 'WESTERN AVE', 'NADEAU ST', 'BEVERLY BLVD', 'HIGHLAND AVE', 'ST VINCENT CT', 'ARDMORE AVE STE 105', 'OLYMPIC BLVD', 'SAN PEDRO ST', 'COMPTON AVE', 'HOPE ST', 'YOSEMITE DR', 'VIN SCULLY AVE', 'HIGHLAND AVE', 'OLYMPIC BLVD', 'VENICE BLVD', 'OHIO AVE', 'VENICE BLVD', 'SPRING ST ', 'COMPTON AVE', 'ROBERTSON BLVD', 'PICO BLVD', 'FIGUEROA ST', 'CENTRAL AVE', 'VIRGIL AVE', 'OLYMPIC BLVD STE 5', 'SANTA MONICA BLVD STE 106', 'HOPE ST', 'VENICE BLVD', 'SANTA MONICA BLVD STE 110', 'VENICE BLVD', 'CRENSHAW BLVD', 'WILSHIRE BLVD ', 'SUNSET BLVD', 'VALLEY BLVD STE M', 'PICO BLVD', 'SAN VICENTE BLVD STE 111', 'HILL ST', '12TH ST ', '6TH ST', 'OLYMPIC BLVD', 'JAMES M WOOD BLVD STE 105', '7TH ST', 'VERDUGO RD', 'PICO BLVD', 'FLORENCE AVE STE ', 'SUNSET BLVD STE ', 'WESTERN AVE', 'SEPULVEDA BLVD STE 3', 'JEFFERSON BLVD ', 'VERNON AVE', '1/2 N SPRING ST', 'OLYMPIC BLVD', 'FIGUEROA ST STE 308', 'FLORENCE AVE', 'SYCAMORE AVE', 'OLYMPIC BLVD STE 315', 'WHITTIER BLVD', 'HOLLYWOOD BLVD ', 'FIGUEROA ST', 'WESTERN AVE', 'FIGUEROA ST STE 409', 'HILL ST', 'VERMONT AVE', 'REDONDO BLVD', 'FIGUEROA ST', 'FAIRFAX AVE', '12TH ST STE 408', 'WILSHIRE BLVD STE 206', 'PICO BLVD', 'SANTA MONICA BLVD', '9TH ST', 'WOODBINE ST STE ', '4TH ST', 'GLENDALE BLVD STE A', 'WESTERN AVE #B', 'WESTERN AVE ', 'PICO BLVD', 'ALAMEDA ST STE 115', 'PICO BLVD', 'SUNSET BLVD', 'CENTRAL AVE', 'OLYMPIC BLVD', 'WILSHIRE BLVD STE #D', 'SUNSET BLVD', 'BROXTON AVE', 'OLYMPIC BLVD', 'OLYMPIC BLVD', 'WESTERN AVE ', 'COMPTON AVE', 'SUNSET BLVD', 'BARRINGTON CT', 'ORD ST # A', 'BURLINGAME AVE', 'FIGUEROA ST STE ', 'FIGUEROA ST', 'PICO BLVD # #C', 'SPRING ST', 'OLYMPIC BLVD', 'ECHO PARK AVE', 'FLORENCE AVE', 'WASHINGTON BLVD', 'SOTO ST', 'SOTO ST', 'CRENSHAW BLVD', 'WESTERN AVE', 'MONTEREY RD', 'ALAMEDA ST # AA-5', 'LA BREA AVE', 'LA CIENEGA BLVD', 'VENICE BLVD', 'WESTWOOD BLVD', 'LA BREA AVE', 'PICO BLVD', 'LA CIENEGA BLVD', 'WESTERN AVE', 'HILL ST STE ', 'SOTO ST', 'WESTERN AVE', 'BROADWAY', 'JAMES M WOOD BLVD', 'RAMPART BLVD STE ', 'ST. ANDREWS PL', 'LA BREA AVE', 'WILSHIRE BLVD STE A', 'HILL ST 1ST F', '12TH ST ', '5TH ST ', 'FLOWER ST # #B-20', 'CRENSHAW BLVD', '6TH ST STE 102', 'CRENSHAW BLVD', 'HOOVER ST', 'SUNSET BLVD', 'BEVERLY BLVD', 'CENTURY BLVD STE 104', 'ALVARADO ST STE #C', 'HOLLYWOOD BLVD', 'MAIN ST', 'WHITTIER BLVD', 'CRENSHAW BLVD', '6TH ST', 'UNION AVE', 'HOLLYWOOD BLVD ', 'LA TIJERA BLVD', 'OLYMPIC BLVD', 'CESAR E CHAVEZ AVE', 'PICO BLVD', 'WHITTIER BLVD', 'HOPE ST', 'WESTERN AVE STE 105', 'OLIVE ST', 'SUNSET BLVD', 'ADAMS BLVD', 'SOTO ST', 'SUNOL DR', 'WALL ST ', 'HAZARD AVE', 'VERMONT AVE -0', '6TH ST # A', 'SUNSET BLVD', 'AVENUE OF THE STARS', 'HILL ST', '7TH ST # A', 'MARTIN LUTHER KING BLVD STE 139', 'UNION PACIFIC AVE', 'LA CIENEGA BLVD', 'PICO BLVD', 'SEPULVEDA BLVD', 'LARCHMONT BLVD', 'INGLEWOOD BLVD', 'MEDFORD ST', 'SUNSET BLVD', 'PICO BLVD', 'BEVERLY BLVD # C', 'VERNON AVE', '8TH ST STE ', 'CESAR E CHAVEZ AVE', 'VERNON AVE', 'OLYMPIC BLVD', 'WILSHIRE BLVD', 'AVALON BLVD', 'WESTERN AVE', 'WORLD WAY T33', 'WORLD WAY T32', 'MLK BLVD ', 'COLORADO BLVD STE 9007', 'SLAUSON AVE', 'SANTA MONICA BLVD', 'WESTERN AVE', 'LMU DR', 'SAN VICENTE BLVD ', '1/2 N LA BREA AVE', 'SAN VICENTE BLVD', 'WESTERN AVE', 'VERMONT AVE', 'COLORADO BLVD', 'MELROSE AVE', 'BROADWAY STE ', 'CAHUENGA BLVD W STE ', 'FLOWER ST', 'JEFFERSON BLVD', '8TH ST', 'FIRESTONE BLVD', 'UNION ST', 'SUNSET BLVD', 'JEFFERSON BLVD # ', 'SEPULVEDA BLVD', 'BEVERLY BLVD', 'GAYLEY AVE', 'LAWRENCE ST', 'BEVERLY BLVD', 'SAN VICENTE BLVD STE 148', 'HIGHLAND AVE', 'MAPLE AVE', 'CESAR E CHAVEZ AVE', 'CAHUENGA BLVD', 'GRIFFITH PARK BLVD', 'BEVERLY BLVD', 'EAGLE ROCK BLVD', 'BEVERLY BLVD STE B', 'HOPE ST', 'BROADWAY', 'CAHUENGA BLVD', 'HOPE ST 2017', 'WILSHIRE BLVD STE ', '7TH ST', 'SLAUSON AVE', '11TH ST', 'BEVERLY BLVD', 'WILSHIRE BLVD # B5', 'LARCHMONT BLVD', 'LARCHMONT BLVD', 'SUNSET BLVD', 'CAHUENGA BLVD', '12TH ST STE 410', '1ST ST', 'LOS ANGELES ST STE ', '8TH ST', 'CENTRAL AVE', 'HOLLYWOOD BLVD', 'BEVERLY BLVD', 'FLOWER ST FL 25', 'MISSISSIPPI AVE', '1ST ST', 'CESAR E CHAVEZ AVE', 'MOTOR AVE', 'MAPLE AVE', 'WASHINGTON BLVD ', 'CONSTELLATION BLVD', 'SUNSET BLVD', 'YORK BLVD', 'FIGUEROA ST', 'HILGARD AVE 2FL', 'ALAMEDA ST', '5TH ST', '7TH ST ', 'SUNSET BLVD', '9TH ST', '1/2 W OLYMPIC BLVD', '9TH ST', 'OLYMPIC BLVD STE ', 'SAWTELLE BLVD', 'WESTERN AVE', 'NORMANDIE AVE', 'CYPRESS AVE', '27TH ST ', 'LA CIENEGA BLVD', 'AVENUE 50', 'OLYMPIC BLVD', 'WINDWARD AVE', 'FIGUEROA ST ', 'FAIRFAX AVE', 'COLORADO BLVD', 'AVENUE 40 # #H', 'VERNON AVE', 'OLYMPIC BLVD', '1/2 LOS ANGELES ST', '1/2 S KERN AVE', 'AVE OF STARS STE 40', 'VENICE BLVD', '7TH ST', 'LARCHMONT AVE', 'LARCHMONT BLVD', 'WORLD WAY', 'OLYMPIC BLVD', 'WORLD WAY', 'OLYMPIC BLVD', 'PICO BLVD', 'WESTERN AVE ', '6TH ST', 'SLAUSON AVE', 'MELROSE AVE', 'OLYMPIC BLVD ', 'VERMONT AVE', 'MELROSE AVE', 'WASHINGTON PL', 'PICO BLVD', 'VENICE BLVD', 'HOLLYWOOD BLVD -0', 'WILSHIRE BLVD', 'FIGUEROA ST STE ', '7TH ST', 'WILSHIRE BLVD', '7TH ST', 'SPRING ST', 'PICO BLVD', 'WHITTIER BLVD', 'ATLANTIC BLVD', 'VINE ST', 'WILSHIRE BLVD', 'BROADWAY', 'EAGLE ROCK BLVD', 'BEVERLY GLEN CIR', 'HOPE ST -009', 'FLOWER ST', 'PICO BLVD', 'BROADWAY # C', 'CENTRAL AVE', 'VERMONT AVE', 'VENICE BLVD STE 10', 'SEPULVEDA BLVD', 'ALVARADO ST', 'ATLANTIC BLVD', 'SAN PEDRO ST', 'ORD ST', '7TH ST', 'PICO BLVD STE #A', 'ATLANTIC BLVD', 'HOOPER AVE', 'WILSHIRE BLVD', 'WILSHIRE BLVD', 'NEW HAMPSHIRE AVE', 'SPRING ST STE 2-3', 'OLYMPIC BLVD', 'WINSTON ST ', '3RD ST 411', 'VERNON AVE', '3RD ST STE 330', 'WILSHIRE BLVD', 'GLENDON AVE', 'CRENSHAW BLVD', '8TH ST STE 101', 'HOLLYWOOD BLVD', 'IMPERIAL HWY', 'OLYMPIC BLVD STE 122', 'CRENSHAW BLVD', 'SANTA MONICA BLVD', 'LA BREA AVE', 'OLYMPIC BLVD', 'MARLTON AVE', '3RD ST', '3RD ST', 'SANTA MONICA BLVD', 'WILSHIRE BLVD', 'ALVARADO ST ', 'WESTERN AVE ', 'LA CIENEGA BLVD', 'WESTWOOD BLVD STE 1G', 'OLYMPIC BLVD STE ', '6TH ST STE ', 'BROADWAY', 'SANTA MONICA BLVD STE ', 'ALHAMBRA AVE', '1ST ST', 'AVENUE 26 # #B', 'WILSHIRE BLVD STE ', 'NORMANDIE AVE', 'HOLLYWOOD BLVD STE ', 'MISSION RD', '1/2 S CENTRAL AVE', 'LA CIENEGA BLVD', 'WILSHIRE BLVD ', 'OLYMPIC BLVD STE ', 'WILMINGTON AVE STE #A', 'VERMONT AVE', 'IMPERIAL HWY ', 'COLORADO BLVD', 'WHITTIER BLVD', 'COLORADO BLVD STE 110', 'MAPLE AVE', 'PASADENA AVE', 'WILMINGTON AVE', '6TH ST ', 'VINE', 'OLYMPIC BLVD ', 'SUNSET BLVD STE D&E', 'JAMES M WOOD BLVD', 'WESTWOOD BLVD', 'WORLD WAY 7C', 'BEVERLY BLVD', '6TH ST UNIT 5', 'OLYMPIC BLVD 103', 'WORLD WAY C', 'WORLD WAY', 'COLORADO BLVD', 'WORLD WAY STE 7C', 'BROADWAY ', 'SANTA MONICA BLVD', 'MAIN ST', 'FIRESTONE BLVD', 'MAIN ST', 'WEYBURN AVE', 'SANTA MONICA BLVD STE 205', 'FAIRFAX AVE', '8TH ST', 'SAN PEDRO ST', 'SUNSET BLVD', 'LA BREA AVE', 'PICO BLVD', 'PICO BLVD STE 316', 'MARTIN LUTHER KING JR BLVD STE 271', 'GLENDON AVE', 'WILSHIRE BLVD ', 'JEFFERSON BLVD', 'AVENUE OF THE STARS', 'LA TIJERA BLVD', 'THE GROVE DR # KS-1', 'WASHINGTON BLVD', 'BELLAGIO RD', 'GLENDALE BLVD', 'AVENUE OF THE STARS', 'AVENUE OF THE STARS', 'SANTA MONICA BLVD', 'WESTWOOD BLVD', 'AVENUE OF THE STARS', 'BEVERLY BLVD STE 702', '9TH ST # B-362', 'LA CIENEGA BLVD # ', 'VICTORIA AVE', '6TH ST', 'VERMONT AVE STE ', 'WILSHIRE BLVD', 'HOOVER ST', 'BROADWAY STE 216', 'PICO BLVD', 'PICO BLVD', 'AVALON BLVD STE 106', 'LOS ANGELES STS ', 'BEVERLY BLVD STE #K100', 'LA BREA AVE', 'CENTRAL AVE', 'BROXTON AVE', '1/2 W SUNSET BLVD', 'MAIN ST', 'VERMONT AVE', 'SAN PEDRO ST', 'PICO BLVD', 'SAN PEDRO ST', 'HOLLYWOOD BLVD', 'SOTO ST', 'SUNSET BLVD', 'WESTWOOD BLVD', '6TH ST STE 109B', 'SUNSET BLVD STE #A', 'LA CIENEGA BLVD', 'PICO BLVD', 'ALAMEDA ST E', 'AVALON BLVD # #C', 'SAN VICENTE BLVD', 'GAYLEY AVE', 'LE CONTE AVE', 'YORK BLVD', 'HOLLYWOOD BLVD STE 120', 'HOPE ST FL', 'GLENDON AVE', 'VENICE BLVD', 'GLENDON AVE', 'GLENDON AVE', 'VENICE BLVD', 'MELROSE AVE STE 101', 'FIGUEROA ST ', 'BARRINGTON AVE', 'WILSHIRE BLVD', 'BEVERLY DR', 'WESTERN AVE', 'STA MON BLVD STE 1250', 'PICO BLVD', 'SLAUSON AVE', 'PICO BLVD', 'PICO BLVD E', 'FIGUEROA ST', 'MARTIN LUTHER KING BLVD', '8TH ST # ', 'VERMONT AVE', 'PICO BLVD', '1ST ST', 'LA CIENEGA BLVD # ', 'BROXTON AVE', 'SAN VICENTE BLVD STE ', 'WORLD WAY STE T86', 'AVE OF STARS STE', 'SAWTELLE BLVD', 'BROXTON AVE', 'MARTIN LUTHER KING JR BLVD ', 'HOLLYWOOD BLVD', 'HILL ST', 'HOLLYWOOD BLVD', 'AVALON BLVD', '1/2 E 1ST ST', 'CENTRAL AVE ', 'LOS FELIZ BLVD STE E-6', 'WEYBURN AVE', 'WESTWOOD BLVD', 'UNION AVE', 'FIGUEROA ST', '4TH ST', '8TH ST', 'BEVERLY BLVD', 'LA CIENEGA BLVD', 'CENTURY PARK E STE ', 'FIGUEROA ST', 'PICO BLVD # C1301', 'FIGUEROA ST', 'SUNSET BLVD', '1/2 VENICE BLVD', 'ABBOT KINNEY BLVD', 'FIGUEROA ST STE #N', 'ADAMS BLVD', 'FIGUEROA ST', 'SAWTELLE BLVD', 'HOOVER ST', 'ATLANTIC BLVD', 'FIGUEROA ST ', 'HOLLYWOOD BLVD', 'FLOWER ST 51ST', '6TH ST', 'FIGUEROA ST', 'HOLLYWOOD BLVD', 'BROADWAY ST', 'FIGUEROA ST', 'PICO BLVD', 'GAYLEY AVE', 'SUNSET BLVD', 'JEFFERSON BLVD', 'SUNSET BLVD', '6TH ST STE 228', '8TH ST ', 'IMPERIAL HWY STE ', 'SAN VICENTE BLVD', 'CRENSHAW BLVD', 'SAN PEDRO ST', 'ALAMEDA ST # AA-10', 'CRENSHAW BLVD', 'VENICE BLVD', 'BROADWAY STE 106B', 'STA MON BLVD STE FC13', 'SAN VICENTE BLVD', 'WESTERN AVE ', 'MISSOURI AVE', 'SAN VICENTE BLVD', 'CESAR E CHAVEZ AVE ', 'BEVERLY GLEN CIR', 'JEFFERSON BLVD', 'SUNSET BLVD', 'ST 23', 'WESTERN AVE # ', '6TH ST STE 222', 'PICO BLVD', 'BEVERLY GLEN CIR', 'SANTA MONICA BLVD SECIO', 'VALLEY BLVD STE #A', 'PORTIA ST', 'WILSHIRE BLVD', 'SANTA MONICA BLVD STE #FC9', 'VENICE BLVD ', 'SANTA MONICA BLVD STE ', 'GAYLEY AVE', 'WESTERN AVE STE 131', 'WESTERN AVE', 'GRAND AVE STE #B-5', 'GLENDALE BLVD # #A', 'SUNSET BLVD', 'HYDE PARK BLVD', 'SAN VICENTE BLVD', 'MARENGO ST', '7TH ST', 'ADAMS BLVD', 'COLORADO BLVD UNIT 5', 'GRAND AVE FL #D-2', 'BEVERLY BLVD', 'SANTA MONICA BLVD STE 1280', 'BARRINGTON AVE', 'EL SEGUNDO BLVD', 'MLK BLVD # ', 'VENICE BLVD', 'WESTERN AVE', 'LA BREA AVE STE A', 'WASHINGTON BLVD', 'LA CIENEGA BLVD ', '8TH ST', 'SUNSET BLVD', 'MLK BLVD', 'ST 20', 'IMPERIAL HWY', 'ST 2', 'MAIN ST', 'WASHINGTON PL', 'FIGUEROA ST', 'VERMONT AVE', 'NATIONAL BLVD', 'ST E8', 'MARTIN LUTHER KING BLVD', 'MAIN ST STE ', '1/2 N SPRING ST', 'PICO BLVD', 'SPRING ST STE ', 'HOLLYWOOD BLVD', 'NORMANDIE AVE', 'CESAR E. CHAVEZ AVE ', '3/4 E 1ST ST', 'FIGUEROA ST', 'NORWALK BLVD', 'UNION AVE', '2ND ST', 'VERMONT AVE', 'VERMONT AVE', 'PICO BLVD', 'PICO BLVD', 'BROADWAY', 'SILVER LAKE BLVD', 'MARTIN LUTHER KING JR. BLVD', 'BROADWAY STE ', 'BEAUDRY AVE', 'WESTERN AVE', 'CENTER DR', 'WESTMORELAND AVE ', '1/2 S VERMONT AVE', 'SAN PABLO ST', 'GAYLEY AVE', 'BEVERLY BLVD', 'MLK BLVD', 'THE GROVE DR # K-2', 'THE GROVE DR #K4', 'HILL ST', 'COLORADO BLVD STE ', '6TH ST', 'MLK BLVD', 'BEVERLY BLVD', 'HOPE ST', 'WORLD WAY', 'EL SEGUNDO BLVD', 'AVALON BLVD', 'WESTERN AVE ', 'GAYLEY AVE', 'NORMANDIE AVE STE 101', 'MISSISSIPPI AVE', 'SPRING ST', 'HUNTINGTON DR S', 'WILSHIRE BLVD STE 32', 'FIGUEROA ST', 'CRENSHAW BLVD', 'WESTWOOD BLVD # B', 'WESTWOOD BLVD A', 'BEAUDRY AVE', 'SUNSET BLVD', '9TH ST', 'WILSHIRE BLVD', 'BEVERLY BLVD', 'FIGUEROA ST ', '3RD ST # ', 'LA CIENEGA BLVD STE E', 'FIGUEROA ST STE ', 'SLAUSON AVE', 'SANTA MONICA BLVD STE 204', 'GRAND AVE DK', 'MARTIN LUTHER KING BLVD FC 1', 'BEVERLY BLVD', 'FIGUEROA ST', 'WHITTIER BLVD', 'COLORADO BLVD', 'CENTRAL AVE', 'LAS PALMAS AVE', 'JAMES M WOOD BLVD', 'FIGUEROA ST', 'MARTIN LUTHER KING JR BLVD', 'MANCHESTER AVE', 'WESTERN AVE STE ', 'VERMONT AVE', 'PICO BLVD', 'FIGUEROA ST', 'PICO BLVD STE 8', 'WHITTIER BLVD', 'SAWTELLE BLVD', 'HOLLYWOOD BLVD', 'CENTURY BLVD', 'VENICE BLVD', 'WILMINGTON AVE', 'OLYMPIC BLVD', 'FIGUEROA ST STE 103', 'VENICE BLVD', 'WILSHIRE BLVD', 'WILSHIRE BLVD STE 180', 'OLYMPIC BLVD STE ', 'ALAMEDA ST', 'PICO BLVD ', 'WESTERN AVE', 'SANTA MONICA BLVD', 'WHITTIER BLVD', 'WESTWOOD BLVD', 'WESTWOOD BLVD', 'CESAR E CHAVEZ AVE', 'SPRING ST STE ', 'FIGUEROA ST', 'LA BREA AVE', 'WESTWOOD BLVD', 'SANTA MONICA BLVD', 'MISSISSIPPI AVE', 'YORK BLVD', 'VERMONT AVE', 'FLOWER ST', 'PICO BLVD', 'ST W17', 'VERMONT AVE STE 101', 'LA BREA AVE', 'SANTA MONICA BLVD STE FC5', 'FIGUEROA ST', 'FORMOSA AVE', 'SANTA MONICA BLVD STE 102', 'WILSHIRE BLVD STE 111', 'WILSHIRE BLVD', 'SANTA MONICA BLVD', 'FIGUEROA ST', '1/4 S SEPULVEDA BLVD', 'ALPINE ST STE 8', 'NEW HIGH ST', 'CORINTH AVE', 'PICO BLVD', '23RD ST', 'HILL ST UNIT 201', 'MATEO ST', 'SEPULVEDA BLVD STE C', 'VINE ST ', 'SLAUSON AVE', '6TH ST', 'MANCHESTER AVE', 'KINGSLEY DR', 'ARDMORE AVE ', 'LA CIENEGA BLVD', 'SUNSET BLVD', 'SEPULVEDA BLVD', 'PICO BLVD', 'LA CIENEGA BLVD STE', 'WESTERN AVE', 'PICO BLVD', 'FLOWER ST', 'GRAND AVE', 'BROADWAY PL', 'VENICE BLVD', 'GRAND AVE', 'HILL ST', 'IMPERIAL HWY', 'FLORENCE AVE E', 'GRAND AVE', 'LA CIENEGA BLVD STE #C', 'OLYMPIC BLVD', 'WESTWOOD BLVD STE G', 'OLYMPIC BLVD STE #B', 'OLYMPIC BLVD STE ', 'WESTWOOD BLVD F', 'SANTA MONICA BLVD ', 'FIGUEROA ST', 'MARLTON AVE', 'FIGUEROA ST', 'CENTRAL AVE', 'WESTERN AVE ', 'LA CIENEGA BLVD', 'VERNON AVE', 'CAHUENGA BLVD', 'WESTERN AVE', 'WESTERN AVE', 'WESTWOOD BLVD', 'SPRING ST', 'JEFFERSON BLVD ', 'PICO BLVD', 'SAWTELLE BLVD', 'CESAR E CHAVEZ AVE', 'BEVERLY BLVD', 'FIGUEROA ST', 'SANTA MONICA BLVD', 'HIGHLAND AVE', 'CENTINELA AVE', 'WILSHIRE BLVD ', 'GAYLEY AVE', 'BROADWAY', 'WESTERN AVE', 'WESTERN AVE ', 'BROADWAY STE 130', 'SANTA MONICA BLVD', 'VERNON AVE STE 106', 'OLYMPIC BLVD', 'VERMONT AVE', 'ALAMEDA ST', 'MANCHESTER AVE', 'SAN VINCENTE BLVD ', 'FAIRFAX AVE', 'LA CIENEGA BLVD', 'FIRESTONE BLVD', 'PICO BLVD', 'WESTERN AVE', 'IVAR AVE', 'MAIN ST STE 102', 'VERMONT AVE # #C', 'FLORENCE AVE', 'SPRING ST', 'WESTERN AVE ', 'SPRING ST', 'PICO BLVD', 'BARRINGTON CT', 'VERMONT AVE STE ', 'BUNDY DR STE ', 'WESTERN AVE ', 'LARCHMONT BLVD', 'WESTWOOD BLVD', 'SANTA MONICA BLVD STE ', 'FIGUEROA ST', 'MOTOR AVE', 'VENICE BLVD', 'JEFFERSON BLVD', 'BEVERLY BLVD', 'JEFFERSON BLVD', 'MARTIN LUTHER KING JR BLVD', 'CRENSHAW BLVD ', 'CRENSHAW BLVD', 'WILSHIRE BLVD', 'WILSHIRE BLVD', 'VERMONT AVE STE ', 'SANTA MONICA BLVD', 'CENTRAL AVE', 'SUNSET BLVD', 'OLYMPIC BLVD STE A150', 'STA MON BLVD STE FC-8', 'AVENUE OF THE STARS # #A', 'LINDBROOK DR', 'CENTRAL AVE', 'VENICE BLVD', 'BROXTON AVE', 'PICO BLVD', 'JEFFERSON BLVD', 'WESTWOOD BLVD', 'COMPTON AVE', 'SAN FERNANDO RD', 'STA MON BLVD STE 654', 'SAN FERNANDO RD', 'SAN VICENTE BLVD', 'SAN VICENTE BLVD STE ', 'SUNSET BLVD', 'TIVERTON AVE', 'WHITTIER BLVD', 'CENTURY PARK E STE 102', 'OLYMPIC BLVD STE 110', 'ADAMS BLVD', 'BEVERLY BLVD', 'EAGLE ROCK BLVD', '5TH ST # #R1', 'PICO BLVD ', 'CAHUENGA BLVD', 'OLYMPIC BLVD', 'LA BREA AVE', 'LA BREA AVE', 'SANTA MONICA BLVD', 'OLYMPIC BLVD', 'GAYLEY AVE', 'SLAUSON AVE', 'PICO BLVD ', 'PICO BLVD', 'STONE CANYON RD', 'VENICE BLVD', 'STONE CANYON RD', 'BROXTON AVE', 'VERMONT AVE', 'LA BREA AVE STE A', 'LA BREA AVE', 'GRAND AVE STE 311', 'GRAND AVE', 'GRAND AVE', 'MISSION RD', 'PICO BLVD STE ', 'SAN VICENTE BLVD', 'VERNON AVE', 'GRAND AVE 3RD', 'WILSHIRE BLVD STE 141', 'SAN FERNANDO RD', 'JAMES M WOOD BLVD', 'PICO BLVD STE ', 'LONG BEACH AVE', 'CRENSHAW BLVD STE A', 'LINDBROOK DR', '6TH ST', 'PICO BLVD', 'HOLLYWOOD BLVD # D2-25', '8TH ST', '8TH ST', 'SANTA MONICA BLVD #FC-3', 'MELROSE AVE', 'BROADWAY', 'SAN PEDRO ST ', 'WESTWOOD BLVD', 'LINDBROOK DR', 'MLK BLVD', 'MLK BLVD', 'LINCOLN BLVD', 'PALMS BLVD', 'WESTERN AVE', 'SANTA MONICA BLVD', 'LA BREA AVE', 'SANTA MONICA BLVD STE 167', 'FIRESTONE BLVD', 'ST ANDREWS PL', 'SANTA MONICA BLVD STE S156', 'BROADWAY', '1ST ST', 'VERMONT AVE', 'FIRESTONE BLVD', 'GAYLEY AVE', 'SEPULVEDA BLVD', 'ROBERTSON BLVD', 'SAN VICENTE BLVD STE 104', 'FIRESTONE BLVD', 'LARCHMONT BLVD', 'OVERLAND AVE', 'SANTA ROSALIA DR', 'CESAR CHAVEZ AVE ', 'FIRESTONE BLVD', 'WILSHIRE BLVD STE 103', 'BEVERLY BLVD', 'MELROSE AVE', 'BEVERLY BLVD PL LE', 'VENICE BLVD', 'WHITTIER BLVD', 'VERNON AVE', 'VENICE BLVD', 'HOOVER ST', 'HOLLYWOOD BLVD STE D', 'MARTIN LUTHER KING JR BLVD', 'VERMONT AVE', 'BROADWAY STE 203', 'SANTA MONICA BLVD', 'LEXINGTON AVE', 'OLYMPIC BLVD', 'SUNSET BLVD', 'BROADWAY', 'WILSHIRE BLVD STE G', 'VERMONT AVE', 'SANTA MONICA BLVD', 'ROSCOMORE RD ', 'BEVERLY BLVD', 'VERMONT AVE', 'SANTA MONICA BLVD', 'WILSHIRE BLVD', 'WILSHIRE BLVD STE 30', 'SPRING ST', 'BEVERLY GLEN CIR', 'VERMONT AVE', 'WILSHIRE BLVD', 'NATIONAL BLVD', 'PICO BLVD', 'CRENSHAW BLVD', 'OLYMPIC BLVD STE B', 'WILSHIRE BLVD STE ', 'CRENSHAW BLVD', 'DALY ST', '8TH ST', 'AVE OF STARS STE 25', 'HILGARD AVE', 'ALAMEDA ST', 'FLORENCE AVE STE 112', 'LA BREA AVE', 'VENICE BLVD', 'FORD BLVD', 'FAIRFAX AVE', 'WILSHIRE BLVD', 'TROUSDALE PKWY', 'SANTA MONICA BLVD', 'DALY ST', 'LA BREA AVE', 'SANTA MONICA BLVD STE ', 'FIGUEROA ST', 'GLENDALE BLVD STE 2', 'LA CIENEGA BLVD # ', 'CRENSHAW BLVD STE ', 'CAHUENGA BLVD', 'FIGUEROA ST #B 120', 'CRENSHAW BLVD', 'AVENUE OF THE STARS STE ', 'HOPE ST STE C', 'PICO BLVD', 'VENICE BLVD', 'UCLA MEDICAL PLZ ', 'MELROSE AVE', 'LARCHMONT BLVD', 'PICO BLVD', 'CENTRAL AVE', 'BROXTON AVE', 'ADAMS BLVD', 'SANTEE ST # A', 'WESTERN AVE', 'GORHAM AVE', 'VENICE BLVD STE B', '6TH ST', 'ADAMS BLVD', 'WILSHIRE BLVD STE 100', 'OLYMPIC BLVD', 'WESTWOOD BLVD', 'NATIONAL BLVD', '1/2 N LA CIENEGA BLVD', 'LA CIENEGA BLVD', 'SANTA MONICA BLVD ', 'FAIRFAX AVE', 'VERMONT AVE', 'VERMONT AVE', '3RD ST ', 'MLK BLVD', 'SANTA MONICA BLVD', '6TH ST', 'ST 5', 'HOLLYWOOD BLVD # ', 'SANTA MONICA BLVD', 'WESTWOOD BLVD', '1ST ST', 'TEMPLE ST', 'VERMONT AVE', '2ND ST STE A', 'FRANKLIN AVE', 'SANTA MONICA BLVD', 'SANTA MONICA BLVD', 'WILSHIRE BLVD # ', 'WESTWOOD BLVD', 'AVALON BLVD', 'WESTWOOD BLVD', 'TROUSDALE PKWY', 'COMPTON AVE', 'MANCHESTER AVE', '3RD ST', 'BEVERLY BLVD', 'SANTA MONICA BLVD', 'CAHUENGA BLVD', 'SUNSET BLVD', 'MAIN ST', 'AVENUE OF THE STARS', 'PICO BLVD', 'EASTERN AVE', 'OVERLAND AVE STE 150', 'WHITTIER BLVD', 'FIGUEROA ST', 'CRENSHAW BLVD', 'MLK BLVD # A', 'EASTERN AVE', 'ALVARADO ST', 'HILLHURST AVE', 'ALVARADO ST', 'WORLD WAY T1', 'WILSHIRE BLVD STE 110', '3RD ST STE 311E', 'SANTA FE AVE # A', 'SAN VICENTE BLVD', 'VENICE BLVD', '6TH ST', 'WILSHIRE BLVD ', 'LA BREA AVE STE # E', 'GAYLEY AVE', 'WILSHIRE BLVD STE 101', 'WILSHIRE BLVD', 'SEPULVEDA BLVD', 'SUNSET BLVD STE 120', 'WILSHIRE BLVD', 'MELROSE AVE', 'VENICE BLVD ', 'LA CIENEGA BLVD', 'SAN VICENTE BLVD # #G-1', 'WESTWOOD BLVD', 'HILLHURST AVE', 'MONTEREY RD', 'MANCHESTER AVE', 'SUNSET BLVD', 'HILLHURST AVE', 'WESTERN AVE', '3RD ST STE ', 'OLYMPIC BLVD', 'LA TIJERA BLVD', 'HILLHURST AVE', '3RD ST', 'OLYMPIC BLVD', 'VERMONT AVE STE 103', 'HILLHURST AVE', 'SAWTELLE BLVD', 'SANTA MONICA BLVD', 'AVENUE OF THE STARS', 'WHITTIER BLVD', 'WILSHIRE BLVD', 'HILLHURST AVE', '3RD ST', 'AVENUE OF THE STARS', 'COLORADO BLVD STE ', '8TH ST', 'SANTA MONICA BLVD', '7TH ST # B-2', 'SANTA MONICA BLVD', 'AVENUE OF THE STARS', 'SANTA MONICA BLVD', 'CENTRAL AVE', 'SANTA MONICA BLVD', '6TH ST STE 100C', 'VENICE BLVD', 'YORK BLVD', 'WESTERN AVE ', 'WILSHIRE BLVD', 'CRENSHAW BLVD', 'BROADWAY', 'VERMONT AVE', 'BEVERWIL DR', 'MCDONNELL AVE', '3RD ST', 'GATEWAY BLVD', 'GIN LING WAY', 'SANTA MONICA BLVD', 'VIRGIL AVE', 'HILLHURST AVE', 'MELROSE AVE', 'GIN LING WAY', 'TRIGGS ST', 'CENTURY PARK E STE 103', 'MANCHESTER AVE', 'VIRGIL AVE ', 'HILLHURST AVE # A', 'VERMONT AVE # A', 'FIGUEROA ST', 'SAN VICENTE BLVD', 'SAN VICENTE BLVD', '6TH ST', 'HOLLYWOOD BLVD', 'MANCHESTER AVE', 'WESTWOOD BLVD', 'FAIRFAX AVE', 'LOS ANGELES ST # G', 'BEVERLY BLVD', 'SANTA MONICA BLVD', '3RD ST', 'VERMONT AVE', 'MANCHESTER AVE', 'WESTWOOD PLZ A260', 'PICO BLVD #D', 'WESTERN AVE # ', 'WESTERN AVE', '6TH ST', 'SANTA MONICA BLVD STE 206', 'SANTA MONICA BLVD', 'WILSHIRE BLVD # A103', 'NATIONAL BLVD', 'FIGUEROA ST', 'MELROSE AVE', 'MELROSE AVE', 'WILSHIRE BLVD STE B-1', 'ADAMS BLVD', 'STA MON BLVD STE 134', 'CENTRAL AVE', 'SANTA MONICA BLVD S S 201', 'VERMONT AVE', 'ATLANTIC BLVD', '3RD ST STE 100', 'CENTRAL AVE', 'CENTRAL AVE', '58TH PL', 'MELROSE AVE', 'MAIN ST', '1ST ST', 'HILLHURST AVE', 'SANTA MONICA BLVD ', 'MAIN ST', 'WESTERN AVE ', 'SAN PEDRO ST', 'CENTRAL AVE', 'JAPANESE VILLAGE WAY', '1ST ST', 'SANTA MONICA BLVD', 'SAN PEDRO ST', 'WESTERN AVE', 'SLAUSON AVE', 'LOS ANGELES ST STE 24', 'SEPULVEDA BLVD', 'HILLHURST AVE', 'WESTERN AVE', 'HILLHURST AVE', 'FIGUEROA ST ', 'KINROSS AVE', 'OLYMPIC BLVD', 'MANCHESTER AVE', 'MAIN ST # ', 'FIGUEROA ST', 'MAIN ST FL FL 1', 'WHITTIER BLVD', 'ALAMEDA ST ', 'YUCCA ST', 'HOPE ST # ', '1/2 HILLHURST AVE', 'LOS ANGELES ST', 'ALVARADO ST # #A', '6TH ST', 'HOLLYWOOD BLVD', 'MANCHESTER AVE', 'MELROSE AVE # ', 'MELROSE AVE ', 'WEYBURN AVE', 'FOUNTAIN AVE STE D', 'CRENSHAW BLVD', 'FOUNTAIN AVE', 'RODEO RD', 'VERMONT AVE', 'FOUNTAIN AVE', 'CENTRAL AVE', 'SANTA MONICA BLVD #FC-2', 'HILLHURST AVE', 'FLORENCE AVE', 'MANCHESTER AVE', '2ND ST', 'HILLHURST AVE', 'SUNSET BLVD STE 101', 'CENTRAL AVE', 'MAIN ST', 'CENTRAL AVE', 'VERMONT AVE', '4TH ST', 'MANCHESTER AVE', 'SANTA MONICA BLVD', 'GLENDALE BLVD', '3RD ST', 'SANTA MONICA BLVD', '3RD ST', 'VERMONT AVE', '3RD ST', '6TH ST', '2ND ST', 'CALIFORNIA STATE ROUTE 2 BLVD STE ', 'STA MON BLVD STE 656', 'ADAMS BLVD', 'SANTA MONICA BLVD STE 204', 'BEVERLY GLEN CIR', 'MELROSE AVE', 'SANTA MONICA BLVD', 'VERMONT AVE', 'SAN PEDRO ST', 'WALL ST ', 'MOTOR AVE', 'MOTOR AVE STE A', 'WESTERN AVE # ', 'JAPANESE VLG PLZ MALL', '1/2 E 1ST ST', 'FOUNTAIN AVE', 'VERMONT AVE', 'CENTRAL AVE', 'EDGEMONT ST', 'FOUNTAIN AVE', 'SANTA FE AVE # Q', 'NORMANDIE AVE', 'FAIRFAX AVE', '2ND ST', 'HOLLYWOOD BLVD', 'WHITTIER BLVD', 'HOLLYWOOD BLVD STE 500', 'WILSHIRE BLVD STE 108', 'FOUNTAIN AVE', 'PICO BLVD', 'SPRING ST', 'MELROSE AVE', '3RD ST', '2ND ST', 'AVENUE OF THE STARS STE PK', 'AVENUE 58', 'LOS FELIZ BLVD STE ', '11TH ST', 'WESTWOOD BLVD', 'BEVERLY BLVD', '8TH ST', '6TH ST', 'LA BREA AVE', 'HOLLYWOOD BLVD', 'GAYLEY AVE # B', 'VERMONT AVE', 'SPRING ST STE 103', 'VERMONT AVE', 'VENICE BLVD', 'RAMPART BLVD', 'WASHINGTON PL', 'VERMONT AVE', 'RAMPART BLVD', 'LOS ANGELES ST STE 22', '2ND ST ', 'OLYMPIC BLVD STE 314', 'HILLHURST AVE', 'WESTERN AVE', 'OLYMPIC BLVD ', 'MAIN ST', 'BEVERLY BLVD STE 255', 'TEMPLE ST', 'TEMPLE ST', 'LOS ANGELES ST STE 8', 'LOS ANGELES ST STE 22-A', 'LOS ANGELES ST STE 9', 'JAPANESE VLG PLZ MALL', 'WESTERN AVE', 'HILLHURST AVE', 'SANTA MONICA BLVD', 'HILLHURST AVE', 'SANTA MONICA BLVD', '3RD ST', 'OLYMPIC BLVD', 'VIRGIL AVE', 'GRAND AVE STE C-6', 'CENTRAL AVE', 'WESTWOOD BLVD', 'LINDBROOK DR', 'TEMPLE ST', 'GETTY CENTER DR', 'BUNDY DR', 'BRUNO ST', 'SAN VICENTE BLVD', 'VIRGIL AVE', 'HILLHURST AVE', 'FLORENCE AVE', 'LA BREA AVE', 'SPRING ST', 'VIRGIL AVE', 'EASTERN AVE', 'THE GROVE DR STE K-3', 'VIRGIL AVE', 'HILLHURST AVE', 'BEVERLY BLVD', 'SHATTO PL', 'CENTRAL AVE', 'HIGHLAND AVE', 'BEVERLY BLVD', 'AVALON BLVD', 'AVALON BLVD STE 102', 'AVALON BLVD', 'WORLD WAY T5', 'STA MON BLVD STE FC14', '1/2 S WESTERN AVE', 'GRAND AVE', '3RD ST', 'AVALON BLVD', 'VERMONT AVE', 'LOS ANGELES ST STE 106', '3RD ST', 'LOS ANGELES ST ', 'VERMONT AVE', 'FIGUEROA ST', 'LOS ANGELES ST UNIT 102', '3RD ST', 'LOS ANGELES ST STE ', 'SANTA MONICA BLVD', 'HOLLYWOOD BLVD', 'MAIN ST #B', 'PICO BLVD ', 'VERMONT AVE', 'LINDBROOK DR', 'VERMONT AVE', 'FIGUEROA ST', 'ABBOT KINNEY BLVD', 'BEVERLY BLVD', 'CENTRAL AVE', 'VERMONT AVE', 'MAIN ST', 'MAIN ST # #D', '3RD ST -21', 'SAN PEDRO ST', 'SANTA MONICA BLVD STE 101', 'VERMONT AVE', 'VERMONT AVE', 'CESAR E CHAVEZ AVE # #A', 'VERMONT AVE', 'JAPANESE VLG PLZ MALL', 'GAYLEY AVE', '3RD ST # EK10', '2ND ST', 'PICO BLVD', 'WILSHIRE BLVD', 'WILSHIRE BLVD ', 'VERMONT AVE', 'FIGUEROA ST', 'VENICE BLVD STE B', 'FIGUEROA ST', 'FIGUEROA ST', 'JAPANESE VLG PLZ MALL', 'VERMONT AVE', '2ND ST', 'CENTRAL AVE', 'BROADWAY # ', '1/2 E 2ND ST', 'TEMPLE ST', 'WESTERN AVE', 'WALL ST STE ', 'JAPANESE VLG', 'BROXTON AVE', 'JEFFERSON BLVD', 'JAPANESE VLG PLZ MALL', 'SAWTELLE BLVD', 'KENMORE AVE', 'WORLD WAY 8D', 'LOS ANGELES ST STE 10', 'VERMONT AVE', 'BROADWAY ST', 'VERMONT AVE', 'TEMPLE ST', 'RAMIREZ ST', 'HOLLYWOOD BLVD', 'JAPANESE VILLAGE PLZ MALL', 'SUNSET BLVD # #C', 'VERMONT AVE', 'MELROSE AVE STE 107', 'MANCHESTER AVE', 'VERMONT AVE', 'FIGUEROA ST', '6TH ST', 'MISSION RD', 'JAPANESE VLG PLZ MALL', '2ND ST', 'PICO BLVD', 'MOTOR AVE', 'JAPANESE VLG PLZ MALL', 'WILSHIRE BLVD', 'JAPANESE VLG PLZ MALL', 'OLYMPIC BLVD', '6TH ST STE E1', 'JAPANESE VILLAGE PLZ', 'WORLD WAY 7C', '6TH ST', 'WORLD WAY', 'FLOWER ST', 'MANCHESTER AVE', 'BROXTON AVE', 'EASTERN AVE', 'ADAMS BLVD', 'SANTA MONICA BLVD STE ', '1ST ST', '1ST ST', '5TH ST', 'JAPANESE VILLAGE PLZ', 'JAPANESE VLG PLZ MALL', 'BEVERLY BLVD STE K606', '1/2 W 48TH ST', 'JEFFERSON BLVD', 'PICO BLVD STE ', 'WORLD WAY', 'VERMONT AVE', 'MELROSE AVE', '3RD ST', 'BROXTON AVE', 'WORLD WAY ', 'LA GRANGE AVE', 'WORLD WAY', 'VERMONT AVE', 'SANTA MONICA BLVD', 'VERMONT AVE', 'CENTRAL AVE', 'SANTA MONICA BLVD STE ', 'CAHUENGA BLVD', '3RD ST STE ', 'SAWTELLE BLVD', 'AVALON BLVD', 'WESTERN AVE', 'RAMPART BLVD STE A', 'VERMONT AVE', 'BROADWAY', 'VENICE BLVD', 'LA BREA AVE', 'BROADWAY', 'HOLLYWOOD BLVD', 'VERMONT AVE', 'SANTA MONICA BLVD ', 'VERMONT AVE', 'CENTRAL AVE', 'SAN PEDRO ST', 'WORLD WAY', 'SUNSET BLVD', '3RD ST ', 'WORLD WAY', 'VERMONT AVE', 'VERMONT AVE', 'MANCHESTER AVE', '3RD ST STE 101', 'SUNSET BLVD', 'WORLD WAY', 'ASTRONAUT E S ONIZUKA ST STE 203', 'SANTA MONICA BLVD', '2ND ST', 'WASHINGTON BLVD', '2ND ST # #A', 'CENTRAL AVE', 'COLORADO BLVD', 'OXFORD AVE STE ', 'OXFORD AVE STE ', 'SUNSET BLVD', 'SANTEE ST', '1ST ST', 'BROADWAY PL', 'WORLD WAY ', 'ALVARADO ST', '1ST ST STE 104B', 'COLORADO BLVD # #B', 'PICO BLVD', 'CENTRAL AVE', '2ND ST', 'BEVERLY DR', 'BEVERLY DR', 'PICO BLVD ', 'BEVERLY BLVD', 'OXFORD AVE', 'PICO BLVD', 'ALVARADO ST', 'MARTIN LUTHER KING JR BLVD ', 'VERMONT AVE', 'ASTRONAUT ELLISON ONIZUKA ST ', 'MLK BLVD STE 101', '2ND ST STE 206', 'MANCHESTER AVE', 'SUNSET BLVD', 'FIGUEROA ST STE B', 'ASTRONAUT ELLISON ONIZUKA ST ', 'FLORENCE AVE', 'VERMONT AVE', 'FLORENCE AVE', 'WASHINGTON BLVD', 'PICO BLVD # B', 'VINE ST ', 'ASTRONAUT ELLISON ONIZUKA ST ', 'WEYBURN AVE', 'SAN PEDRO ST', '3RD ST ', '12TH ST ', 'ASTRONAUT ELLISON ONIZUKA ST ', 'FAIRFAX AVE', 'NATIONAL BLVD', 'ATLANTIC BLVD', 'WESTERN AVE', 'BEVERLY BLVD', 'MANCHESTER AVE', 'SANTA MONICA BLVD # FC-O7', 'MANCHESTER AVE', 'SUNSET BLVD', 'WESTERN AVE', 'VENICE BLVD STE ', 'MANCHESTER AVE', 'WESTERN AVE', 'HILLHURST AVE', 'WESTERN AVE', '1ST ST', 'PICO BLVD', 'FIGUEROA ST', 'WESTERN AVE STE 106', 'FIGUEROA ST', '1ST ST', 'ALVARADO ST', 'WILSHIRE BLVD STE ', 'EASTERN AVE', 'MANCHESTER AVE', 'TEMPLE ST STE 103', 'MANCHESTER AVE STE 106', 'HUNTINGTON DR', '7TH ST STE C', '1ST ST', 'MARTIN LUTHER KING JR BLVD', 'VERNON AVE ', 'LE CONTE AVE', 'FIGUEROA ST 107', 'SANTA MONICA BLVD', 'SUNSET BLVD', 'MANCHESTER AVE', '2ND ST', 'SANTA MONICA BLVD', 'PICO BLVD', '3RD ST D-104', 'SUNSET BLVD', 'WESTERN BLVD', 'FLORENCE AVE', 'MELROSE AVE', '12TH ST ', 'BEVERLY BLVD', 'HOLLYWOOD BLVD', '1ST ST', 'WESTERN AVE', '1ST ST', 'BEVERLY BLVD', 'WESTERN AVE', 'JUDGE JOHN AISO ST', '1ST ST', 'LA BREA AVE', 'VERMONT AVE', 'FLORENCE AVE', 'LA BREA AVE', 'OCCIDENTAL BLVD', 'VIRGIL AVE', 'GRAND AVE RDFL', 'VIRGIL AVE', 'OCCIDENTAL BLVD', 'SANTA MONICA BLVD # ', 'FIGUEROA ST', 'ALAMEDA ST', 'ALAMEDA ST # W11', 'FIGUEROA ST', 'FLORENCE AVE', 'WEYBURN AVE', 'FIGUEROA ST STE 102', 'FIGUEROA ST', 'SANTA MONICA BLVD', 'AVALON BLVD', '1/4 E 1ST ST', '1ST ST', 'SANTA MONICA BLVD', 'FIGUEROA ST', 'HOLLYWOOD BLVD', 'HILLHURST AVE', 'PICO BLVD', '1ST ST', '1ST ST', 'HILLHURST AVE', 'HILLHURST AVE', '1ST ST', '6TH ST', 'WHITTIER BLVD', '3RD ST', '3RD ST', 'SUNSET BLVD', 'WILSHIRE BLVD 110', '3RD ST', 'LA BREA AVE', 'SAN PEDRO ST', 'WABASH AVE', 'BEVERLY BLVD', 'FIGUEROA ST ', 'WASHINGTON BLVD', 'FIGUEROA ST', 'OLYMPIC BLVD', '3RD ST STE 109', '2ND ST STE 202', 'TELEGRAPH RD', 'SANTA FE AVE', 'SANTA MONICA BLVD # #B', 'MANCHESTER AVE', 'VERMONT AVE', 'HILL ST UNIT P', 'TEMPLE ST', 'PICO BLVD STE ', 'SLAUSON AVE', '1/2 S CENTRAL AVE', 'TEMPLE ST ', 'MLK BLVD', 'MELROSE AVE', 'MLK BLVD', 'WILSHIRE BLVD #B', 'BROXTON AVE', 'TRACTION AVE', '3RD ST', 'HOLLYWOOD BLVD', 'CAHUENGA BLVD W STE 107', 'BEVERLY BLVD', 'HOPE ST FL 22', 'CESAR CHAVEZ AVE', 'OXFORD AVE', 'VERMONT AVE', 'WILSHIRE BLVD STE 112', 'WESTERN AVE STE 103', 'CULVER BLVD #B', 'BEVERLY BLVD', 'HILLHURST AVE', 'FIGUEROA ST STE ', 'VERNON AVE', 'VERMONT AVE STE 103', 'OLIVE ST STE ', 'MELROSE AVE', 'AVENUE 26 # #B', 'SUNSET BLVD STE 1A', 'VERMONT AVE', 'VERMONT AVE', 'HILLHURST AVE', 'SANTA FE AVE', 'HOLLYWOOD BLVD STE 101', 'FLORENCE AVE', 'MANCHESTER AVE', 'WESTERN AVE', 'PROSPECT AVE', 'VERMONT AVE', '3RD ST', 'MANCHESTER AVE', 'CENTRAL AVE', '6TH ST STE 115', 'VERMONT AVE', 'SUNSET BLVD STE H', 'CENTRAL AVE', 'WESTERN AVE # #B', 'VERMONT AVE', 'VERMONT AVE STE 102', 'FIGUEROA ST', 'ALAMEDA ST STE K-5', 'VIRGIL AVE', 'HILLHURST AVE', 'VERMONT AVE', 'VERMONT AVE', 'ALVARADO ST', 'OLYMPIC BLVD LBBY LOBBY', 'BROADWAY STE #A', 'OCCIDENTAL BLVD', 'VERMONT AVE', 'WESTERN AVE', 'SAWTELLE BLVD ', 'VERMONT AVE', 'HOLLYWOOD BLVD', 'VERMONT AVE', 'WESTERN AVE -4', 'SANTA MONICA BLVD', 'HOLLYWOOD BLVD STE 102', 'SUNSET BLVD STE ', 'SANTA MONICA BLVD', 'WESTERN AVE', '3RD ST', 'SANTA MONICA BLVD', 'HILL ST', 'BROADWAY', 'KENMORE ST', 'MANCHESTER AVE', 'MELROSE AVE', 'HILLHURST AVE', 'CENTRAL AVE', 'MANCHESTER AVE', 'WESTERN AVE', 'VERMONT AVE', '1ST ST', 'HOLLYWOOD BLVD STE 101', 'MELROSE AVE', '6TH ST', 'SUNSET BLVD', 'AVALON BLVD', 'WESTERN AVE', 'BROADWAY', 'MELROSE AVE', 'MANCHESTER AVE', 'FLORENCE AVE', 'HILLHURST AVE', 'FLORENCE AVE', 'CENTURY BLVD', '3RD ST', '3RD ST', 'MANCHESTER AVE', 'GLENDALE BLVD # A', 'IROLO ST STE 105', 'FOUNTAIN AVE', 'WESTERN AVE', 'HILLHURST AVE', 'HILLHURST AVE', 'BEVERLY BLVD', 'BEVERLY BLVD', 'CENTRAL AVE', 'VERMONT AVE', 'BEVERLY BLVD', 'NORMANDIE AVE', 'MANCHESTER AVE', '3RD ST', 'CENTINELA AVE', 'WESTERN AVE STE ', '1/2 W 3RD ST', 'TEMPLE ST', '3RD ST', 'HILLHURST AVE', 'VERMONT AVE', 'BEVERLY BLVD', 'OLIVE ST', 'VERMONT AVE', 'FLORENCE AVE', '3RD ST', 'WESTERN AVE', 'VIRGIL AVE', 'SAN VICENTE BLVD', 'WESTERN AVE', 'ALAMEDA ST', 'VERMONT AVE STE 103', '1/2 W 3RD ST', 'VERMONT AVE', 'SANTA MONICA BLVD', 'WESTERN AVE ', 'VERMONT AVE', 'SANTA MONICA BLVD -17', 'CENTRAL AVE', 'TEMPLE ST', 'WESTERN AVE', 'SUNSET BLVD', 'VERMONT AVE', 'BEVERLY BLVD', 'MELROSE AVE', 'FOUNTAIN AVE', '3RD ST ', 'EASTERN AVE', 'FIGUEROA ST ', 'FLORENCE AVE STE 104', '1/2 S BROADWAY AVE', '2ND ST', 'SUNSET BLVD', 'KENMORE AVE', 'WESTERN AVE # B', 'WHITTIER BLVD', '6TH ST', 'VERMONT AVE', 'VERMONT AVE', '3RD ST', '3RD ST', 'FOUNTAIN AVE', 'HOOVER ST', 'HOLLYWOOD BLVD', 'FIGUEROA ST STE 190', 'FLORENCE AVE', 'CENTURY BLVD', 'HELIOTROPE DR', 'WILSHIRE BLVD ', '7TH ST', 'MANCHESTER AVE STE 108', '1/2 SUNSET BLVD', 'OLYMPIC BLVD', '2ND ST', 'SEPULVEDA BLVD', 'BEVERLY BLVD', 'GATEWAY PLZ FL 3RD F', 'SANTA MONICA BLVD', 'WESTERN AVE', 'WESTERN AVE', 'VERMONT AVE', '8TH ST', '2ND ST', 'MANCHESTER AVE', 'WILSHIRE BLVD', '1/2 FLORENCE AVE', 'WESTERN AVE', 'HILLHURST AVE', 'HILLHURST AVE', 'WORLD WAY', 'VERMONT AVE', 'SLAUSON AVE', 'VERMONT AVE N', 'FLORENCE AVE', 'SANTA MONICA BLVD', 'WESTERN AVE', 'BRUNO ST', 'MANCHESTER AVE', 'COLORADO BLVD', 'FLORENCE AVE', 'WESTERN AVE # ', 'VERMONT AVE', 'ALHAMBRA AVE', 'HILLHURST AVE', 'HOOVER ST', 'HOLLYWOOD BLVD', 'LOS FELIZ BLVD UNIT C', 'MELBOURNE AVE', 'BROADWAY', '3RD ST', 'BEVERLY BLVD', '3RD ST', 'TEMPLE ST FL', 'ALVARADO ST ', 'MANCHESTER AVE', 'HOLLYWOOD BLVD', 'BEVERLY BLVD # A', 'ASTRONAUT ELLISON ONIZUKA ST ', '3RD ST', 'EASTERN AVE STE ', 'HOLLYWOOD BLVD', 'WORLD WAY', 'VERMONT AVE', 'VIGNES ST STE ', 'FIGUEROA AVE', 'CENTRAL AVE', 'BEVERLY BLVD', 'FLORENCE AVE', 'WESTERN AVE # C', 'HILLHURST AVE', 'HELIOTROPE DR', 'FLORENCE AVE', 'EASTERN AVE', 'PICO BLVD', 'HILLHURST AVE', 'CENTRAL AVE', 'TRACTION AVE', 'GAGE AVE', 'FLORENCE AVE', 'VERMONT AVE # #B', '3RD ST', 'MELROSE AVE', 'SANTA MONICA BLVD ', 'LA BREA AVE', 'TEMPLE ST', '3RD ST', 'AVALON BLVD', '6TH ST', 'VERMONT AVE', 'HILLHURST AVE', 'FAIRFAX AVE', 'SANTA MONICA BLVD', '3RD ST ', 'VINE ST UNIT 8', '6TH ST STE 2A', 'HILLHURST AVE', 'HOLLYWOOD BLVD', 'WESTERN AVE', 'HILLHURST AVE', 'MAIN ST', '1/2 N HILLHURST AVE', 'WESTERN AVE', 'HILLHURST AVE', 'VERMONT AVE', 'HILLHURST AVE', 'FIGUEROA ST', 'VIRGIL AVE', 'EDGEMONT ST', 'HILLHURST AVE', 'ALAMEDA ST', 'MANCHESTER AVE', 'MANCHESTER AVE', 'HILL ST 9 FL CAFE', 'FIGUEROA ST 10TH FLOOR', '2ND ST', 'AIRPORT BLVD', 'HELIOTROPE DR', 'WHITTIER BLVD', 'LOS FELIZ BLVD # A', 'WESTERN AVE # ', '3RD ST', 'JEFFERSON BLVD STE 1640', 'MLK BLVD # #FC-1', 'WESTERN AVE UNIT 105', 'ALAMEDA ST ', '6TH ST', 'MANCHESTER AVE', 'WESTERN AVE', '2ND ST', 'NORMANDIE AVE', 'MANCHESTER AVE ', 'SANTA FE AVE', 'BEVERLY BLVD', 'HIGHLAND AVE', '2ND ST', 'PALISADES DR', 'BEVERLY BLVD', 'VERMONT AVE', 'MELROSE AVE STE 109', 'ALAMEDA ST #K4', 'HEWITT ST', 'VERMONT AVE', 'AVALON BLVD', 'MANCHESTER AVE', 'HILLHURST AVE', 'WILSHIRE BLVD ', 'CENTRAL AVE', 'BEVERLY BLVD', 'CENTRAL AVE', 'FLORENCE AVE', 'AVALON BLVD', '2ND ST', '3RD ST', 'BROADWAY # ', '3RD ST', 'MANCHESTER AVE', 'WESTERN AVE', 'TEMPLE ST', 'CENTRAL AVE # ', '7TH ST', 'FLORENCE AVE STE ', 'ASTRONAUT ELLISON ONIZUKA ST ', 'MELROSE AVE', 'SANTA MONICA BLVD ', 'ALAMEDA ST ', 'HOLLYWOOD BLVD', 'WESTERN AVE', 'TELEGRAPH RD', 'VERMONT AVE', 'VERMONT AVE', 'WESTERN AVE', 'MAIN ST', 'MELROSE AVE', 'BROADWAY', '1ST ST', 'OCCIDENTAL BLVD', 'MELROSE AVE', 'AVALON BLVD', '1/2 S SAN PEDRO ST', 'VERMONT AVE', 'SANTA FE AVE', 'SUNSET BLVD STE 233', 'SANTA MONICA BLVD STE 25', 'WESTERN AVE', 'SANTA MONICA BLVD', 'HOPE ST', 'FLORENCE AVE', 'CENTRAL AVE', 'AVALON BLVD', 'SAN PEDRO ST', '2ND ST', 'SAN PEDRO ST', '3RD ST', 'WESTERN AVE', '1ST ST', '2ND ST', '2ND ST', '2ND ST', 'ALAMEDA ST', 'EDGEMONT ST', 'VERMONT AVE', 'ALAMEDA ST', 'NEWITT ST', 'LOS ANGELES ST', 'BROADWAY', 'ALAMEDA ST', 'SUNSET BLVD', 'TEMPLE ST FL', 'SANTA MONICA BLVD', 'ASTRONAUT ELLISON ONIZUKA ST STE 307', 'TRACTION AVE', 'SAN VICENTE BLVD', '1ST ST', '3RD ST', 'JEFFERSON BLVD ', 'OLYMPIC BLVD STE C,D&E', 'CESAR E CHAVEZ ST', 'HIGHLAND AVE', 'SUNSET BLVD', '6TH ST ', 'CESAR E. CHAVEZ AVE', 'MELROSE AVE', 'SAN PEDRO ST', 'HOLLYWOOD BLVD', 'MELROSE AVE', 'BEVERLY BLVD ', 'SUNSET BLVD STE B130', 'GLENDALE BLVD', 'SUNSET BLVD # D', 'CRENSHAW BLVD', 'WILSHIRE BLVD STE 201', '3RD ST ', 'WESTERN AVE -4', '6TH ST ', 'JEFFERSON BLVD A-B', '3RD ST', 'OLYMPIC BLVD', '6TH ST ', 'WESTERN AVE ', '1/2 N LA BREA AVE', 'OLIVE ST', 'TEMPLE ST', 'MELROSE AVE', 'VERMONT AVE', 'MANCHESTER AVE', 'SUNSET BLVD STE B', 'CESAR CHAVEZ AVE', 'MACLAY AVE', 'FIGUEROA ST', 'BEVERLY BLVD', 'SAN PEDRO ST', 'GRAND AVE STE D5', 'PICO BLVD UNIT 5', 'WESTERN AVE STE 132', 'MELROSE AVE', 'THE GROVE DR', 'BEVERLY BLVD', '3RD ST ', 'SUNSET BLVD', 'VERMONT AVE UNIT 103', 'SEPULVEDA BLVD', 'VERMONT AVE', '3RD ST ', 'SAWTELLE BLVD', 'CROCKER ST # S02', 'HILLHURST AVE', 'WHITTIER BLVD', '1/2 MELROSE AVE', 'WASHINGTON BLVD', '4TH ST', 'MELROSE AVE ', 'GRAND AVE', 'SOTO ST', 'EL CENTRO AVE', 'BEVERLY BLVD', 'SPRING ST ', '34TH ST', 'PICO BLVD', 'WILLOW ST', 'BEVERLY BLVD', '1/2 HILLHURST AVE', 'VERMONT AVE', '5TH ST', 'LOS ANGELES ST ', 'MAIN ST', 'FLORENCE AVE', 'VERMONT AVE ', '2ND ST', 'FLORENCE AVE', 'SUNSET BLVD STE 120', '7TH ST # G', 'VERMONT AVE  -102', 'HILLHURST AVE', 'SUNSET BLVD', 'HARVARD BLVD 2ND FLOOR', '6TH ST UNIT 101B', 'WILSHIRE BLVD UNIT 104', 'SPRING ST', 'PICO BLVD', 'ALAMEDA ST # B5', 'YORK BLVD', 'OLYMPIC BLVD STE 122', 'HIGHLAND AVE', 'JEFFERSON BLVD', 'HILLHURST AVE', 'VIRGIL AVE', 'HIGHLAND AVE', 'COLORADO BLVD UNIT B', 'FIGUEROA ST', 'HOLLYWOOD BLVD STE 102', 'OLYMPIC BLVD ', 'VERMONT BLVD', 'PICO BLVD ', 'OLYMPIC BLVD STE D', 'CENTRAL AVE', 'SANTA MONICA BLVD', 'VERMONT AVE', 'VINE ST', 'PICO BLVD', 'YORK BLVD', 'MAIN ST STE 404', 'MELROSE AVE', '7TH ST', 'WESTERN AVE STE 1', 'CENTURY BLVD', '5TH ST ', 'WHITTIER BLVD', 'OLYMPIC BLVD ', 'WILSHIRE BLVD ', 'HOLLYWOOD BLVD STE A', '1/2 MISSION RD', '5TH ST # R-105', 'WILSHIRE BLVD', 'PICO BLVD', 'CENTINEA AVE', 'MELROSE AVE', 'LA BREA AVE', 'OLIVE ST', 'GRIFFITH PARK BLVD', 'MCCLINTOCK AVE -B', 'MCDONELL AVE', 'SUNSET BLVD STE H', 'WILSHIRE BLVD', 'GRAND AVE #LP -370', 'SUNSET BLVD', 'FLORENCE AVE', 'CAHUENGA BLVD W', 'SUNSET BLVD', 'SUNSET BLVD ', 'GRAND AVE', 'WESTERN AVE STE 1', 'VERMONT AVE', 'SUNSET BLVD', 'SAN PEDRO ST', 'CAHUENGA BLVD', 'NATIONAL BLVD', 'LONG BEACH AVE', 'JEFFERSON BLVD ', 'WASHINGTON BLVD STE 1', 'SUNSET BLVD', '12TH ST ', 'CENTINELA AVE', 'HILLHURST AVE', 'LA BREA AVE', 'SUNSET BLVD', 'BEVERLY BLVD ', 'WESTERN AVE', 'EAGLE ROCK BLVD', 'WESTERN AVE', '3RD ST', 'OLYMPIC BLVD STE B', 'SANTA MONICA BLVD ', 'WEYBURN AVE', 'WINSTON ST', '5TH ST', '2ND ST', '1ST ST', 'MARTIN LUTHER KING JR', '3RD ST E', 'ADAMS BLVD', 'HOLLYWOOD BLVD', 'SLAUSON AVE # L-2', 'BARRINGTON CT', 'CRENSHAW BLVD', 'FIGUEROA ST', 'HOLLYWOOD BLVD', '1/2 N CAHUENGA BLVD', '2ND ST STE A', 'HOOVER ST', 'LA GRANGE AVE', 'SANTA ROSALIA DR # F', 'CENTRAL AVE', 'SANTA MONICA BLVD ', 'HILL ST', 'LA BREA AVE', 'CENTRAL AVE', 'FLORENCE AVE', 'MARTIN LUTHER KING JR. BLVD # K-1A', 'FIGUEROA ST', 'LINDBROOK DR', 'PICO BLVD', 'PICO BLVD', 'HOPE ST # ', 'VERMONT AVE', 'ALAMEDA SHL # S3', 'WORLD WAY ', '5TH ST', 'OLYMPIC BLVD', 'ALVARADO ST STE C', 'CROCKER ST', 'VERNON AVE', 'VERNON AVE', 'LE CONTE AVE', 'LA BREA AVE', 'WESTERN AVE ', 'WHITTIER BLVD', 'WORLD WAY', 'WESTERN AVE A', 'GAYLEY AVE', 'ADAMS BLVD', 'WILSHIRE BLVD', 'WILSHIRE BLVD', 'SANTA MONICA BLVD', '1/2 W ADAMS BLVD', 'FIGUEROA ST', '2ND ST UNIT C', 'PICO BLVD ', 'SAN PEDRO ST', 'MARTIN LUTHER KING JR', 'VENICE BLVD', 'ALPINE ST A', 'WESTERN AVE # D', '1/2 S WESTERN AVE', 'BROADWAY', '2ND ST # A', 'WILSHIRE BLVD STE 104', 'OLYMPIC BLVD', 'FIRESTONE BLVD', 'FIGUEROA ST', 'LOS ANGELES ST STE B', 'WESTERN AVE', 'FLETCHER DR', 'SAN VICENTE BLVD', 'VENICE BLVD', 'WILSHIRE BLVD STE G', '1ST ST', '2ND ST', '2ND ST STE A', 'SAWTELLE BLVD', 'CENTRAL AVE', 'FIGUEROA ST', 'FIGUEROA ST', '2ND ST # D', 'SAN VICENTE BLVD STE 116', '3RD ST STE 130', 'VENICE BLVD', 'BROXTON AVE', 'MOTOR AVE ', 'VERMONT AVE', 'SUNSET BLVD', 'ASTRONAUT E. S. ONIZUKA ST', 'ROBERTSON BLVD', 'SANTA MONICA BLVD # FC10', 'SLAUSON AVE # A18', 'AVENUE OF THE STARS ', 'SPRING ST', 'NADEAU ST', 'BEVERLY BLVD', 'ASTRONAUT E. S. ONIZUKA ST', 'GLENDON AVE', 'LA CIENEGA # B', 'MANCHESTER AVE', 'SANTA MONICA BLVD # FC22', 'VINE ST', 'FLORENCE AVE', 'SANTA MONICA BLVD STE FC3', 'WESTERN AVE', 'JEFFERSON BLVD', 'HOOVER ST', 'MARTIN LUTHER KING JR. BLVD STE 243', 'COMPTON AVE', 'CENTURY PARK E # J', 'WESTWOOD BLVD ', 'SAN VICENTE BLVD', 'OLYMPIC BLVD', 'FIGUEROA ST', 'WESTERN AVE', 'HILGARD AVE', 'SANTA MONICA BLVD ', 'HILHURST AVE', '2ND ST', 'SAN PEDRO ST', 'COMMERCIAL ST', 'LOS ANGELES ST ', 'LA CIENEGA BLVD # B', 'BROADWAY WAY STE 125', 'VENICE BLVD', 'SANTA MONICA BLVD', 'SAN PEDRO ST UNIT 310', 'BROADWAY ST', 'ROBERTSON BLVD', 'PICO BLVD', 'HUNTINGTON DR', 'VERMONT AVE', 'HOLLYWOOD BLVD', 'VERMONT AVE', 'SANTA MONICA BLVD', 'SAN VICENTE BLVD', 'VENICE BLVD', 'IMPERIAL HWY STE 105', 'SANTA MONICA BLVD', 'WILSHIRE BLVD', 'CAHUENGA BLVD', 'WILSHIRE BLVD ', '1/4 S SEPULVEDA BLVD', 'WILSHIRE BLVD', 'VERMONT AVE', 'WILSHIRE BLVD', 'BROADWAY PL', 'WILSHIRE BLVD', 'WHITTIER BLVD', 'CENTER DR ', 'BEVERLY BLVD UNIT A', 'WESTERN AVE', 'SAN PEDRO ST', 'MANCHESTER AVE ', 'FIGUEROA ST', 'PICO BLVD', 'MANCHESTER AVE', 'LOS ANGELES ST', 'ASTRONAUT E S ONIZUKA ST STE 203', 'ADAMS BLVD', 'ADAMS BLVD', 'WESTWOOD BLVD', 'VERMONT AVE', 'SAWTELLE BLVD', 'SUNSET BLVD', 'JEFFERSON BLVD ', 'GRAND AVE # C9', 'ALAMEDA ST', 'SUNSET BLVD', 'OVERLAND AVE', '2ND ST STE ', 'WASHINGTON BLVD # A', 'OLYMPIC BLVD ', 'SANTA MONICA BLVD ', 'HOLLYWOOD BLVD B', 'WESTWOOD BLVD', 'HOLLYWOOD BLVD', 'SANTA MONICA BLVD', '4TH ST', 'SANTA MONICA BLVD', 'WESTWOOD BLVD', 'ADAMS BLVD', 'WESTWOOD BLVD', 'SANTA FE AVE STE D', 'GRAND AVE STE #B-5', '9TH ST STE ', 'MARTIN LUTHER KING BLVD', 'MANCHESTER AVE STE 101', 'WESTWOOD BLVD', 'OVERLAND AVE ', 'FIGUEROA ST STE K', 'SANTA FE AVE # N', 'WILSHIRE BLVD ', 'VENICE BLVD', 'SANTA MONICA BLVD ', '2ND ST', 'ROBERTSON BLVD', 'HOLLYWOOD BLVD', 'FIGUEROA ST', 'FIGUEROA ST', 'BROXTON AVE', 'SANTA MONICA BLVD', 'FIGUEROA ST', '2ND ST', 'ADAMS BLVD', 'EL CENTRO AVE', 'WOODBINE ST STE 102', 'SPRING ST ', 'JEFFERSON BLVD', 'FIRESTONE BLVD', 'VERMONT AVE ', '1/2 MELROSE AVE', '2ND ST', '3RD ST', 'GLESS ST', 'WORLD WAY', 'SAN VICENTE BLVD', 'WESTERN AVE', 'WESTWOOD BLVD', 'NAUD ST', 'BROADWAY ST', 'VERMONT AVE', 'OLYMPIC BLVD', 'WHITTIER BLVD', 'SANTA MONICA BLVD STE FC4', 'MARTIN LUTHER KING ', 'WESTERN AVE # FC5', '3RD ST', 'ONIZUKA ST ', 'ASTRONAUT E S ONIZUKA ST C', 'SUNSET BLVD', 'SAN VICENTE BLVD', 'PICO BLVD', 'SANTA MONICA BLVD ', 'GRAND AVE # LP150', 'VENICE BLVD', 'SUNSET BLVD STE ', 'FIGUEROA ST ', 'WESTERN AVE', 'GORHAM AVE', 'BEVERLY GLEN CIR', 'SUNSET BLVD', 'OVERLAND AVE ', 'ADAMS BLVD', 'EXPOSITION PARK DR', 'JAPANESE VILLAGE PLAZA MALL', 'CENTRAL AVE', 'EASTERN AVE', 'HIGHLAND AVE', 'HOLLYWOOD BLVD', 'SANTA MONICA BLVD ', 'WESTERN AVE 3FL ', 'ROBERTSON BLVD ', 'CRENSHAW BLVD', 'MARLTON AVE', 'ALPINE ST', 'SAN VICENTE BLVD', 'SANTA MONICA BLVD ', 'COMPTON AVE', 'SUNSET BLVD', 'COMPTON AVE', 'SUNSET BLVD', '2ND ST', 'WESTWOOD BLVD', 'FIGUEROA ST #P', 'CENTURY PARK E STE #K', 'SAN VICENTE BLVD ', 'MARTIN LUTHER KING BLVD', 'FIGUEROA ST', 'CENTRAL AVE', 'LA CIENEGA BLVD', 'PICO BLVD', 'SAN VICENTE BLVD', 'BROADWAY BLVD STE 101A', 'LA BREA AVE', 'HOOVER ST', 'HOPE ST # -00', 'SPRING ST', 'SAWTELLE BLVD', 'SANTA MONICA BLVD ', 'SPRING ST -3', 'WILSHIRE BLVD ', 'LA CIENEGA BLVD', 'WORLD WAY', 'FIGUEROA ST', 'BARRINGTON CT', 'VERMONT AVE', 'VIGNES ST UNIT 6', 'WESTERN AVE', 'SANTA MONICA BLVD', 'GLENDON AVE', 'CRENSHAW BLVD', 'SANTA MONICA BLVD ', 'SAN PEDRO ST', 'FIRESTONE BLVD', 'BEVERLY BLVD', 'ADAMS BLVD', 'SAN VICENTE BLVD', 'SAN VICENTE BLVD ', 'WEYBURN AVE', 'FAIRFAX AVE BLDG A', 'SANTA MONICA BLVD ', 'PICO BLVD', 'FIGUEROA ST', 'BEVERLY GLEN CIR', 'SAN VICENTE BLVD STE 101', 'PALMS BLVD', '1ST ST', 'WESTERN AVE', 'PICO BLVD', '48TH ST', 'ALVARADO ST', 'ALAMEDA ST ', '34TH ST', 'HILL ST STE S-1', 'SLAUSON AVE', 'VENICE BLVD', 'SANTA MONICA BLVD FC08', '5TH ST', 'SANTA MONICA BLVD', 'WESTERN AVE # FC3', 'HOOVER ST', 'WESTERN AVE # FC4', 'SAN PEDRO ST', 'WORLD WAY # TM23', 'HOLLYWOOD BLVD', 'HOLLYWOOD BLVD', 'WESTERN AVE', 'CESAR E CHAVEZ AVE', 'MARTIN LUTHER KING JR BLVD STE 108', 'MOTOR AVE ', 'MLK JR BLVD', 'CRENSHAW BLVD', 'GRAND AVE', 'AVENUE OF THE STARS 30', '7TH ST', 'MARTIN LUTHER KING JR BLVD', 'SANTA MONICA BLVD ', 'SAWTELLE BLVD', 'FIGUEROA ST', 'VENICE BLVD', 'SANTA FE # P', 'ST ANDREWS PL', 'YORK BLVD', 'MELROSE AVE', 'SANTA MONICA BLVD ', 'SANTA MONICA BLVD ', 'WILSHIRE BLVD # ', 'SAN PEDRO ST', 'BROXTON AVE', 'SANTA MONICA BLVD', 'WEST BLVD', 'HOLLYWOOD BLVD FL 1ST F', 'FAIRFAX AVE', 'LOS FELIZ BLVD STE E-6', 'JEFFERSON BLVD', 'ASTRONAUT E S ONIZUKA ST ', 'SANTA MONICA BLVD # RS1', 'WESTERN AVE # FC2', 'HILL ST -A', 'WESTERN AVE', 'SUNSET BLVD STE ', 'GAREY ST', 'MAIN ST', 'WILSHIRE BLVD STE 180', 'WEYBURN AVE', 'FIGUEROA ST ', 'WASHINGTON PL', 'CENTURY BLVD', 'LA CIENEGA BLVD', 'ORD ST', 'JEFFERSON BLVD', 'SAWTELLE BLVD', 'MAIN ST ', 'ALVARADO ST # A', 'GRAND AVE # D-8', '3RD ST', 'VENICE BLVD', 'PICO BLVD', 'MELROSE PL', 'SANTA MONICA BLVD ', 'WILSHIRE BLVD', 'JEFFERSON BLVD', 'WESTWOOD BLVD # A', 'SUNSET BLVD', 'FIGUEROA ST # ', 'COMPTON AVE', '8TH ST', 'SUNSET BLVD # B', 'WILSHIRE BLVD', 'VIRGIL AVE', 'TOWNSEND AVE', 'STOCKER ST', 'WILSHIRE BLVD', 'FLOWER', 'MISSISSIPPI AVE', 'SUNSET BLVD', 'GRAND VIEW BLVD', 'WASHINGTON BLVD', 'MAIN ST', 'SAN PEDRO ST', 'WESTWOOD BLVD', 'BEVERLY BLVD', 'MARTIN LUTHER KING JR ', 'HILL ST STE F', 'WORLD WAY T5', 'LONG BEACH AVE', 'WORLD WAY STE T86', 'SANTA MONICA BLVD # FC2', '4TH PL', 'NATIONAL BLVD', 'ADAMS BLVD', 'FIGUEROA ST STE 211', 'HOOVER ST -A', 'HOPE ST ', 'SANTA MONICA BLVD STE 111', '6TH ST', 'CESAR E. CHAVEZ AVE ', 'FLORENCE AVE', 'SANTA MONICA BLVD ', 'WILSHIRE BLVD # P1', 'MELROSE AVE', 'WORLD WAY', 'LE CONTE AVE', 'ROBERTSON BLVD', 'VENICE BLVD', 'LOS ANGELES ST', '12TH ST', '3RD ST', 'PICO BLVD', 'SLAUSON AVE', 'DALY ST', 'COLORADO BLVD ', 'SANTA MONICA BLVD', 'FIGUEROA ST', 'FIGUEROA ST', 'WILSHIRE BLVD STE 102', '5TH ST', 'WILSHIRE BLVD UNIT 110F', 'SA VICENTE BLVD STE 100', 'SUNSET BLVD', 'CAHUENGA BLVD', 'WORLD WAY ', 'HOOVER ST STE 1835', 'SANTA MONICA BLVD ', 'FIGUEROA ST', 'SLAUSON AVE', 'HOOVER ST', 'LARCHMONT BLVD', '7TH ST', 'CESAR E. CHAVEZ AVE ', 'WILSHIRE BLVD', 'SUNSET BLVD', '8TH ST UNIT 103', 'SAWTELLE BLVD STE 101', 'EAGLE ROCK BLVD', 'FIGUEROA ST UNIT 100', 'FOREST AVE', 'ALAMEDA ST # A', 'WORLD WAY ', 'IVAR AVE', 'BEVERLY BLVD ', 'SANTA MONICA BLVD ', 'SANTA MONICA BLVD', 'WESTERN AVE ', 'BROADWAY ST # B', 'GRAND AVE', 'CAHUENGA BLVD', 'VERMONT AVE STE 3', 'FAIRFAX AVE', 'COLORADO BLVD', '1/4 1ST ST', 'BEVERLY BLVD', 'WESTERN AVE UNIT 202', 'FLORENCE AVE', 'VENICE BLVD', '8TH AVE', 'VAN NUYS BLVD', 'PICO BLVD', 'FIGUEROA ST ', 'SAN VICENTE BLVD STE 107', 'GRAND AVE -2', 'LINCOLN BLVD', 'SPRING ST STE R2', 'CORNWELL', 'COLORADO BLVD', 'BROADWAY PL', '2ND ST', 'VENICE BLVD', 'SAN PEDRO ST', 'JEFFERSON BLVD H', 'GAGE AVE', 'GAGE AVE STE A', 'JEFFERSON BLVD ', 'BROADWAY B-3', 'SAN VICENTE BLVD', 'SOTO ST', 'SUNSET BLVD', 'BROADWAY AVE', 'WORLD WAY', '16TH ST', 'CRENSHAW BLVD', 'CRENSHAW BLVD', 'WILSHIRE BLVD ', 'CENTURY BLVD', 'SEPULVEDA BLVD', 'ALVARADO ST', 'TEMPLE ST', '1ST ST', 'WILSHIRE BLVD # MEZZ', 'LONG BEACH AVE', 'FLORENCE AVE ', 'SPRING ST ', 'SILVERLAKE BLVD', 'MELROSE AVE', '1/2 W SUNSET BLVD', 'WORLD WAY # T73', 'FAIRFAX AVE', 'MANCHESTER AVE', 'WESTERN AVE ', 'FIRESTONE BLVD', 'FIGUEROA ST ', 'HOOVER ST', 'WILSHIRE BLVD', 'MATEO ST', 'CENTINELA AVE', 'WILSHIRE BLVD', 'ROBERTSON BLVD STE F', '3RD ST', 'HUNTINGTON DR N', 'GOWER ST', '1ST ST', 'HOLLYWOOD BLVD ', 'SANTA MONICA BLVD # FC23', '8TH ST', 'FLORENCE AVE', 'MARTIN LUTHER KING JR BLVD', 'JEFFERSON BLVD F 7G', 'COLORADO BLVD', 'COLORADO BLVD', '7TH ST ', 'FIGUEROA ST', 'MELROSE AVE', 'DALY ST', 'ATLANTIC BLVD', 'VERMONT AVE', 'WILSHIRE BLVD ', '1/2 N FAIRFAX AVE', 'FIGUEROA ST', 'PICO BLVD', 'SELMA AVE', 'SANTA MONICA BLVD ', '7TH ST', 'COTNER AVE', 'SPRING ST ', 'PICO BLVD ', 'SAN FERNANDO RD', 'VINE ST', 'HOLLYWOOD BLVD', 'DEGNAN BLVD', 'CRENSHAW BLVD', 'WHITTIER BLVD', 'GLENDALE BLVD', 'WILSHIRE BLVD', 'BROADWAY', 'SPRING ST', 'WASHINGTON', 'VENICE BLVD', 'VERMONT AVE ', 'EASTERN AVE', 'BROXTON AVE', 'OLYMPIC BLVD STE 1086', 'BROADWAY # A-B', 'JEFFERSON BLVD', 'WHITTIER BLVD 101-2', '7TH ST # B224', 'SAN PEDRO ST', '1ST ST', 'SPRING ST STE 134', 'YORK BLVD', '4TH ST # C201', 'VERMONT AVE', 'FIGUEROA ST # L', 'OLYMPIC BLVD STE B', 'WESTERN AVE', 'BROADWAY', 'FIGUEROA', 'BEVERLY BLVD ', 'MELROSE AVE', 'CRENSHAW BLVD', 'CENTURY BLVD STE 180', 'CENTRAL AVE', 'WESTERN AVE', 'VENICE BLVD', 'CENTRAL AVE', 'BARRY AVE', 'BARRINGTON CT', 'HYDE PARK BLVD', 'SUNSET BLVD ', 'BOYLE AVE', 'WILSHIRE BLVD A', '3/4 1ST ST', '8TH ST', '3RD ST', 'SAN JULIAN ST STE 112', '1ST ST', '12TH ST STE 249', 'VERMONT AVE', 'WHITTIER BLVD', 'EASTERN AVE', '5TH ST', 'CESAR CHAVEZ AVE', 'EASTERN AVE', 'BRONSON AVE', 'WASHINGTON BLVD', 'SANTA MONICA BLVD # FC5', 'WESTERN AVE STE 103', 'VERMONT AVE', 'FLOWER ST # G600', 'VIRGIL AVE ', 'FIGUEROA ST', '1ST ST', 'ATLANTIC BLVD # A', 'SUNSET BLVD', 'GATEWAY PLZ', 'BROADWAY BLVD', 'WORLD WAY # T71', 'SUNSET BLVD', 'EVANS ST', 'WHITTIER BLVD', 'BEVERLY BLVD', 'ROBERTSON BLVD', 'WILSHIRE BLVD ', 'NEWELL AVE', 'VERMONT AVE', 'OLIVE ST', 'OLYMPIC BLVD', 'SAN PEDRO ST', 'VERMONT AVE', 'PICO BLVD', 'OLYMPIC BLVD ', 'CENTRAL AVE', 'MELROSE AVE', 'PICO BLVD', 'HUNTINGTON DR', 'WALL ST ', 'HOLLYWOOD BLVD', 'SOTO ST', 'TRACTION AVE', '42ND ST', 'VENICE BLVD', 'PICO BLVD', 'HOLLYWOOD BLVD STE 309', 'PICO BLVD', 'VERNON AVE', 'LA CIENEGA BLVD', 'ALHAMBRA AVE', 'FIGUEROA ST FL 9TH', 'SPRING ST', 'SAN PEDRO ST STE F', '9TH AVE', '5TH ST', 'SUNSET BLVD', '6TH ST', 'CRENSHAW BLVD', 'SPRING ST', 'BEVERLY BLVD', '1/2 MELROSE AVE', 'LAS PALMAS ST', 'SANTA FE AVE', 'PICO BLVD', 'LILLIAN WAY', 'SPRING ', 'GRAND AVE', 'SPRING ST', 'CESAR E CHAVEZ', '8TH ST', '9TH ST', 'CENTRAL AVE', 'WILSHIRE BLVD ', 'BUNDY DR', 'BEVERLY BLVD', 'SUNSET BLVD', 'MARIPOSA AVE', '7TH ST', '7TH ST', 'WESTERN AVE UNIT 1', 'BROADWAY ', 'WASHINGTON BLVD', 'MARIPOSA AVE', 'BROADWAY', 'FIGUEROA ST', 'CRENSHAW BLVD', 'SLAUSON AVE', 'GRAND AVE', 'SUNSET BLVD', 'FLORENCE AVE', 'WESTERN AVE UNIT 119', 'SANTA MONICA BLVD', 'LA BREA AVE', '6TH ST STE 2A', 'WESTWOOD BLVD', 'FIGUEROA ST', 'GAGE AVE', 'COLORADO BLVD', 'SANTA MONICA BLVD ', 'SUNOL DR', 'NEW HAMPSHIRE AVE', 'LARCHMONT BLVD', 'OLYMPIC BLVD', '1/2 CITY TERRACE DR', 'HOLLYWOOD BLVD', 'COLORADO BLVD', 'WILSHIRE BLVD', 'LANKERSHIM BLVD', 'OLYMPIC BLVD', 'WHITTIER BLVD', 'FLORENCE AVE', 'JAMES WOOD BLVD', 'WESTERN AVE', 'AVALON BLVD', 'OLYMPIC BLVD ', 'BROADWAY', 'WASHINGTON PL', 'AVALON BLVD', 'SANTA MONICA BLVD', 'OLYMPIC BLVD', 'ALAVARADO ST STE C', 'PICO BLVD', 'JAMES WOOD BLVD', 'MELROSE AVE', 'OVERLAND AVE ', 'MARTIN LUTHER KING JR BLVD', 'HILL ST', 'OLYMPIC BLVD STE B', 'HOLLYWOOD BLVD ', 'LA TIJERA BLVD # A-B', '1/2 7TH ST', 'CENTRAL AVE', 'WESTERN AVE', 'WESTWOOD BLVD', 'CRENSHAW BLVD', 'WHITTIER BLVD', 'LOS ANGELES ST', '1ST ST', 'SANTA MONICA BLVD ', 'TEMPLE AVE', 'MELROSE AVE', 'HOLLYWOOD BLVD', 'SPRING ST STE 100', 'SAN PEDRO ST STE 111']\n"
     ]
    }
   ],
   "source": [
    "# Get all values in the 'street_name' column\n",
    "all_street_names = df['street_name'].tolist()\n",
    "\n",
    "# Display the result\n",
    "print(all_street_names)"
   ]
  },
  {
   "cell_type": "markdown",
   "metadata": {},
   "source": [
    "## Plot a graph of the top ten streets by number of restaurants.\n"
   ]
  },
  {
   "cell_type": "code",
   "execution_count": 37,
   "metadata": {},
   "outputs": [
    {
     "name": "stdout",
     "output_type": "stream",
     "text": [
      "SUNSET BLVD              322\n",
      "PICO BLVD                311\n",
      "FIGUEROA ST              221\n",
      "VERMONT AVE              210\n",
      "WESTERN AVE              192\n",
      "                        ... \n",
      "HOLLYWOOD BLVD B           1\n",
      "WESTWOOD PLZ A260          1\n",
      "STA MON BLVD STE FC-8      1\n",
      "WESTWOOD BLVD STE 1G       1\n",
      "MAPLE AVE                  1\n",
      "Name: street_name, Length: 2249, dtype: int64\n"
     ]
    }
   ],
   "source": [
    "# Get unique values and their counts\n",
    "unique_street_names = df['street_name'].value_counts()\n",
    "\n",
    "# Display the result\n",
    "print(unique_street_names)"
   ]
  },
  {
   "cell_type": "code",
   "execution_count": 38,
   "metadata": {},
   "outputs": [
    {
     "name": "stdout",
     "output_type": "stream",
     "text": [
      "SUNSET BLVD       322\n",
      "PICO BLVD         311\n",
      "FIGUEROA ST       221\n",
      "VERMONT AVE       210\n",
      "WESTERN AVE       192\n",
      "OLYMPIC BLVD      184\n",
      "HOLLYWOOD BLVD    176\n",
      "3RD ST            169\n",
      "WILSHIRE BLVD     168\n",
      "BEVERLY BLVD      161\n",
      "Name: street_name, dtype: int64\n"
     ]
    }
   ],
   "source": [
    "# Display the top 10 street names and their counts\n",
    "top_10_street_names = unique_street_names.head(10)\n",
    "print(top_10_street_names)"
   ]
  },
  {
   "cell_type": "code",
   "execution_count": 39,
   "metadata": {},
   "outputs": [
    {
     "data": {
      "image/png": "[encoded data removed]",
      "text/plain": [
       "<Figure size 864x432 with 1 Axes>"
      ]
     },
     "metadata": {
      "needs_background": "light"
     },
     "output_type": "display_data"
    }
   ],
   "source": [
    "# Get unique values and their counts in the 'street_name' column\n",
    "unique_street_names = df['street_name'].value_counts()\n",
    "\n",
    "# Plot a bar graph\n",
    "plt.figure(figsize=(12, 6))\n",
    "unique_street_names[:15].plot(kind='bar', color='skyblue')\n",
    "plt.title('Top 10 Street Names and Their Counts')\n",
    "plt.xlabel('Street Name')\n",
    "plt.ylabel('Count')\n",
    "plt.show()"
   ]
  },
  {
   "cell_type": "markdown",
   "metadata": {},
   "source": [
    "## Find the number of streets that only have one restaurant.\n"
   ]
  },
  {
   "cell_type": "code",
   "execution_count": 40,
   "metadata": {},
   "outputs": [
    {
     "name": "stdout",
     "output_type": "stream",
     "text": [
      "Number of streets with only one restaurant: 1376\n"
     ]
    }
   ],
   "source": [
    "# Filter the DataFrame for restaurants\n",
    "restaurants_df = df[df['establishment_type'] == 'Restaurant']\n",
    "\n",
    "# Count the number of unique streets with only one restaurant\n",
    "streets_with_one_restaurant = restaurants_df['street_name'].value_counts()\n",
    "streets_count = sum(streets_with_one_restaurant == 1)\n",
    "\n",
    "print(f\"Number of streets with only one restaurant: {streets_count}\")\n"
   ]
  },
  {
   "cell_type": "markdown",
   "metadata": {},
   "source": [
    "## For streets with a lot of restaurants, look at the distribution of the number of seats. What trends can you see?\n"
   ]
  },
  {
   "cell_type": "code",
   "execution_count": 41,
   "metadata": {},
   "outputs": [
    {
     "data": {
      "text/html": [
       "<div>\n",
       "<style scoped>\n",
       "    .dataframe tbody tr th:only-of-type {\n",
       "        vertical-align: middle;\n",
       "    }\n",
       "\n",
       "    .dataframe tbody tr th {\n",
       "        vertical-align: top;\n",
       "    }\n",
       "\n",
       "    .dataframe thead th {\n",
       "        text-align: right;\n",
       "    }\n",
       "</style>\n",
       "<table border=\"1\" class=\"dataframe\">\n",
       "  <thead>\n",
       "    <tr style=\"text-align: right;\">\n",
       "      <th></th>\n",
       "      <th>id</th>\n",
       "      <th>establishment_name</th>\n",
       "      <th>address</th>\n",
       "      <th>chain</th>\n",
       "      <th>establishment_type</th>\n",
       "      <th>seats</th>\n",
       "      <th>street_name</th>\n",
       "    </tr>\n",
       "  </thead>\n",
       "  <tbody>\n",
       "    <tr>\n",
       "      <th>3</th>\n",
       "      <td>11789</td>\n",
       "      <td>TRINITI ECHO PARK</td>\n",
       "      <td>1814 W SUNSET BLVD</td>\n",
       "      <td>False</td>\n",
       "      <td>Restaurant</td>\n",
       "      <td>22</td>\n",
       "      <td>SUNSET BLVD</td>\n",
       "    </tr>\n",
       "    <tr>\n",
       "      <th>10</th>\n",
       "      <td>11796</td>\n",
       "      <td>EL POLLO LOCO</td>\n",
       "      <td>5319 W SUNSET BLVD</td>\n",
       "      <td>True</td>\n",
       "      <td>Restaurant</td>\n",
       "      <td>38</td>\n",
       "      <td>SUNSET BLVD</td>\n",
       "    </tr>\n",
       "    <tr>\n",
       "      <th>16</th>\n",
       "      <td>11802</td>\n",
       "      <td>HMS BOUNTY</td>\n",
       "      <td>3357 WILSHIRE BLVD</td>\n",
       "      <td>False</td>\n",
       "      <td>Restaurant</td>\n",
       "      <td>147</td>\n",
       "      <td>WILSHIRE BLVD</td>\n",
       "    </tr>\n",
       "    <tr>\n",
       "      <th>22</th>\n",
       "      <td>11808</td>\n",
       "      <td>CAMY'S GRILL</td>\n",
       "      <td>3339 WILSHIRE BLVD</td>\n",
       "      <td>False</td>\n",
       "      <td>Restaurant</td>\n",
       "      <td>39</td>\n",
       "      <td>WILSHIRE BLVD</td>\n",
       "    </tr>\n",
       "    <tr>\n",
       "      <th>28</th>\n",
       "      <td>11814</td>\n",
       "      <td>BEVERLY FALAFEL</td>\n",
       "      <td>8508 W 3RD ST</td>\n",
       "      <td>False</td>\n",
       "      <td>Restaurant</td>\n",
       "      <td>31</td>\n",
       "      <td>3RD ST</td>\n",
       "    </tr>\n",
       "    <tr>\n",
       "      <th>...</th>\n",
       "      <td>...</td>\n",
       "      <td>...</td>\n",
       "      <td>...</td>\n",
       "      <td>...</td>\n",
       "      <td>...</td>\n",
       "      <td>...</td>\n",
       "      <td>...</td>\n",
       "    </tr>\n",
       "    <tr>\n",
       "      <th>9619</th>\n",
       "      <td>21405</td>\n",
       "      <td>HOUSE OF CURRY</td>\n",
       "      <td>1888 S WESTERN AVE</td>\n",
       "      <td>False</td>\n",
       "      <td>Restaurant</td>\n",
       "      <td>21</td>\n",
       "      <td>WESTERN AVE</td>\n",
       "    </tr>\n",
       "    <tr>\n",
       "      <th>9626</th>\n",
       "      <td>21412</td>\n",
       "      <td>CHICKEN KABOO MEDITERRANEAN GRILL</td>\n",
       "      <td>4729 E OLYMPIC BLVD</td>\n",
       "      <td>False</td>\n",
       "      <td>Restaurant</td>\n",
       "      <td>40</td>\n",
       "      <td>OLYMPIC BLVD</td>\n",
       "    </tr>\n",
       "    <tr>\n",
       "      <th>9628</th>\n",
       "      <td>21414</td>\n",
       "      <td>KIFF KAFE</td>\n",
       "      <td>12217 W PICO BLVD</td>\n",
       "      <td>False</td>\n",
       "      <td>Restaurant</td>\n",
       "      <td>29</td>\n",
       "      <td>PICO BLVD</td>\n",
       "    </tr>\n",
       "    <tr>\n",
       "      <th>9639</th>\n",
       "      <td>21425</td>\n",
       "      <td>MCDONALD'S</td>\n",
       "      <td>1800 S WESTERN AVE</td>\n",
       "      <td>True</td>\n",
       "      <td>Fast Food</td>\n",
       "      <td>135</td>\n",
       "      <td>WESTERN AVE</td>\n",
       "    </tr>\n",
       "    <tr>\n",
       "      <th>9648</th>\n",
       "      <td>21434</td>\n",
       "      <td>JUICY WINGZ</td>\n",
       "      <td>6741 HOLLYWOOD BLVD</td>\n",
       "      <td>True</td>\n",
       "      <td>Fast Food</td>\n",
       "      <td>15</td>\n",
       "      <td>HOLLYWOOD BLVD</td>\n",
       "    </tr>\n",
       "  </tbody>\n",
       "</table>\n",
       "<p>2114 rows × 7 columns</p>\n",
       "</div>"
      ],
      "text/plain": [
       "         id                 establishment_name              address  chain  \\\n",
       "3     11789                  TRINITI ECHO PARK   1814 W SUNSET BLVD  False   \n",
       "10    11796                      EL POLLO LOCO   5319 W SUNSET BLVD   True   \n",
       "16    11802                         HMS BOUNTY   3357 WILSHIRE BLVD  False   \n",
       "22    11808                       CAMY'S GRILL   3339 WILSHIRE BLVD  False   \n",
       "28    11814                    BEVERLY FALAFEL        8508 W 3RD ST  False   \n",
       "...     ...                                ...                  ...    ...   \n",
       "9619  21405                     HOUSE OF CURRY   1888 S WESTERN AVE  False   \n",
       "9626  21412  CHICKEN KABOO MEDITERRANEAN GRILL  4729 E OLYMPIC BLVD  False   \n",
       "9628  21414                          KIFF KAFE    12217 W PICO BLVD  False   \n",
       "9639  21425                         MCDONALD'S   1800 S WESTERN AVE   True   \n",
       "9648  21434                        JUICY WINGZ  6741 HOLLYWOOD BLVD   True   \n",
       "\n",
       "     establishment_type  seats     street_name  \n",
       "3            Restaurant     22     SUNSET BLVD  \n",
       "10           Restaurant     38     SUNSET BLVD  \n",
       "16           Restaurant    147   WILSHIRE BLVD  \n",
       "22           Restaurant     39   WILSHIRE BLVD  \n",
       "28           Restaurant     31          3RD ST  \n",
       "...                 ...    ...             ...  \n",
       "9619         Restaurant     21     WESTERN AVE  \n",
       "9626         Restaurant     40    OLYMPIC BLVD  \n",
       "9628         Restaurant     29       PICO BLVD  \n",
       "9639          Fast Food    135     WESTERN AVE  \n",
       "9648          Fast Food     15  HOLLYWOOD BLVD  \n",
       "\n",
       "[2114 rows x 7 columns]"
      ]
     },
     "execution_count": 41,
     "metadata": {},
     "output_type": "execute_result"
    }
   ],
   "source": [
    "# etermine the threshold \n",
    "threshold = 150\n",
    "\n",
    "# Group the data by 'street_name'\n",
    "grouped_by_street = df.groupby('street_name')\n",
    "\n",
    "# Filter the grouped data to include only streets with more than the threshold\n",
    "streets_with_a_lot_of_restaurants = grouped_by_street.filter(lambda x: len(x) > threshold)\n",
    "\n",
    "# display the new DataFrame\n",
    "streets_with_a_lot_of_restaurants"
   ]
  },
  {
   "cell_type": "code",
   "execution_count": 42,
   "metadata": {},
   "outputs": [
    {
     "data": {
      "image/png": "[encoded data removed]",
      "text/plain": [
       "<Figure size 864x432 with 1 Axes>"
      ]
     },
     "metadata": {
      "needs_background": "light"
     },
     "output_type": "display_data"
    }
   ],
   "source": [
    "# Graph the 'street' column\n",
    "plt.figure(figsize=(12, 6))\n",
    "streets_with_a_lot_of_restaurants['street_name'].value_counts().plot(kind='bar', color='skyblue')\n",
    "plt.title('Distribution of Streets with a Lot of Restaurants')\n",
    "plt.xlabel('Street Name')\n",
    "plt.ylabel('Count')\n",
    "plt.show()"
   ]
  },
  {
   "cell_type": "markdown",
   "metadata": {},
   "source": [
    "\n",
    "## Draw an overall conclusion and provide recommendations on restaurant type and number of seats. Comment on the possibility of developing a chain. "
   ]
  },
  {
   "cell_type": "markdown",
   "metadata": {},
   "source": [
    "Current make up of Restaurants in Los Angeles\n",
    "\n",
    "**Chain Restaurants:**\n",
    "* 38,1% are chain restaurants\n",
    "* 61.9% are not chain restaurants\n",
    "\n",
    "**Which Establishments are mostly Chains**\n",
    "\n",
    "* 2292 restaurants\n",
    "* 605 fast food\n",
    "* 283 bakery\n",
    "* 266 café \n",
    "* 153 pizza\n",
    "* 77 bar\n",
    "* 4961 are not chains\n",
    "\n",
    "\n",
    "#### **The streets with lots of restaurants have lots of seats. These Restaurants tend to be sit-in which means that people want to be served by people**\n",
    "\n",
    "\n",
    "#### Will a small robot run cafe be able to maintain its success when the novelty of robot waiters wears off?\n",
    "\n",
    "Only in smaller simpler streets with less restaurants and not as a chain"
   ]
  },
  {
   "cell_type": "markdown",
   "metadata": {},
   "source": [
    "# Part 3. Preparing a presentation\n",
    "\n",
    "- Presentation: <https://drive.google.com/file/d/1lfEnEni_2Ty84kGpPRaFA8meNS0RIvNO/view?usp=drive_link> "
   ]
  }
 ],
 "metadata": {
  "kernelspec": {
   "display_name": "Python 3 (ipykernel)",
   "language": "python",
   "name": "python3"
  },
  "language_info": {
   "codemirror_mode": {
    "name": "ipython",
    "version": 3
   },
   "file_extension": ".py",
   "mimetype": "text/x-python",
   "name": "python",
   "nbconvert_exporter": "python",
   "pygments_lexer": "ipython3",
   "version": "3.9.5"
  },
  "toc": {
   "base_numbering": 1,
   "nav_menu": {},
   "number_sections": true,
   "sideBar": true,
   "skip_h1_title": true,
   "title_cell": "Table of Contents",
   "title_sidebar": "Contents",
   "toc_cell": false,
   "toc_position": {},
   "toc_section_display": true,
   "toc_window_display": false
  }
 },
 "nbformat": 4,
 "nbformat_minor": 2
}
